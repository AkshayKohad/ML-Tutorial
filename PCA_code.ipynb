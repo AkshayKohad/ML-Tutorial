{
  "nbformat": 4,
  "nbformat_minor": 0,
  "metadata": {
    "colab": {
      "provenance": [],
      "authorship_tag": "ABX9TyN5r9x1Sq3GRwvgMFRwreee",
      "include_colab_link": true
    },
    "kernelspec": {
      "name": "python3",
      "display_name": "Python 3"
    },
    "language_info": {
      "name": "python"
    }
  },
  "cells": [
    {
      "cell_type": "markdown",
      "metadata": {
        "id": "view-in-github",
        "colab_type": "text"
      },
      "source": [
        "<a href=\"https://colab.research.google.com/github/AkshayKohad/ML-Tutorial/blob/main/PCA_code.ipynb\" target=\"_parent\"><img src=\"https://colab.research.google.com/assets/colab-badge.svg\" alt=\"Open In Colab\"/></a>"
      ]
    },
    {
      "cell_type": "code",
      "execution_count": 95,
      "metadata": {
        "id": "QUiKpjHzd6dQ"
      },
      "outputs": [],
      "source": [
        "import numpy as np\n",
        "import pandas as pd\n",
        "\n",
        "import warnings\n",
        "warnings.filterwarnings('ignore')\n"
      ]
    },
    {
      "cell_type": "code",
      "source": [
        "from sklearn.datasets import load_digits"
      ],
      "metadata": {
        "id": "oNbYiJZveKln"
      },
      "execution_count": 96,
      "outputs": []
    },
    {
      "cell_type": "code",
      "source": [
        "digits = load_digits()"
      ],
      "metadata": {
        "id": "WPvPMte0eQld"
      },
      "execution_count": 97,
      "outputs": []
    },
    {
      "cell_type": "code",
      "source": [
        "X = digits['data']"
      ],
      "metadata": {
        "id": "j_qmnp99eUC7"
      },
      "execution_count": 98,
      "outputs": []
    },
    {
      "cell_type": "code",
      "source": [
        "X.shape"
      ],
      "metadata": {
        "colab": {
          "base_uri": "https://localhost:8080/"
        },
        "id": "3asKn6neeWs9",
        "outputId": "7de1818a-6cdc-4fee-a45b-324328bbd69c"
      },
      "execution_count": 99,
      "outputs": [
        {
          "output_type": "execute_result",
          "data": {
            "text/plain": [
              "(1797, 64)"
            ]
          },
          "metadata": {},
          "execution_count": 99
        }
      ]
    },
    {
      "cell_type": "markdown",
      "source": [
        "####Step 1\n"
      ],
      "metadata": {
        "id": "0Lv1eT5sffV9"
      }
    },
    {
      "cell_type": "code",
      "source": [
        "mu = X.mean(axis=0)\n",
        "# Mean Centering\n",
        "X_ = (X-mu)\n",
        "X_.shape"
      ],
      "metadata": {
        "colab": {
          "base_uri": "https://localhost:8080/"
        },
        "id": "YfKzK4tke5X3",
        "outputId": "487e684c-fb49-4073-98f3-61d481ccf660"
      },
      "execution_count": 100,
      "outputs": [
        {
          "output_type": "execute_result",
          "data": {
            "text/plain": [
              "(1797, 64)"
            ]
          },
          "metadata": {},
          "execution_count": 100
        }
      ]
    },
    {
      "cell_type": "markdown",
      "source": [
        "####Step 2"
      ],
      "metadata": {
        "id": "uV26otWCflDT"
      }
    },
    {
      "cell_type": "code",
      "source": [
        "S = np.dot(X_.T,X_)\n",
        "S.shape"
      ],
      "metadata": {
        "colab": {
          "base_uri": "https://localhost:8080/"
        },
        "id": "7SZBFhS8fjyQ",
        "outputId": "74305a34-1da4-47fb-ef7b-bdd5b134d13e"
      },
      "execution_count": 101,
      "outputs": [
        {
          "output_type": "execute_result",
          "data": {
            "text/plain": [
              "(64, 64)"
            ]
          },
          "metadata": {},
          "execution_count": 101
        }
      ]
    },
    {
      "cell_type": "markdown",
      "source": [
        "####Step 3"
      ],
      "metadata": {
        "id": "yYAsn5FlfwP9"
      }
    },
    {
      "cell_type": "code",
      "source": [
        "lambdas,vectors = np.linalg.eig(S)\n"
      ],
      "metadata": {
        "id": "IL14tZnHfzB3"
      },
      "execution_count": 102,
      "outputs": []
    },
    {
      "cell_type": "code",
      "source": [
        "lambdas.shape"
      ],
      "metadata": {
        "colab": {
          "base_uri": "https://localhost:8080/"
        },
        "id": "GZKJTEv8f-eK",
        "outputId": "cd12e782-6cb2-45d7-cb08-a4ce6dbf650e"
      },
      "execution_count": 103,
      "outputs": [
        {
          "output_type": "execute_result",
          "data": {
            "text/plain": [
              "(64,)"
            ]
          },
          "metadata": {},
          "execution_count": 103
        }
      ]
    },
    {
      "cell_type": "code",
      "source": [
        "lambdas[:2]"
      ],
      "metadata": {
        "colab": {
          "base_uri": "https://localhost:8080/"
        },
        "id": "YEQ8YyW7gB1U",
        "outputId": "54c00bfd-2a68-4d86-d352-e6bff6c563ff"
      },
      "execution_count": 104,
      "outputs": [
        {
          "output_type": "execute_result",
          "data": {
            "text/plain": [
              "array([321496.44645596, 294037.07339949])"
            ]
          },
          "metadata": {},
          "execution_count": 104
        }
      ]
    },
    {
      "cell_type": "code",
      "source": [
        "vectors.shape"
      ],
      "metadata": {
        "colab": {
          "base_uri": "https://localhost:8080/"
        },
        "id": "JHsumlNDgIwr",
        "outputId": "33a32490-91f3-47ef-cd32-eec9260effe6"
      },
      "execution_count": 105,
      "outputs": [
        {
          "output_type": "execute_result",
          "data": {
            "text/plain": [
              "(64, 64)"
            ]
          },
          "metadata": {},
          "execution_count": 105
        }
      ]
    },
    {
      "cell_type": "markdown",
      "source": [
        "####Step 4"
      ],
      "metadata": {
        "id": "8hnbSAIfgZki"
      }
    },
    {
      "cell_type": "code",
      "source": [
        "# Vectors are kept column wise, so if we want 2 features we will do vectors[:,:2]  so it's shape will be (13,2) -> 13 is dimension of 1 vector and we have total of 2 vectors"
      ],
      "metadata": {
        "id": "2MC5hM10gL3r"
      },
      "execution_count": 106,
      "outputs": []
    },
    {
      "cell_type": "code",
      "source": [
        "V = vectors[:,:2]\n",
        "V.shape"
      ],
      "metadata": {
        "colab": {
          "base_uri": "https://localhost:8080/"
        },
        "id": "_CXdW2jMg9zP",
        "outputId": "e696778b-d437-4040-97ad-af7ba11c0282"
      },
      "execution_count": 107,
      "outputs": [
        {
          "output_type": "execute_result",
          "data": {
            "text/plain": [
              "(64, 2)"
            ]
          },
          "metadata": {},
          "execution_count": 107
        }
      ]
    },
    {
      "cell_type": "markdown",
      "source": [
        "#### Projection"
      ],
      "metadata": {
        "id": "bHMzGRnHhHaN"
      }
    },
    {
      "cell_type": "code",
      "source": [
        "X_.shape"
      ],
      "metadata": {
        "colab": {
          "base_uri": "https://localhost:8080/"
        },
        "id": "Nqi3l-GdhFGx",
        "outputId": "8be5ffc8-a785-421e-9b33-47a712db1dc1"
      },
      "execution_count": 108,
      "outputs": [
        {
          "output_type": "execute_result",
          "data": {
            "text/plain": [
              "(1797, 64)"
            ]
          },
          "metadata": {},
          "execution_count": 108
        }
      ]
    },
    {
      "cell_type": "code",
      "source": [
        "V.shape"
      ],
      "metadata": {
        "colab": {
          "base_uri": "https://localhost:8080/"
        },
        "id": "Lxh7g38DhMWh",
        "outputId": "46e51ef6-27dd-4884-a230-7555ec18a5e5"
      },
      "execution_count": 109,
      "outputs": [
        {
          "output_type": "execute_result",
          "data": {
            "text/plain": [
              "(64, 2)"
            ]
          },
          "metadata": {},
          "execution_count": 109
        }
      ]
    },
    {
      "cell_type": "code",
      "source": [
        "X_new = np.dot(X_,V)\n",
        "X_new.shape"
      ],
      "metadata": {
        "colab": {
          "base_uri": "https://localhost:8080/"
        },
        "id": "uv15tVVIhN6Q",
        "outputId": "78a09763-f964-4af8-e10d-6a01a239bc65"
      },
      "execution_count": 110,
      "outputs": [
        {
          "output_type": "execute_result",
          "data": {
            "text/plain": [
              "(1797, 2)"
            ]
          },
          "metadata": {},
          "execution_count": 110
        }
      ]
    },
    {
      "cell_type": "code",
      "source": [
        "# Now this X_new is projecting the 13 dimensions data into 2 dimensions"
      ],
      "metadata": {
        "id": "EYZvEyDuhc7H"
      },
      "execution_count": 111,
      "outputs": []
    },
    {
      "cell_type": "code",
      "source": [
        "X_new[:5]"
      ],
      "metadata": {
        "colab": {
          "base_uri": "https://localhost:8080/"
        },
        "id": "5K4uuCtFhk-J",
        "outputId": "c48a5d30-ea26-48ea-8c27-e47128e4ff29"
      },
      "execution_count": 112,
      "outputs": [
        {
          "output_type": "execute_result",
          "data": {
            "text/plain": [
              "array([[  1.25946645, -21.27488348],\n",
              "       [ -7.9576113 ,  20.76869896],\n",
              "       [ -6.99192297,   9.95598641],\n",
              "       [ 15.90610526,  -3.33246429],\n",
              "       [-23.30686741,  -4.26906083]])"
            ]
          },
          "metadata": {},
          "execution_count": 112
        }
      ]
    },
    {
      "cell_type": "code",
      "source": [
        "total = sum(lambdas)"
      ],
      "metadata": {
        "id": "wqv8-w7ChlDR"
      },
      "execution_count": 113,
      "outputs": []
    },
    {
      "cell_type": "code",
      "source": [
        "explained_variance = np.round(lambdas/total,3)\n",
        "explained_variance"
      ],
      "metadata": {
        "colab": {
          "base_uri": "https://localhost:8080/"
        },
        "id": "_8yi_qd-ilLe",
        "outputId": "e6cbece4-5f3c-48a8-b991-15cb470726b8"
      },
      "execution_count": 114,
      "outputs": [
        {
          "output_type": "execute_result",
          "data": {
            "text/plain": [
              "array([0.149, 0.136, 0.118, 0.084, 0.058, 0.049, 0.043, 0.037, 0.034,\n",
              "       0.031, 0.024, 0.023, 0.018, 0.018, 0.015, 0.014, 0.013, 0.012,\n",
              "       0.01 , 0.009, 0.009, 0.008, 0.008, 0.007, 0.007, 0.006, 0.006,\n",
              "       0.005, 0.005, 0.004, 0.004, 0.004, 0.003, 0.003, 0.003, 0.003,\n",
              "       0.003, 0.002, 0.002, 0.002, 0.002, 0.002, 0.002, 0.001, 0.001,\n",
              "       0.001, 0.001, 0.001, 0.001, 0.   , 0.   , 0.   , 0.   , 0.   ,\n",
              "       0.   , 0.   , 0.   , 0.   , 0.   , 0.   , 0.   , 0.   , 0.   ,\n",
              "       0.   ])"
            ]
          },
          "metadata": {},
          "execution_count": 114
        }
      ]
    },
    {
      "cell_type": "code",
      "source": [
        "cummulative_variance = np.cumsum(explained_variance)\n",
        "cummulative_variance"
      ],
      "metadata": {
        "colab": {
          "base_uri": "https://localhost:8080/"
        },
        "id": "gDeOURZXjIeL",
        "outputId": "1c20a398-78fb-48f0-fba1-40b8f811f130"
      },
      "execution_count": 122,
      "outputs": [
        {
          "output_type": "execute_result",
          "data": {
            "text/plain": [
              "array([0.149, 0.285, 0.403, 0.487, 0.545, 0.594, 0.637, 0.674, 0.708,\n",
              "       0.739, 0.763, 0.786, 0.804, 0.822, 0.837, 0.851, 0.864, 0.876,\n",
              "       0.886, 0.895, 0.904, 0.912, 0.92 , 0.927, 0.934, 0.94 , 0.946,\n",
              "       0.951, 0.956, 0.96 , 0.964, 0.968, 0.971, 0.974, 0.977, 0.98 ,\n",
              "       0.983, 0.985, 0.987, 0.989, 0.991, 0.993, 0.995, 0.996, 0.997,\n",
              "       0.998, 0.999, 1.   , 1.001, 1.001, 1.001, 1.001, 1.001, 1.001,\n",
              "       1.001, 1.001, 1.001, 1.001, 1.001, 1.001, 1.001, 1.001, 1.001,\n",
              "       1.001])"
            ]
          },
          "metadata": {},
          "execution_count": 122
        }
      ]
    },
    {
      "cell_type": "code",
      "source": [
        "import matplotlib.pyplot as plt"
      ],
      "metadata": {
        "id": "a1J5yNpejezq"
      },
      "execution_count": 123,
      "outputs": []
    },
    {
      "cell_type": "code",
      "source": [
        "plt.plot(range(1,len(cummulative_variance)+1),cummulative_variance,marker=\"o\")\n",
        "plt.xlabel(\"Number of Componenets\")\n",
        "plt.ylabel(\"Variance Explained\")\n",
        "plt.grid(\"on\")"
      ],
      "metadata": {
        "colab": {
          "base_uri": "https://localhost:8080/",
          "height": 449
        },
        "id": "3MHJUffZjmgX",
        "outputId": "02866b6a-f287-4a44-e14c-98be9b876538"
      },
      "execution_count": 126,
      "outputs": [
        {
          "output_type": "display_data",
          "data": {
            "text/plain": [
              "<Figure size 640x480 with 1 Axes>"
            ],
            "image/png": "[encoded data removed]"
          },
          "metadata": {}
        }
      ]
    },
    {
      "cell_type": "code",
      "source": [
        "explained_variance[:2].sum()"
      ],
      "metadata": {
        "colab": {
          "base_uri": "https://localhost:8080/"
        },
        "id": "u61eOxjkiypW",
        "outputId": "3be58c66-29a1-45e5-866c-79f9789ca486"
      },
      "execution_count": 116,
      "outputs": [
        {
          "output_type": "execute_result",
          "data": {
            "text/plain": [
              "0.28500000000000003"
            ]
          },
          "metadata": {},
          "execution_count": 116
        }
      ]
    },
    {
      "cell_type": "markdown",
      "source": [
        "## SKLEARN"
      ],
      "metadata": {
        "id": "6Q1t6iL6hlSp"
      }
    },
    {
      "cell_type": "code",
      "source": [
        "from sklearn.decomposition import PCA"
      ],
      "metadata": {
        "id": "zzBc-sKMhpKz"
      },
      "execution_count": 117,
      "outputs": []
    },
    {
      "cell_type": "code",
      "source": [
        "pca = PCA(n_components=2)"
      ],
      "metadata": {
        "id": "sYv4blIbhyq1"
      },
      "execution_count": 118,
      "outputs": []
    },
    {
      "cell_type": "code",
      "source": [
        "pca.fit_transform(X)"
      ],
      "metadata": {
        "colab": {
          "base_uri": "https://localhost:8080/"
        },
        "id": "sVsrQgkNh25n",
        "outputId": "67d87fa1-6bfc-4244-cc26-ce08845ba040"
      },
      "execution_count": 119,
      "outputs": [
        {
          "output_type": "execute_result",
          "data": {
            "text/plain": [
              "array([[ -1.25947537,  21.27488371],\n",
              "       [  7.95760418, -20.7686985 ],\n",
              "       [  6.99193516,  -9.95598661],\n",
              "       ...,\n",
              "       [ 10.8012826 ,  -6.96025289],\n",
              "       [ -4.87209672,  12.42395586],\n",
              "       [ -0.34438825,   6.36554912]])"
            ]
          },
          "metadata": {},
          "execution_count": 119
        }
      ]
    },
    {
      "cell_type": "code",
      "source": [
        "pca.explained_variance_ratio_"
      ],
      "metadata": {
        "colab": {
          "base_uri": "https://localhost:8080/"
        },
        "id": "Lpek0H50iMr3",
        "outputId": "ccb87236-bb69-48ad-86c7-11b4f5d39c37"
      },
      "execution_count": 120,
      "outputs": [
        {
          "output_type": "execute_result",
          "data": {
            "text/plain": [
              "array([0.14890594, 0.13618771])"
            ]
          },
          "metadata": {},
          "execution_count": 120
        }
      ]
    },
    {
      "cell_type": "code",
      "source": [
        "pca.explained_variance_ratio_.sum"
      ],
      "metadata": {
        "colab": {
          "base_uri": "https://localhost:8080/"
        },
        "id": "wS7bvRsoiPmS",
        "outputId": "aea29367-9b4e-43a5-ff93-15ae495b186b"
      },
      "execution_count": 121,
      "outputs": [
        {
          "output_type": "execute_result",
          "data": {
            "text/plain": [
              "<function ndarray.sum>"
            ]
          },
          "metadata": {},
          "execution_count": 121
        }
      ]
    },
    {
      "cell_type": "code",
      "source": [],
      "metadata": {
        "id": "m72pCdnliZ-4"
      },
      "execution_count": 121,
      "outputs": []
    }
  ]
}