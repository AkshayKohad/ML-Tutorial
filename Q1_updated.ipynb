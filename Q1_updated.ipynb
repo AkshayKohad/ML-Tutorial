{
  "cells": [
    {
      "cell_type": "markdown",
      "metadata": {
        "id": "view-in-github",
        "colab_type": "text"
      },
      "source": [
        "<a href=\"https://colab.research.google.com/github/AkshayKohad/ML-Tutorial/blob/main/Q1_updated.ipynb\" target=\"_parent\"><img src=\"https://colab.research.google.com/assets/colab-badge.svg\" alt=\"Open In Colab\"/></a>"
      ]
    },
    {
      "cell_type": "code",
      "execution_count": 355,
      "id": "f198191f",
      "metadata": {
        "execution": {
          "iopub.execute_input": "2023-05-25T07:36:58.710536Z",
          "iopub.status.busy": "2023-05-25T07:36:58.709521Z",
          "iopub.status.idle": "2023-05-25T07:37:00.966585Z",
          "shell.execute_reply": "2023-05-25T07:37:00.965412Z"
        },
        "papermill": {
          "duration": 2.271329,
          "end_time": "2023-05-25T07:37:00.969511",
          "exception": false,
          "start_time": "2023-05-25T07:36:58.698182",
          "status": "completed"
        },
        "tags": [],
        "id": "f198191f"
      },
      "outputs": [],
      "source": [
        "import math\n",
        "import numpy as np\n",
        "import pandas as pd\n",
        "import matplotlib.pyplot as plt\n",
        "import seaborn as sns\n",
        "import plotly.express as px\n",
        "import pprint\n",
        "from sklearn.model_selection import train_test_split"
      ]
    },
    {
      "cell_type": "markdown",
      "id": "d2c4916c",
      "metadata": {
        "papermill": {
          "duration": 0.008684,
          "end_time": "2023-05-25T07:37:00.988161",
          "exception": false,
          "start_time": "2023-05-25T07:37:00.979477",
          "status": "completed"
        },
        "tags": [],
        "id": "d2c4916c"
      },
      "source": [
        "<a id=\"LoadData\"></a>\n",
        "<h1 style='background:#3dec84;border:0; color:black;\n",
        "    box-shadow: 10px 10px 5px 0px rgba(0,0,0,0.75);\n",
        "    transform: rotateX(10deg);\n",
        "    '><center>Loading Data</center></h1>\n",
        "\n"
      ]
    },
    {
      "cell_type": "code",
      "execution_count": 356,
      "id": "b9ff4a41",
      "metadata": {
        "execution": {
          "iopub.execute_input": "2023-05-25T07:37:01.008200Z",
          "iopub.status.busy": "2023-05-25T07:37:01.007001Z",
          "iopub.status.idle": "2023-05-25T07:37:01.035878Z",
          "shell.execute_reply": "2023-05-25T07:37:01.034941Z"
        },
        "papermill": {
          "duration": 0.041373,
          "end_time": "2023-05-25T07:37:01.038351",
          "exception": false,
          "start_time": "2023-05-25T07:37:00.996978",
          "status": "completed"
        },
        "tags": [],
        "id": "b9ff4a41"
      },
      "outputs": [],
      "source": [
        "data = pd.read_csv('Q1Data.csv')"
      ]
    },
    {
      "cell_type": "code",
      "execution_count": 357,
      "id": "907257a2",
      "metadata": {
        "execution": {
          "iopub.execute_input": "2023-05-25T07:37:01.059681Z",
          "iopub.status.busy": "2023-05-25T07:37:01.059068Z",
          "iopub.status.idle": "2023-05-25T07:37:01.101332Z",
          "shell.execute_reply": "2023-05-25T07:37:01.100475Z"
        },
        "papermill": {
          "duration": 0.055312,
          "end_time": "2023-05-25T07:37:01.104087",
          "exception": false,
          "start_time": "2023-05-25T07:37:01.048775",
          "status": "completed"
        },
        "tags": [],
        "colab": {
          "base_uri": "https://localhost:8080/",
          "height": 362
        },
        "id": "907257a2",
        "outputId": "1a213ea0-158a-4d48-c464-349044fd96bc"
      },
      "outputs": [
        {
          "output_type": "stream",
          "name": "stdout",
          "text": [
            "0    4150\n",
            "3    1593\n",
            "1     542\n",
            "2     310\n",
            "4     270\n",
            "7     148\n",
            "5     114\n",
            "6      68\n",
            "Name: Genus, dtype: int64\n"
          ]
        },
        {
          "output_type": "execute_result",
          "data": {
            "text/plain": [
              "   MFCCs_ 1  MFCCs_ 2  MFCCs_ 3  MFCCs_ 4  MFCCs_ 5  MFCCs_ 6  Genus\n",
              "0  0.152936 -0.105586  0.200722  0.317201  0.260764  0.100945      0\n",
              "1  0.171534 -0.098975  0.268425  0.338672  0.268353  0.060835      0\n",
              "2  0.152317 -0.082973  0.287128  0.276014  0.189867  0.008714      0\n",
              "3  0.224392  0.118985  0.329432  0.372088  0.361005  0.015501      0\n",
              "4  0.087817 -0.068345  0.306967  0.330923  0.249144  0.006884      0"
            ],
            "text/html": [
              "\n",
              "  <div id=\"df-eaf808e0-dc74-418c-a9eb-8dba0bbe997c\" class=\"colab-df-container\">\n",
              "    <div>\n",
              "<style scoped>\n",
              "    .dataframe tbody tr th:only-of-type {\n",
              "        vertical-align: middle;\n",
              "    }\n",
              "\n",
              "    .dataframe tbody tr th {\n",
              "        vertical-align: top;\n",
              "    }\n",
              "\n",
              "    .dataframe thead th {\n",
              "        text-align: right;\n",
              "    }\n",
              "</style>\n",
              "<table border=\"1\" class=\"dataframe\">\n",
              "  <thead>\n",
              "    <tr style=\"text-align: right;\">\n",
              "      <th></th>\n",
              "      <th>MFCCs_ 1</th>\n",
              "      <th>MFCCs_ 2</th>\n",
              "      <th>MFCCs_ 3</th>\n",
              "      <th>MFCCs_ 4</th>\n",
              "      <th>MFCCs_ 5</th>\n",
              "      <th>MFCCs_ 6</th>\n",
              "      <th>Genus</th>\n",
              "    </tr>\n",
              "  </thead>\n",
              "  <tbody>\n",
              "    <tr>\n",
              "      <th>0</th>\n",
              "      <td>0.152936</td>\n",
              "      <td>-0.105586</td>\n",
              "      <td>0.200722</td>\n",
              "      <td>0.317201</td>\n",
              "      <td>0.260764</td>\n",
              "      <td>0.100945</td>\n",
              "      <td>0</td>\n",
              "    </tr>\n",
              "    <tr>\n",
              "      <th>1</th>\n",
              "      <td>0.171534</td>\n",
              "      <td>-0.098975</td>\n",
              "      <td>0.268425</td>\n",
              "      <td>0.338672</td>\n",
              "      <td>0.268353</td>\n",
              "      <td>0.060835</td>\n",
              "      <td>0</td>\n",
              "    </tr>\n",
              "    <tr>\n",
              "      <th>2</th>\n",
              "      <td>0.152317</td>\n",
              "      <td>-0.082973</td>\n",
              "      <td>0.287128</td>\n",
              "      <td>0.276014</td>\n",
              "      <td>0.189867</td>\n",
              "      <td>0.008714</td>\n",
              "      <td>0</td>\n",
              "    </tr>\n",
              "    <tr>\n",
              "      <th>3</th>\n",
              "      <td>0.224392</td>\n",
              "      <td>0.118985</td>\n",
              "      <td>0.329432</td>\n",
              "      <td>0.372088</td>\n",
              "      <td>0.361005</td>\n",
              "      <td>0.015501</td>\n",
              "      <td>0</td>\n",
              "    </tr>\n",
              "    <tr>\n",
              "      <th>4</th>\n",
              "      <td>0.087817</td>\n",
              "      <td>-0.068345</td>\n",
              "      <td>0.306967</td>\n",
              "      <td>0.330923</td>\n",
              "      <td>0.249144</td>\n",
              "      <td>0.006884</td>\n",
              "      <td>0</td>\n",
              "    </tr>\n",
              "  </tbody>\n",
              "</table>\n",
              "</div>\n",
              "    <div class=\"colab-df-buttons\">\n",
              "\n",
              "  <div class=\"colab-df-container\">\n",
              "    <button class=\"colab-df-convert\" onclick=\"convertToInteractive('df-eaf808e0-dc74-418c-a9eb-8dba0bbe997c')\"\n",
              "            title=\"Convert this dataframe to an interactive table.\"\n",
              "            style=\"display:none;\">\n",
              "\n",
              "  <svg xmlns=\"http://www.w3.org/2000/svg\" height=\"24px\" viewBox=\"0 -960 960 960\">\n",
              "    <path d=\"M120-120v-720h720v720H120Zm60-500h600v-160H180v160Zm220 220h160v-160H400v160Zm0 220h160v-160H400v160ZM180-400h160v-160H180v160Zm440 0h160v-160H620v160ZM180-180h160v-160H180v160Zm440 0h160v-160H620v160Z\"/>\n",
              "  </svg>\n",
              "    </button>\n",
              "\n",
              "  <style>\n",
              "    .colab-df-container {\n",
              "      display:flex;\n",
              "      gap: 12px;\n",
              "    }\n",
              "\n",
              "    .colab-df-convert {\n",
              "      background-color: #E8F0FE;\n",
              "      border: none;\n",
              "      border-radius: 50%;\n",
              "      cursor: pointer;\n",
              "      display: none;\n",
              "      fill: #1967D2;\n",
              "      height: 32px;\n",
              "      padding: 0 0 0 0;\n",
              "      width: 32px;\n",
              "    }\n",
              "\n",
              "    .colab-df-convert:hover {\n",
              "      background-color: #E2EBFA;\n",
              "      box-shadow: 0px 1px 2px rgba(60, 64, 67, 0.3), 0px 1px 3px 1px rgba(60, 64, 67, 0.15);\n",
              "      fill: #174EA6;\n",
              "    }\n",
              "\n",
              "    .colab-df-buttons div {\n",
              "      margin-bottom: 4px;\n",
              "    }\n",
              "\n",
              "    [theme=dark] .colab-df-convert {\n",
              "      background-color: #3B4455;\n",
              "      fill: #D2E3FC;\n",
              "    }\n",
              "\n",
              "    [theme=dark] .colab-df-convert:hover {\n",
              "      background-color: #434B5C;\n",
              "      box-shadow: 0px 1px 3px 1px rgba(0, 0, 0, 0.15);\n",
              "      filter: drop-shadow(0px 1px 2px rgba(0, 0, 0, 0.3));\n",
              "      fill: #FFFFFF;\n",
              "    }\n",
              "  </style>\n",
              "\n",
              "    <script>\n",
              "      const buttonEl =\n",
              "        document.querySelector('#df-eaf808e0-dc74-418c-a9eb-8dba0bbe997c button.colab-df-convert');\n",
              "      buttonEl.style.display =\n",
              "        google.colab.kernel.accessAllowed ? 'block' : 'none';\n",
              "\n",
              "      async function convertToInteractive(key) {\n",
              "        const element = document.querySelector('#df-eaf808e0-dc74-418c-a9eb-8dba0bbe997c');\n",
              "        const dataTable =\n",
              "          await google.colab.kernel.invokeFunction('convertToInteractive',\n",
              "                                                    [key], {});\n",
              "        if (!dataTable) return;\n",
              "\n",
              "        const docLinkHtml = 'Like what you see? Visit the ' +\n",
              "          '<a target=\"_blank\" href=https://colab.research.google.com/notebooks/data_table.ipynb>data table notebook</a>'\n",
              "          + ' to learn more about interactive tables.';\n",
              "        element.innerHTML = '';\n",
              "        dataTable['output_type'] = 'display_data';\n",
              "        await google.colab.output.renderOutput(dataTable, element);\n",
              "        const docLink = document.createElement('div');\n",
              "        docLink.innerHTML = docLinkHtml;\n",
              "        element.appendChild(docLink);\n",
              "      }\n",
              "    </script>\n",
              "  </div>\n",
              "\n",
              "\n",
              "<div id=\"df-a75f28b8-06f2-4575-bce4-01b0099ac2cd\">\n",
              "  <button class=\"colab-df-quickchart\" onclick=\"quickchart('df-a75f28b8-06f2-4575-bce4-01b0099ac2cd')\"\n",
              "            title=\"Suggest charts\"\n",
              "            style=\"display:none;\">\n",
              "\n",
              "<svg xmlns=\"http://www.w3.org/2000/svg\" height=\"24px\"viewBox=\"0 0 24 24\"\n",
              "     width=\"24px\">\n",
              "    <g>\n",
              "        <path d=\"M19 3H5c-1.1 0-2 .9-2 2v14c0 1.1.9 2 2 2h14c1.1 0 2-.9 2-2V5c0-1.1-.9-2-2-2zM9 17H7v-7h2v7zm4 0h-2V7h2v10zm4 0h-2v-4h2v4z\"/>\n",
              "    </g>\n",
              "</svg>\n",
              "  </button>\n",
              "\n",
              "<style>\n",
              "  .colab-df-quickchart {\n",
              "      --bg-color: #E8F0FE;\n",
              "      --fill-color: #1967D2;\n",
              "      --hover-bg-color: #E2EBFA;\n",
              "      --hover-fill-color: #174EA6;\n",
              "      --disabled-fill-color: #AAA;\n",
              "      --disabled-bg-color: #DDD;\n",
              "  }\n",
              "\n",
              "  [theme=dark] .colab-df-quickchart {\n",
              "      --bg-color: #3B4455;\n",
              "      --fill-color: #D2E3FC;\n",
              "      --hover-bg-color: #434B5C;\n",
              "      --hover-fill-color: #FFFFFF;\n",
              "      --disabled-bg-color: #3B4455;\n",
              "      --disabled-fill-color: #666;\n",
              "  }\n",
              "\n",
              "  .colab-df-quickchart {\n",
              "    background-color: var(--bg-color);\n",
              "    border: none;\n",
              "    border-radius: 50%;\n",
              "    cursor: pointer;\n",
              "    display: none;\n",
              "    fill: var(--fill-color);\n",
              "    height: 32px;\n",
              "    padding: 0;\n",
              "    width: 32px;\n",
              "  }\n",
              "\n",
              "  .colab-df-quickchart:hover {\n",
              "    background-color: var(--hover-bg-color);\n",
              "    box-shadow: 0 1px 2px rgba(60, 64, 67, 0.3), 0 1px 3px 1px rgba(60, 64, 67, 0.15);\n",
              "    fill: var(--button-hover-fill-color);\n",
              "  }\n",
              "\n",
              "  .colab-df-quickchart-complete:disabled,\n",
              "  .colab-df-quickchart-complete:disabled:hover {\n",
              "    background-color: var(--disabled-bg-color);\n",
              "    fill: var(--disabled-fill-color);\n",
              "    box-shadow: none;\n",
              "  }\n",
              "\n",
              "  .colab-df-spinner {\n",
              "    border: 2px solid var(--fill-color);\n",
              "    border-color: transparent;\n",
              "    border-bottom-color: var(--fill-color);\n",
              "    animation:\n",
              "      spin 1s steps(1) infinite;\n",
              "  }\n",
              "\n",
              "  @keyframes spin {\n",
              "    0% {\n",
              "      border-color: transparent;\n",
              "      border-bottom-color: var(--fill-color);\n",
              "      border-left-color: var(--fill-color);\n",
              "    }\n",
              "    20% {\n",
              "      border-color: transparent;\n",
              "      border-left-color: var(--fill-color);\n",
              "      border-top-color: var(--fill-color);\n",
              "    }\n",
              "    30% {\n",
              "      border-color: transparent;\n",
              "      border-left-color: var(--fill-color);\n",
              "      border-top-color: var(--fill-color);\n",
              "      border-right-color: var(--fill-color);\n",
              "    }\n",
              "    40% {\n",
              "      border-color: transparent;\n",
              "      border-right-color: var(--fill-color);\n",
              "      border-top-color: var(--fill-color);\n",
              "    }\n",
              "    60% {\n",
              "      border-color: transparent;\n",
              "      border-right-color: var(--fill-color);\n",
              "    }\n",
              "    80% {\n",
              "      border-color: transparent;\n",
              "      border-right-color: var(--fill-color);\n",
              "      border-bottom-color: var(--fill-color);\n",
              "    }\n",
              "    90% {\n",
              "      border-color: transparent;\n",
              "      border-bottom-color: var(--fill-color);\n",
              "    }\n",
              "  }\n",
              "</style>\n",
              "\n",
              "  <script>\n",
              "    async function quickchart(key) {\n",
              "      const quickchartButtonEl =\n",
              "        document.querySelector('#' + key + ' button');\n",
              "      quickchartButtonEl.disabled = true;  // To prevent multiple clicks.\n",
              "      quickchartButtonEl.classList.add('colab-df-spinner');\n",
              "      try {\n",
              "        const charts = await google.colab.kernel.invokeFunction(\n",
              "            'suggestCharts', [key], {});\n",
              "      } catch (error) {\n",
              "        console.error('Error during call to suggestCharts:', error);\n",
              "      }\n",
              "      quickchartButtonEl.classList.remove('colab-df-spinner');\n",
              "      quickchartButtonEl.classList.add('colab-df-quickchart-complete');\n",
              "    }\n",
              "    (() => {\n",
              "      let quickchartButtonEl =\n",
              "        document.querySelector('#df-a75f28b8-06f2-4575-bce4-01b0099ac2cd button');\n",
              "      quickchartButtonEl.style.display =\n",
              "        google.colab.kernel.accessAllowed ? 'block' : 'none';\n",
              "    })();\n",
              "  </script>\n",
              "</div>\n",
              "\n",
              "    </div>\n",
              "  </div>\n"
            ]
          },
          "metadata": {},
          "execution_count": 357
        }
      ],
      "source": [
        "\n",
        "data.head()\n",
        "\n",
        "data = data.iloc[:,[0,1,2,3,4,5,22]]\n",
        "\n",
        "data['Genus'] = pd.factorize(data['Genus'])[0]\n",
        "data['Genus']\n",
        "unique_counts = data[\"Genus\"].value_counts()\n",
        "print(unique_counts)\n",
        "data.head()"
      ]
    },
    {
      "cell_type": "code",
      "source": [
        "val = list(data.iloc[:,6])\n",
        "\n",
        "num_val = data.values\n",
        "\n",
        "print(num_val.shape)"
      ],
      "metadata": {
        "colab": {
          "base_uri": "https://localhost:8080/"
        },
        "id": "oJOd_7DP40GX",
        "outputId": "6d37d9ef-99ea-4868-9883-9521dbea79e2"
      },
      "id": "oJOd_7DP40GX",
      "execution_count": 358,
      "outputs": [
        {
          "output_type": "stream",
          "name": "stdout",
          "text": [
            "(7195, 7)\n"
          ]
        }
      ]
    },
    {
      "cell_type": "code",
      "source": [
        "unique_values = list(set(val))\n",
        "unique_values"
      ],
      "metadata": {
        "colab": {
          "base_uri": "https://localhost:8080/"
        },
        "id": "JgTaO9vQ43Xp",
        "outputId": "8a58989f-426e-453f-a157-b4ac8c724724"
      },
      "id": "JgTaO9vQ43Xp",
      "execution_count": 359,
      "outputs": [
        {
          "output_type": "execute_result",
          "data": {
            "text/plain": [
              "[0, 1, 2, 3, 4, 5, 6, 7]"
            ]
          },
          "metadata": {},
          "execution_count": 359
        }
      ]
    },
    {
      "cell_type": "code",
      "source": [
        "predictor = data.iloc[:,[0,1,2,3,4,5]]\n",
        "response = data.iloc[:,[6]]\n",
        "\n",
        "print(predictor)\n",
        "print(response)\n",
        "predictor_Training_sklearn,predictor_test_sklearn,response_Training_sklearn,response_test_sklearn = train_test_split(predictor,response,test_size=0.2,shuffle=True,random_state=0)\n",
        "predictor_Training,predictor_test,response_Training,response_test = train_test_split(predictor,response,test_size=0.8,shuffle=True,random_state=0)"
      ],
      "metadata": {
        "colab": {
          "base_uri": "https://localhost:8080/"
        },
        "id": "nsyCvC1147lF",
        "outputId": "1fe3a14e-6975-4d3f-a9ec-f8c7c9deab3d"
      },
      "id": "nsyCvC1147lF",
      "execution_count": 360,
      "outputs": [
        {
          "output_type": "stream",
          "name": "stdout",
          "text": [
            "      MFCCs_ 1  MFCCs_ 2  MFCCs_ 3  MFCCs_ 4  MFCCs_ 5  MFCCs_ 6\n",
            "0     0.152936 -0.105586  0.200722  0.317201  0.260764  0.100945\n",
            "1     0.171534 -0.098975  0.268425  0.338672  0.268353  0.060835\n",
            "2     0.152317 -0.082973  0.287128  0.276014  0.189867  0.008714\n",
            "3     0.224392  0.118985  0.329432  0.372088  0.361005  0.015501\n",
            "4     0.087817 -0.068345  0.306967  0.330923  0.249144  0.006884\n",
            "...        ...       ...       ...       ...       ...       ...\n",
            "7190 -0.554504 -0.337717  0.035533  0.034511  0.443451  0.093889\n",
            "7191 -0.517273 -0.370574  0.030673  0.068097  0.402890  0.096628\n",
            "7192 -0.582557 -0.343237  0.029468  0.064179  0.385596  0.114905\n",
            "7193 -0.519497 -0.307553 -0.004921  0.072865  0.377131  0.086866\n",
            "7194 -0.508833 -0.324106  0.062068  0.078211  0.397188  0.094596\n",
            "\n",
            "[7195 rows x 6 columns]\n",
            "      Genus\n",
            "0         0\n",
            "1         0\n",
            "2         0\n",
            "3         0\n",
            "4         0\n",
            "...     ...\n",
            "7190      7\n",
            "7191      7\n",
            "7192      7\n",
            "7193      7\n",
            "7194      7\n",
            "\n",
            "[7195 rows x 1 columns]\n"
          ]
        }
      ]
    },
    {
      "cell_type": "code",
      "source": [
        "predictor_Training = predictor_Training.values\n",
        "predictor_test = predictor_test.values\n",
        "response_Training = response_Training.values\n",
        "response_test = response_test.values\n",
        "predictor_Training_sklearn = predictor_Training_sklearn.values\n",
        "predictor_test_sklearn = predictor_test_sklearn.values\n",
        "response_Training_sklearn = response_Training_sklearn.values\n",
        "response_test_sklearn = response_test_sklearn.values"
      ],
      "metadata": {
        "id": "GfBvJZTI7wjU"
      },
      "id": "GfBvJZTI7wjU",
      "execution_count": 361,
      "outputs": []
    },
    {
      "cell_type": "markdown",
      "id": "ae2bbc4a",
      "metadata": {
        "papermill": {
          "duration": 0.020438,
          "end_time": "2023-05-25T07:37:07.496101",
          "exception": false,
          "start_time": "2023-05-25T07:37:07.475663",
          "status": "completed"
        },
        "tags": [],
        "id": "ae2bbc4a"
      },
      "source": [
        "<a id=\"ModelImplementation\"></a>\n",
        "<h1 style='background:#3dec84;border:0; color:black;\n",
        "    box-shadow: 10px 10px 5px 0px rgba(0,0,0,0.75);\n",
        "    transform: rotateX(10deg);\n",
        "    '><center>Model Implementation</center></h1>\n",
        "\n",
        "# Model Implementation\n"
      ]
    },
    {
      "cell_type": "markdown",
      "id": "e2fbbc6c",
      "metadata": {
        "papermill": {
          "duration": 0.020462,
          "end_time": "2023-05-25T07:37:07.536552",
          "exception": false,
          "start_time": "2023-05-25T07:37:07.516090",
          "status": "completed"
        },
        "tags": [],
        "id": "e2fbbc6c"
      },
      "source": [
        "# How the algorithm works\n",
        "\n",
        "**We'll start with all examples at the root node then:**\n",
        "\n",
        "**We'll calculate information gain for splitting on all possible features and pick the one with the highest value**\n",
        "\n",
        "**Then we'll split the data according to the selected feature**\n",
        "\n",
        "**We'll repeat this  process until stopping criteria is met**\n",
        "\n",
        "## Key Points:\n",
        "\n",
        "### Entropy\n",
        "**Entropy function which is a way to measure impurity**\n",
        "\n",
        "**Entropy is represented by this function**\n",
        "$$H = -\\sum\\limits_{}^{} p_{i}\\text{log}_2 p_{i}\n",
        "$$\n",
        "\n",
        "**Where $(p_1)$ is the fraction of examples that are a certain class**\n",
        "\n",
        "\n",
        "### Information Gain\n",
        "\n",
        "**Information gain is the reduction in entropy when he make a split**\n",
        "\n",
        "**Recall that our goal is to choose the split that gives the highest information gain, information gain equation =**\n",
        "\n",
        "**$$H(p_1^\\text{node})- (w^{\\text{left}}H(p_1^\\text{left}) + w^{\\text{right}}H(p_1^\\text{right}))$$**\n",
        "**where**\n",
        "- $H(p_1^\\text{node})$ is entropy at the node\n",
        "- $H(p_1^\\text{left})$ and $H(p_1^\\text{right})$ are the entropies at the left and the right branches resulting from the split\n",
        "- $w^{\\text{left}}$ and $w^{\\text{right}}$ are the proportion of examples at the left and right branch respectively\n",
        "\n"
      ]
    },
    {
      "cell_type": "markdown",
      "id": "82d2bb36",
      "metadata": {
        "papermill": {
          "duration": 0.020244,
          "end_time": "2023-05-25T07:37:07.576901",
          "exception": false,
          "start_time": "2023-05-25T07:37:07.556657",
          "status": "completed"
        },
        "tags": [],
        "id": "82d2bb36"
      },
      "source": [
        "## Start the Implementation\n"
      ]
    },
    {
      "cell_type": "markdown",
      "id": "8d3ac539",
      "metadata": {
        "papermill": {
          "duration": 0.020198,
          "end_time": "2023-05-25T07:37:07.617366",
          "exception": false,
          "start_time": "2023-05-25T07:37:07.597168",
          "status": "completed"
        },
        "tags": [],
        "id": "8d3ac539"
      },
      "source": [
        "### Node Class"
      ]
    },
    {
      "cell_type": "code",
      "execution_count": 362,
      "id": "711e4b20",
      "metadata": {
        "execution": {
          "iopub.execute_input": "2023-05-25T07:37:07.659826Z",
          "iopub.status.busy": "2023-05-25T07:37:07.659064Z",
          "iopub.status.idle": "2023-05-25T07:37:07.665930Z",
          "shell.execute_reply": "2023-05-25T07:37:07.665134Z"
        },
        "papermill": {
          "duration": 0.030621,
          "end_time": "2023-05-25T07:37:07.668167",
          "exception": false,
          "start_time": "2023-05-25T07:37:07.637546",
          "status": "completed"
        },
        "tags": [],
        "id": "711e4b20"
      },
      "outputs": [],
      "source": [
        "class Node():\n",
        "\n",
        "    def __init__(self, feature=None, threshold=None, left=None, right=None, gain=None, value=None):\n",
        "\n",
        "        self.feature = feature\n",
        "        self.threshold = threshold\n",
        "        self.left = left\n",
        "        self.right = right\n",
        "        self.gain = gain\n",
        "        self.value = value\n"
      ]
    },
    {
      "cell_type": "markdown",
      "id": "2fa07d8c",
      "metadata": {
        "papermill": {
          "duration": 0.019546,
          "end_time": "2023-05-25T07:37:07.707921",
          "exception": false,
          "start_time": "2023-05-25T07:37:07.688375",
          "status": "completed"
        },
        "tags": [],
        "id": "2fa07d8c"
      },
      "source": [
        "### DecisionTree Class"
      ]
    },
    {
      "cell_type": "code",
      "execution_count": 363,
      "id": "02a74d42",
      "metadata": {
        "execution": {
          "iopub.execute_input": "2023-05-25T07:37:07.750056Z",
          "iopub.status.busy": "2023-05-25T07:37:07.749378Z",
          "iopub.status.idle": "2023-05-25T07:37:07.776510Z",
          "shell.execute_reply": "2023-05-25T07:37:07.775679Z"
        },
        "papermill": {
          "duration": 0.051361,
          "end_time": "2023-05-25T07:37:07.779004",
          "exception": false,
          "start_time": "2023-05-25T07:37:07.727643",
          "status": "completed"
        },
        "tags": [],
        "id": "02a74d42"
      },
      "outputs": [],
      "source": [
        "class DecisionTree():\n",
        "    \"\"\"\n",
        "    A decision tree classifier for binary classification problems.\n",
        "    \"\"\"\n",
        "\n",
        "    def __init__(self, min_samples=2, max_depth=5):\n",
        "\n",
        "        self.min_samples = min_samples\n",
        "        self.max_depth = max_depth\n",
        "\n",
        "    def split_data(self, dataset, feature, threshold):\n",
        "\n",
        "\n",
        "     left_dataset = []\n",
        "     right_dataset = []\n",
        "\n",
        "     # print(data.shape)\n",
        "\n",
        "     for row in dataset:\n",
        "        if row[feature] <= threshold:\n",
        "            left_dataset.append(row)\n",
        "        else:\n",
        "            right_dataset.append(row)\n",
        "\n",
        "\n",
        "\n",
        "     left_dataset = np.array(left_dataset)\n",
        "     right_dataset = np.array(right_dataset)\n",
        "\n",
        "     return left_dataset, right_dataset\n",
        "\n",
        "\n",
        "    def gini_index_calculate(self,data,left_data,right_data):\n",
        "\n",
        "        left_data_record = {0:0,1:0,2:0,3:0,4:0,5:0,6:0,7:0,'len':0}\n",
        "        right_data_record = {0:0,1:0,2:0,3:0,4:0,5:0,6:0,7:0,'len':0}\n",
        "\n",
        "        l_samples = left_data.shape[0]\n",
        "        r_samples = right_data.shape[0]\n",
        "        samples = data.shape[0]\n",
        "\n",
        "\n",
        "        for j in range(l_samples):\n",
        "          left_data_record[left_data[j][6]]+=1\n",
        "\n",
        "        for j in range(r_samples):\n",
        "          right_data_record[right_data[j][6]]+=1\n",
        "\n",
        "\n",
        "        ans1 = 0\n",
        "        ans2 = 0\n",
        "\n",
        "        for i in range(8):\n",
        "          ans1 += (left_data_record[i]/l_samples)**2\n",
        "\n",
        "        for i in range(8):\n",
        "          ans2 += (right_data_record[i]/r_samples)**2\n",
        "\n",
        "        ans1 = 1-ans1\n",
        "        ans2 = 1-ans2\n",
        "\n",
        "        ans =   (l_samples/samples)*ans1 + (r_samples/samples)*ans2\n",
        "\n",
        "        return ans\n",
        "\n",
        "\n",
        "\n",
        "    def best_split(self, dataset, num_samples, num_features):\n",
        "\n",
        "\n",
        "        best_split = {'gain':2, 'feature': None, 'threshold': None}\n",
        "\n",
        "        for feature_index in range(num_features):\n",
        "\n",
        "            feature_values = dataset[:, feature_index]\n",
        "\n",
        "            thresholds = np.unique(feature_values)\n",
        "\n",
        "            for threshold in thresholds:\n",
        "\n",
        "                left_dataset, right_dataset = self.split_data(dataset, feature_index, threshold)\n",
        "\n",
        "                if len(left_dataset) and len(right_dataset):\n",
        "\n",
        "\n",
        "\n",
        "                    gini = self.gini_index_calculate(dataset,left_dataset,right_dataset)\n",
        "\n",
        "\n",
        "                    if gini < best_split[\"gain\"]:\n",
        "                        best_split[\"feature\"] = feature_index\n",
        "                        best_split[\"threshold\"] = threshold\n",
        "                        best_split[\"left_dataset\"] = left_dataset\n",
        "                        best_split[\"right_dataset\"] = right_dataset\n",
        "                        best_split[\"gain\"] = gini\n",
        "        return best_split\n",
        "\n",
        "\n",
        "    def count_target(self,y):\n",
        "      y = list(y)\n",
        "      max_count_feature = max(y, key=y.count)\n",
        "      return max_count_feature\n",
        "\n",
        "    def build_tree(self, dataset, current_depth=0):\n",
        "\n",
        "\n",
        "        X, y = dataset[:, :-1], dataset[:, -1]\n",
        "        n_samples, n_features = X.shape\n",
        "\n",
        "        if n_samples >= self.min_samples and current_depth <= self.max_depth:\n",
        "\n",
        "            best_split = self.best_split(dataset, n_samples, n_features)\n",
        "\n",
        "            if best_split[\"gain\"]:\n",
        "\n",
        "                left_node = self.build_tree(best_split[\"left_dataset\"], current_depth + 1)\n",
        "                right_node = self.build_tree(best_split[\"right_dataset\"], current_depth + 1)\n",
        "\n",
        "                return Node(best_split[\"feature\"], best_split[\"threshold\"],\n",
        "                            left_node, right_node, best_split[\"gain\"])\n",
        "\n",
        "\n",
        "        leaf_value = self.count_target(y)\n",
        "\n",
        "        return Node(value=leaf_value)\n",
        "\n",
        "    def fit(self, X, y):\n",
        "        dataset = np.concatenate((X, y), axis=1)\n",
        "        self.root = self.build_tree(dataset)\n",
        "\n",
        "    def predict(self, X):\n",
        "        # Create an empty list to store the predictions\n",
        "        predictions = []\n",
        "        # For each instance in X, make a prediction by traversing the tree\n",
        "        for x in X:\n",
        "            prediction = self.make_prediction(x, self.root)\n",
        "            # Append the prediction to the list of predictions\n",
        "            predictions.append(prediction)\n",
        "        # Convert the list to a numpy array and return it\n",
        "        np.array(predictions)\n",
        "        return predictions\n",
        "\n",
        "    def make_prediction(self, x, node):\n",
        "\n",
        "        # if the node has value i.e it's a leaf node extract it's value\n",
        "        if node.value != None:\n",
        "            return node.value\n",
        "        else:\n",
        "            #if it's node a leaf node we'll get it's feature and traverse through the tree accordingly\n",
        "            feature = x[node.feature]\n",
        "            if feature <= node.threshold:\n",
        "                return self.make_prediction(x, node.left)\n",
        "            else:\n",
        "                return self.make_prediction(x, node.right)"
      ]
    },
    {
      "cell_type": "code",
      "execution_count": 364,
      "id": "a1f244e1",
      "metadata": {
        "execution": {
          "iopub.execute_input": "2023-05-25T07:37:07.912580Z",
          "iopub.status.busy": "2023-05-25T07:37:07.911869Z",
          "iopub.status.idle": "2023-05-25T07:37:07.916940Z",
          "shell.execute_reply": "2023-05-25T07:37:07.916153Z"
        },
        "papermill": {
          "duration": 0.028804,
          "end_time": "2023-05-25T07:37:07.918958",
          "exception": false,
          "start_time": "2023-05-25T07:37:07.890154",
          "status": "completed"
        },
        "tags": [],
        "id": "a1f244e1"
      },
      "outputs": [],
      "source": [
        "def accuracy(y_true, y_pred):\n",
        "\n",
        "    y_true = y_true.flatten()\n",
        "    total_samples = len(y_true)\n",
        "    correct_predictions = np.sum(y_true == y_pred)\n",
        "    return (correct_predictions / total_samples)"
      ]
    },
    {
      "cell_type": "code",
      "source": [
        " #create model instance\n",
        "model = DecisionTree(2, 2)\n",
        "\n",
        "  # Fit the decision tree model to the training data.\n",
        "model.fit(predictor_Training, response_Training)\n",
        "\n",
        "  # Use the trained model to make predictions on the test data.\n",
        "predictions = model.predict(predictor_test)\n",
        "\n",
        "  # Calculate evaluating metrics\n",
        "print(accuracy(response_test, predictions))"
      ],
      "metadata": {
        "colab": {
          "base_uri": "https://localhost:8080/"
        },
        "id": "K6mr3GciIQe3",
        "outputId": "ed88a608-7e92-4240-d7d2-0726ee53acca"
      },
      "id": "K6mr3GciIQe3",
      "execution_count": 365,
      "outputs": [
        {
          "output_type": "stream",
          "name": "stdout",
          "text": [
            "0.8153231410701877\n"
          ]
        }
      ]
    },
    {
      "cell_type": "code",
      "execution_count": 366,
      "id": "b6a3108b",
      "metadata": {
        "execution": {
          "iopub.execute_input": "2023-05-25T07:37:08.064564Z",
          "iopub.status.busy": "2023-05-25T07:37:08.063810Z",
          "iopub.status.idle": "2023-05-25T07:37:16.963676Z",
          "shell.execute_reply": "2023-05-25T07:37:16.962163Z"
        },
        "papermill": {
          "duration": 8.924489,
          "end_time": "2023-05-25T07:37:16.966225",
          "exception": false,
          "start_time": "2023-05-25T07:37:08.041736",
          "status": "completed"
        },
        "tags": [],
        "id": "b6a3108b"
      },
      "outputs": [],
      "source": [
        "result_decision_tree = []\n",
        "depth_values = []\n",
        "for i in range(15):\n",
        "\n",
        "  #create model instance\n",
        "  model = DecisionTree(2, i+1)\n",
        "\n",
        "  # Fit the decision tree model to the training data.\n",
        "  model.fit(predictor_Training, response_Training)\n",
        "\n",
        "  # Use the trained model to make predictions on the test data.\n",
        "  predictions = model.predict(predictor_test)\n",
        "\n",
        "  # Calculate evaluating metrics\n",
        "  result_decision_tree.append(accuracy(response_test, predictions))\n",
        "  depth_values.append(i+1)"
      ]
    },
    {
      "cell_type": "code",
      "source": [
        "plt.plot(depth_values, result_decision_tree, marker='o')\n",
        "plt.title('Test Accuracy vs. depth Value')\n",
        "plt.xlabel('K Value')\n",
        "plt.ylabel('Test Accuracy')\n",
        "plt.show()"
      ],
      "metadata": {
        "colab": {
          "base_uri": "https://localhost:8080/",
          "height": 472
        },
        "id": "Z2GYYM-4C_l5",
        "outputId": "ed340a69-9f3c-40c9-815c-9042fa6ed66a"
      },
      "id": "Z2GYYM-4C_l5",
      "execution_count": 367,
      "outputs": [
        {
          "output_type": "display_data",
          "data": {
            "text/plain": [
              "<Figure size 640x480 with 1 Axes>"
            ],
            "image/png": "[encoded data removed]"
          },
          "metadata": {}
        }
      ]
    },
    {
      "cell_type": "markdown",
      "id": "b8f18a49",
      "metadata": {
        "papermill": {
          "duration": 0.020431,
          "end_time": "2023-05-25T07:37:17.007318",
          "exception": false,
          "start_time": "2023-05-25T07:37:16.986887",
          "status": "completed"
        },
        "tags": [],
        "id": "b8f18a49"
      },
      "source": [
        "<a id=\" SklearnImplementation\"></a>\n",
        "<h1 style='background:#3dec84;border:0; color:black;\n",
        "    box-shadow: 10px 10px 5px 0px rgba(0,0,0,0.75);\n",
        "    transform: rotateX(10deg);\n",
        "    '><center>Sklearn Implementation</center></h1>\n",
        "\n",
        "#  Sklearn Implementation\n"
      ]
    },
    {
      "cell_type": "code",
      "execution_count": 368,
      "id": "c117de65",
      "metadata": {
        "execution": {
          "iopub.execute_input": "2023-05-25T07:37:17.050050Z",
          "iopub.status.busy": "2023-05-25T07:37:17.049618Z",
          "iopub.status.idle": "2023-05-25T07:37:17.564981Z",
          "shell.execute_reply": "2023-05-25T07:37:17.563594Z"
        },
        "papermill": {
          "duration": 0.539588,
          "end_time": "2023-05-25T07:37:17.567498",
          "exception": false,
          "start_time": "2023-05-25T07:37:17.027910",
          "status": "completed"
        },
        "tags": [],
        "colab": {
          "base_uri": "https://localhost:8080/",
          "height": 472
        },
        "id": "c117de65",
        "outputId": "e81f93c5-e23e-47f0-d499-642d6cd358d4"
      },
      "outputs": [
        {
          "output_type": "display_data",
          "data": {
            "text/plain": [
              "<Figure size 640x480 with 1 Axes>"
            ],
            "image/png": "[encoded data removed]"
          },
          "metadata": {}
        }
      ],
      "source": [
        "from sklearn.tree import DecisionTreeClassifier\n",
        "from sklearn.metrics import accuracy_score\n",
        "import matplotlib.pyplot as plt\n",
        "\n",
        "# Assume you have your data loaded and split into predictor_test, predictor_Training, response_test, response_Training\n",
        "\n",
        "# Define a range of depth values\n",
        "depth_values = range(1, 15)\n",
        "\n",
        "# Lists to store test accuracies\n",
        "test_accuracies = []\n",
        "\n",
        "# Train and evaluate Decision Tree for different depths\n",
        "for depth in depth_values:\n",
        "    # Create a decision tree classifier model object with the specified depth\n",
        "    decision_tree_classifier = DecisionTreeClassifier(max_depth=depth)\n",
        "\n",
        "    # Train the decision tree classifier model using the training data\n",
        "    decision_tree_classifier.fit(predictor_Training_sklearn, response_Training_sklearn)\n",
        "\n",
        "    # Use the trained model to make predictions on the test data\n",
        "    predictions = decision_tree_classifier.predict(predictor_test_sklearn)\n",
        "\n",
        "    # Calculate and store the test accuracy\n",
        "    accu = accuracy_score(response_test_sklearn, predictions)\n",
        "    test_accuracies.append(accu)\n",
        "\n",
        "# Plotting the results\n",
        "plt.plot(depth_values, test_accuracies, marker='o')\n",
        "plt.title('Decision Tree Test Accuracy vs. Max Depth')\n",
        "plt.xlabel('Max Depth')\n",
        "plt.ylabel('Test Accuracy')\n",
        "plt.show()\n"
      ]
    },
    {
      "cell_type": "markdown",
      "source": [
        "# KNN IMPLEMENTATION\n"
      ],
      "metadata": {
        "id": "yNBczJ3B0QLW"
      },
      "id": "yNBczJ3B0QLW"
    },
    {
      "cell_type": "code",
      "source": [
        "data = pd.read_csv('Q1Data.csv')\n",
        "data\n",
        "data['Genus'] = pd.factorize(data['Genus'])[0]\n",
        "predictor = data.iloc[:,[0,1,2,3,4,5,6,7,8,9,10,11,12,13,14,15,16,17,18,19,20]]\n",
        "response = data.iloc[:,[22]]\n",
        "\n",
        "predictor\n",
        "response\n",
        "\n",
        "predictor_Training_sklearn,predictor_test_sklearn,response_Training_sklearn,response_test_sklearn = train_test_split(predictor,response,test_size=0.2,shuffle=True,random_state=0)\n",
        "predictor_Training, predictor_test, response_Training, response_test = train_test_split(predictor, response, test_size=0.1, shuffle=True, random_state=0)\n",
        "predictor_Training, predictor_validation, response_Training, response_validation = train_test_split(predictor_Training, response_Training, test_size=0.66, shuffle=True, random_state=0)\n"
      ],
      "metadata": {
        "id": "8cLAX4PtNtDP"
      },
      "id": "8cLAX4PtNtDP",
      "execution_count": 369,
      "outputs": []
    },
    {
      "cell_type": "code",
      "source": [],
      "metadata": {
        "id": "milX4BYWhaz5"
      },
      "id": "milX4BYWhaz5",
      "execution_count": 369,
      "outputs": []
    },
    {
      "cell_type": "code",
      "source": [
        "predictor_Training = predictor_Training.values\n",
        "predictor_test = predictor_test.values\n",
        "response_Training = response_Training.values\n",
        "response_test = response_test.values\n",
        "predictor_Training_sklearn = predictor_Training_sklearn.values\n",
        "predictor_test_sklearn = predictor_test_sklearn.values\n",
        "response_Training_sklearn = response_Training_sklearn.values\n",
        "response_test_sklearn = response_test_sklearn.values"
      ],
      "metadata": {
        "id": "l321jFVddfWz"
      },
      "id": "l321jFVddfWz",
      "execution_count": 370,
      "outputs": []
    },
    {
      "cell_type": "code",
      "source": [
        "class KNN:\n",
        "  def __init__(self,neighbours = 5):\n",
        "    self.neighbours = neighbours\n",
        "\n",
        "  def dist(self,p,q):\n",
        "   return np.sqrt(np.sum((p-q)**2))\n",
        "\n",
        "  def fit(self, X_train, y_train):\n",
        "\n",
        "        self.X_train = X_train\n",
        "        self.y_train = y_train\n",
        "\n",
        "  def predict(self,X):\n",
        "    n = X.shape[0]\n",
        "\n",
        "    predictions = []\n",
        "\n",
        "    for i in range(n):\n",
        "      result = self.make_predictions(X[i])\n",
        "      predictions.append(result)\n",
        "\n",
        "    return np.array(predictions)\n",
        "\n",
        "\n",
        "  def make_predictions(self,x):\n",
        "\n",
        "    dlist = []\n",
        "    m = self.X_train.shape[0]\n",
        "\n",
        "    for i in range(m):\n",
        "\n",
        "      distance = self.dist(x,self.X_train[i])\n",
        "\n",
        "      dlist.append((distance,self.y_train[i]))\n",
        "\n",
        "\n",
        "    dlist = sorted(dlist)\n",
        "\n",
        "    dlist = np.array(dlist[:self.neighbours])\n",
        "    labels = dlist[:,1]\n",
        "\n",
        "    labels,cnts = np.unique(labels,return_counts = True)\n",
        "    idx = cnts.argmax()\n",
        "    pred = labels[idx]\n",
        "\n",
        "    return int(pred)\n",
        "\n",
        "\n",
        "\n",
        "\n",
        "\n"
      ],
      "metadata": {
        "id": "eatAvX0BYLN1"
      },
      "id": "eatAvX0BYLN1",
      "execution_count": 371,
      "outputs": []
    },
    {
      "cell_type": "code",
      "source": [
        "def compute_accuracy(y_true, y_pred):\n",
        "    \"\"\"\n",
        "    Computes the accuracy of a classification model.\n",
        "\n",
        "    Parameters:\n",
        "    y_true (numpy array): A numpy array of true labels for each data point.\n",
        "    y_pred (numpy array): A numpy array of predicted labels for each data point.\n",
        "\n",
        "    Returns:\n",
        "    float: The accuracy of the model, expressed as a percentage.\n",
        "    \"\"\"\n",
        "    y_true = y_true.flatten()\n",
        "    total_samples = len(y_true)\n",
        "    correct_predictions = np.sum(y_true == y_pred)\n",
        "    return (correct_predictions / total_samples)"
      ],
      "metadata": {
        "id": "Yvvbnd0fdD_o"
      },
      "id": "Yvvbnd0fdD_o",
      "execution_count": 372,
      "outputs": []
    },
    {
      "cell_type": "code",
      "source": [
        "result_knn = []\n",
        "k_values = []\n",
        "for i in range(10):\n",
        "  model = KNN(i+1)\n",
        "  model.fit(predictor_Training, response_Training)\n",
        "  predictions = model.predict(predictor_test)\n",
        "  accuracy = compute_accuracy(response_test, predictions)\n",
        "\n",
        "  print(f\" our model got accuracy score of : {accuracy}\")\n",
        "  k_values.append(i+1)\n",
        "  result_knn.append(accuracy)"
      ],
      "metadata": {
        "colab": {
          "base_uri": "https://localhost:8080/"
        },
        "id": "x_SG9d1QdGbV",
        "outputId": "a158c8ca-60d9-47a6-a250-6769597bff1a"
      },
      "id": "x_SG9d1QdGbV",
      "execution_count": 373,
      "outputs": [
        {
          "output_type": "stream",
          "name": "stderr",
          "text": [
            "<ipython-input-371-5f55a5ece081>:39: VisibleDeprecationWarning: Creating an ndarray from ragged nested sequences (which is a list-or-tuple of lists-or-tuples-or ndarrays with different lengths or shapes) is deprecated. If you meant to do this, you must specify 'dtype=object' when creating the ndarray.\n",
            "  dlist = np.array(dlist[:self.neighbours])\n"
          ]
        },
        {
          "output_type": "stream",
          "name": "stdout",
          "text": [
            " our model got accuracy score of : 0.9902777777777778\n",
            " our model got accuracy score of : 0.9888888888888889\n",
            " our model got accuracy score of : 0.9875\n",
            " our model got accuracy score of : 0.9861111111111112\n",
            " our model got accuracy score of : 0.9847222222222223\n",
            " our model got accuracy score of : 0.9791666666666666\n",
            " our model got accuracy score of : 0.9791666666666666\n",
            " our model got accuracy score of : 0.9708333333333333\n",
            " our model got accuracy score of : 0.975\n",
            " our model got accuracy score of : 0.9694444444444444\n"
          ]
        }
      ]
    },
    {
      "cell_type": "code",
      "source": [
        "plt.plot(k_values, result_knn, marker='o')\n",
        "plt.title('Test Accuracy vs. K Value')\n",
        "plt.xlabel('K Value')\n",
        "plt.ylabel('Test Accuracy')\n",
        "plt.show()"
      ],
      "metadata": {
        "id": "UeIplaSOo3hP"
      },
      "id": "UeIplaSOo3hP",
      "execution_count": null,
      "outputs": []
    },
    {
      "cell_type": "code",
      "source": [
        "from sklearn.neighbors import KNeighborsClassifier\n",
        "\n",
        "result_knn_sklearn = []\n",
        "k_values_sklearn = []\n",
        "\n",
        "for i in range(50):\n",
        "  skmodel = KNeighborsClassifier(n_neighbors=i+1)\n",
        "  skmodel.fit(predictor_Training_sklearn, response_Training_sklearn)\n",
        "  sk_predictions = skmodel.predict(predictor_test_sklearn)\n",
        "  sk_accuracy = compute_accuracy(response_test_sklearn, sk_predictions)\n",
        "  result_knn_sklearn.append(sk_accuracy)\n",
        "  k_values_sklearn.append(i+1)"
      ],
      "metadata": {
        "id": "m5yEnYBXhdrd"
      },
      "id": "m5yEnYBXhdrd",
      "execution_count": null,
      "outputs": []
    },
    {
      "cell_type": "code",
      "source": [
        "plt.plot(k_values_sklearn, result_knn_sklearn, marker='o')\n",
        "plt.title('Test Accuracy vs. K Value using Sklearn')\n",
        "plt.xlabel('K Value')\n",
        "plt.ylabel('Test Accuracy')\n",
        "plt.show()"
      ],
      "metadata": {
        "id": "fv26t_fKxg3t",
        "outputId": "962ea696-fb7c-4f3d-9b38-d39b468d04bf",
        "colab": {
          "base_uri": "https://localhost:8080/",
          "height": 472
        }
      },
      "id": "fv26t_fKxg3t",
      "execution_count": 376,
      "outputs": [
        {
          "data": {
            "image/png": "[encoded data removed]",
            "text/plain": [
              "<Figure size 640x480 with 1 Axes>"
            ]
          },
          "metadata": {},
          "output_type": "display_data"
        }
      ]
    }
  ],
  "metadata": {
    "kernelspec": {
      "display_name": "Python 3",
      "language": "python",
      "name": "python3"
    },
    "language_info": {
      "codemirror_mode": {
        "name": "ipython",
        "version": 3
      },
      "file_extension": ".py",
      "mimetype": "text/x-python",
      "name": "python",
      "nbconvert_exporter": "python",
      "pygments_lexer": "ipython3",
      "version": "3.7.12"
    },
    "papermill": {
      "default_parameters": {},
      "duration": 29.612929,
      "end_time": "2023-05-25T07:37:18.635459",
      "environment_variables": {},
      "exception": null,
      "input_path": "__notebook__.ipynb",
      "output_path": "__notebook__.ipynb",
      "parameters": {},
      "start_time": "2023-05-25T07:36:49.022530",
      "version": "2.3.4"
    },
    "colab": {
      "provenance": [],
      "include_colab_link": true
    }
  },
  "nbformat": 4,
  "nbformat_minor": 5
}