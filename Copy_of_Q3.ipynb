{
  "cells": [
    {
      "cell_type": "markdown",
      "metadata": {
        "id": "view-in-github",
        "colab_type": "text"
      },
      "source": [
        "<a href=\"https://colab.research.google.com/github/AkshayKohad/ML-Tutorial/blob/main/Copy_of_Q3.ipynb\" target=\"_parent\"><img src=\"https://colab.research.google.com/assets/colab-badge.svg\" alt=\"Open In Colab\"/></a>"
      ]
    },
    {
      "cell_type": "markdown",
      "metadata": {
        "id": "NBjekUKKzDg3"
      },
      "source": [
        "# Assignment 1\n",
        "\n",
        "## Question 3 (Linear Regression)\n",
        "\n",
        "This assignment will have you working and experimenting with linear regression. The general multiple linear regression model, given $p$ predictors, is defined as: $$Y=\\beta_0+\\beta_1X_1+\\beta_2X_2+...+\\beta_pX_p+\\epsilon,$$ where $Y$ is the response variable, $X_j$ is the $j$<sup>th</sup> predictor and $\\beta_j$ quantifies the association between the response and the variable. A good way to think about $\\beta_j$ is as the average effect on $Y$ of a one unit increase in $X_j$, holding all other predictors fixed. The $\\epsilon$ term is the error term, which is independent of $X$ and has mean zero (the expected value of $Y$ when all variables are set to zero).\n",
        "\n",
        "Work with Numpy only and do not use library functions that directly perform model fitting like `np.polyfit`. However, you may use library functions to compare your results while experimenting. This assignment becomes much easier to complete if accompanied by reading the third chapter in An Introduction to Statistical Learning. The text is freely available for download on the internet at [statlearning.com](statlearning.com)\n",
        "\n",
        "Reference: James, G., Witten, D., Hastie, T., Tibshirani, R., Taylor, J. (2023). Linear Regression. In: An Introduction to Statistical Learning. Springer Texts in Statistics. Springer, Cham. https://doi.org/10.1007/978-3-031-38747-0_3"
      ]
    },
    {
      "cell_type": "markdown",
      "metadata": {
        "id": "5j_YEOpDzJDk"
      },
      "source": [
        "### Imports"
      ]
    },
    {
      "cell_type": "code",
      "execution_count": 430,
      "metadata": {
        "id": "zjmte2ZLzH4Q"
      },
      "outputs": [],
      "source": [
        "import numpy as np\n",
        "import matplotlib.pyplot as plt\n",
        "import pandas as pd\n",
        "\n",
        "# other imports if necessary\n",
        "from sklearn.model_selection import train_test_split"
      ]
    },
    {
      "cell_type": "markdown",
      "metadata": {
        "id": "AjVF377ozMjX"
      },
      "source": [
        "### Part 1: Simple Regression\n",
        "\n",
        "In this part, the function `gen_data()` samples hundred data points from a random 25 degree single-variable polynomial. This data is stored in the `predictor` and `response` variables. Your task is to experiment with linear regression on this dataset. Specifically:\n",
        "\n",
        "1. Fit a line to the curve $(y=\\beta_1x+\\beta_0)$\n",
        "2. Fit a polynomial to the curve $(y=\\sum_{0}^{k}\\beta_kx^k)$ and choose $k$ that satisfactorily minimizes error.\n",
        "    - Note that the original polynomial is a 25 degree polynomial and we might not need exactly that many.\n",
        "    - Check how well the coefficients match when we try to fit a 25 degree polynomial to the data. Get the coefficients from the `gen_data()` function.\n",
        "\n",
        "Report error metrics for all experiments in tabular form (or any other way that helps us compare and choose between the different methods)\n",
        "\n"
      ]
    },
    {
      "cell_type": "code",
      "source": [
        "# 1. Fitting a line to the curve"
      ],
      "metadata": {
        "id": "5k3CxKszw3sj"
      },
      "execution_count": 431,
      "outputs": []
    },
    {
      "cell_type": "code",
      "execution_count": 432,
      "metadata": {
        "id": "9MjixImKzL9Y",
        "colab": {
          "base_uri": "https://localhost:8080/",
          "height": 472
        },
        "outputId": "fb02e02f-55c1-4e11-fa75-d2b6fc3e6015"
      },
      "outputs": [
        {
          "output_type": "display_data",
          "data": {
            "text/plain": [
              "<Figure size 640x480 with 1 Axes>"
            ],
            "image/png": "[encoded data removed]"
          },
          "metadata": {}
        }
      ],
      "source": [
        "def gen_data():\n",
        "    coeff = np.random.rand(26)\n",
        "    x = np.linspace(-1.1, 0.9, 200)\n",
        "    y = np.zeros_like(x)\n",
        "    for i, c in enumerate(coeff):\n",
        "        y += c * x**i\n",
        "    y += np.random.randn(200) * 0.1\n",
        "\n",
        "    return x, y\n",
        "\n",
        "predictor, response = gen_data()\n",
        "\n",
        "x_val = predictor\n",
        "y_val = response\n",
        "plt.plot(predictor, response, 'r+')\n",
        "plt.xlabel('Predictor')\n",
        "plt.ylabel('Response')\n",
        "plt.title('Sampled Data Points')\n",
        "plt.show()"
      ]
    },
    {
      "cell_type": "code",
      "execution_count": 433,
      "metadata": {
        "id": "KVbMVmm72vhB",
        "colab": {
          "base_uri": "https://localhost:8080/"
        },
        "outputId": "054caa51-fd3d-4442-949f-77cd94786b16"
      },
      "outputs": [
        {
          "output_type": "stream",
          "name": "stdout",
          "text": [
            "(200,) (200,)\n"
          ]
        }
      ],
      "source": [
        "# your code here\n",
        "print(predictor.shape,response.shape)"
      ]
    },
    {
      "cell_type": "code",
      "source": [
        "def plotData(X,y,color=\"orange\",title=\"Data\"):\n",
        "  plt.title(title)\n",
        "\n",
        "  plt.scatter(X,y,c=color)\n",
        "  plt.show()\n",
        "\n",
        "plotData(predictor,response)"
      ],
      "metadata": {
        "colab": {
          "base_uri": "https://localhost:8080/",
          "height": 452
        },
        "id": "GjhFZgi_RK_C",
        "outputId": "94799a12-a15c-4239-8d8e-d38a3c98be56"
      },
      "execution_count": 434,
      "outputs": [
        {
          "output_type": "display_data",
          "data": {
            "text/plain": [
              "<Figure size 640x480 with 1 Axes>"
            ],
            "image/png": "[encoded data removed]"
          },
          "metadata": {}
        }
      ]
    },
    {
      "cell_type": "code",
      "source": [
        "def Data_Normalisation(predictor):\n",
        "  predictor = (predictor-predictor.mean())/predictor.std()\n",
        "  return predictor\n"
      ],
      "metadata": {
        "id": "ar4_UXF5RW2Z"
      },
      "execution_count": 435,
      "outputs": []
    },
    {
      "cell_type": "code",
      "source": [
        "val = Data_Normalisation(predictor)\n",
        "print(val)"
      ],
      "metadata": {
        "colab": {
          "base_uri": "https://localhost:8080/"
        },
        "id": "L75nLXmrRrjF",
        "outputId": "78405ddf-3561-4e36-c16e-263683928f06"
      },
      "execution_count": 436,
      "outputs": [
        {
          "output_type": "stream",
          "name": "stdout",
          "text": [
            "[-1.7234121  -1.70609137 -1.68877065 -1.67144992 -1.6541292  -1.63680847\n",
            " -1.61948775 -1.60216702 -1.5848463  -1.56752558 -1.55020485 -1.53288413\n",
            " -1.5155634  -1.49824268 -1.48092195 -1.46360123 -1.4462805  -1.42895978\n",
            " -1.41163905 -1.39431833 -1.3769976  -1.35967688 -1.34235616 -1.32503543\n",
            " -1.30771471 -1.29039398 -1.27307326 -1.25575253 -1.23843181 -1.22111108\n",
            " -1.20379036 -1.18646963 -1.16914891 -1.15182818 -1.13450746 -1.11718674\n",
            " -1.09986601 -1.08254529 -1.06522456 -1.04790384 -1.03058311 -1.01326239\n",
            " -0.99594166 -0.97862094 -0.96130021 -0.94397949 -0.92665877 -0.90933804\n",
            " -0.89201732 -0.87469659 -0.85737587 -0.84005514 -0.82273442 -0.80541369\n",
            " -0.78809297 -0.77077224 -0.75345152 -0.73613079 -0.71881007 -0.70148935\n",
            " -0.68416862 -0.6668479  -0.64952717 -0.63220645 -0.61488572 -0.597565\n",
            " -0.58024427 -0.56292355 -0.54560282 -0.5282821  -0.51096138 -0.49364065\n",
            " -0.47631993 -0.4589992  -0.44167848 -0.42435775 -0.40703703 -0.3897163\n",
            " -0.37239558 -0.35507485 -0.33775413 -0.3204334  -0.30311268 -0.28579196\n",
            " -0.26847123 -0.25115051 -0.23382978 -0.21650906 -0.19918833 -0.18186761\n",
            " -0.16454688 -0.14722616 -0.12990543 -0.11258471 -0.09526399 -0.07794326\n",
            " -0.06062254 -0.04330181 -0.02598109 -0.00866036  0.00866036  0.02598109\n",
            "  0.04330181  0.06062254  0.07794326  0.09526399  0.11258471  0.12990543\n",
            "  0.14722616  0.16454688  0.18186761  0.19918833  0.21650906  0.23382978\n",
            "  0.25115051  0.26847123  0.28579196  0.30311268  0.3204334   0.33775413\n",
            "  0.35507485  0.37239558  0.3897163   0.40703703  0.42435775  0.44167848\n",
            "  0.4589992   0.47631993  0.49364065  0.51096138  0.5282821   0.54560282\n",
            "  0.56292355  0.58024427  0.597565    0.61488572  0.63220645  0.64952717\n",
            "  0.6668479   0.68416862  0.70148935  0.71881007  0.73613079  0.75345152\n",
            "  0.77077224  0.78809297  0.80541369  0.82273442  0.84005514  0.85737587\n",
            "  0.87469659  0.89201732  0.90933804  0.92665877  0.94397949  0.96130021\n",
            "  0.97862094  0.99594166  1.01326239  1.03058311  1.04790384  1.06522456\n",
            "  1.08254529  1.09986601  1.11718674  1.13450746  1.15182818  1.16914891\n",
            "  1.18646963  1.20379036  1.22111108  1.23843181  1.25575253  1.27307326\n",
            "  1.29039398  1.30771471  1.32503543  1.34235616  1.35967688  1.3769976\n",
            "  1.39431833  1.41163905  1.42895978  1.4462805   1.46360123  1.48092195\n",
            "  1.49824268  1.5155634   1.53288413  1.55020485  1.56752558  1.5848463\n",
            "  1.60216702  1.61948775  1.63680847  1.6541292   1.67144992  1.68877065\n",
            "  1.70609137  1.7234121 ]\n"
          ]
        }
      ]
    },
    {
      "cell_type": "code",
      "source": [
        "plotData(predictor,response,\"orange\",\"Data\")\n",
        "# predictor = Data_Normalisation(predictor)\n",
        "plotData(predictor,response,\"orange\",\"Normalised Data\")"
      ],
      "metadata": {
        "colab": {
          "base_uri": "https://localhost:8080/",
          "height": 887
        },
        "id": "HtFSY2eARy7G",
        "outputId": "f2ea079e-5676-44f4-acdb-10cc3db6ba40"
      },
      "execution_count": 437,
      "outputs": [
        {
          "output_type": "display_data",
          "data": {
            "text/plain": [
              "<Figure size 640x480 with 1 Axes>"
            ],
            "image/png": "[encoded data removed]"
          },
          "metadata": {}
        },
        {
          "output_type": "display_data",
          "data": {
            "text/plain": [
              "<Figure size 640x480 with 1 Axes>"
            ],
            "image/png": "[encoded data removed]"
          },
          "metadata": {}
        }
      ]
    },
    {
      "cell_type": "code",
      "source": [
        "def trainTestSplit(predictor,response,split=0.8):\n",
        "  m = predictor.shape[0]\n",
        "\n",
        "  data = np.zeros((m,2))\n",
        "\n",
        "  data[:,0] = predictor\n",
        "  data[:,1] = response\n",
        "\n",
        "  np.random.shuffle(data)\n",
        "\n",
        "  split = int(m*split)\n",
        "\n",
        "  # X TRAINING\n",
        "  predictor_Training = data[:split,0]\n",
        "\n",
        "  # y TRAINING\n",
        "  response_Training = data[:split,1]\n",
        "\n",
        "  # X TESTING\n",
        "\n",
        "  predictor_test = data[split:,0]\n",
        "\n",
        "  # y TESTING\n",
        "\n",
        "  response_test = data[split:,1]\n",
        "\n",
        "  return predictor_Training,response_Training,predictor_test,response_test\n"
      ],
      "metadata": {
        "id": "ZXPV3_AlSHDK"
      },
      "execution_count": 438,
      "outputs": []
    },
    {
      "cell_type": "code",
      "source": [
        "predictor_Training,response_Training,predictor_test,response_test = trainTestSplit(predictor,response)\n",
        "\n",
        "print(predictor_Training.shape,response_Training.shape,predictor_test.shape,response_test.shape)"
      ],
      "metadata": {
        "colab": {
          "base_uri": "https://localhost:8080/"
        },
        "id": "HzjaoAnJUh1k",
        "outputId": "309aedc1-f322-46d7-cf0a-3aef3ee4aefc"
      },
      "execution_count": 439,
      "outputs": [
        {
          "output_type": "stream",
          "name": "stdout",
          "text": [
            "(160,) (160,) (40,) (40,)\n"
          ]
        }
      ]
    },
    {
      "cell_type": "code",
      "source": [
        "plt.scatter(predictor_Training,response_Training,color=\"orange\",label=\"Train Data\")\n",
        "plt.scatter(predictor_test,response_test,color=\"blue\",label=\"Test Data\")\n",
        "plt.title(\"Train-Test Data\")\n",
        "plt.legend()\n",
        "plt.show()"
      ],
      "metadata": {
        "colab": {
          "base_uri": "https://localhost:8080/",
          "height": 452
        },
        "id": "AOssesKsU_XZ",
        "outputId": "21859d45-6195-40a7-c8d5-014c7f3312a1"
      },
      "execution_count": 440,
      "outputs": [
        {
          "output_type": "display_data",
          "data": {
            "text/plain": [
              "<Figure size 640x480 with 1 Axes>"
            ],
            "image/png": "[encoded data removed]"
          },
          "metadata": {}
        }
      ]
    },
    {
      "cell_type": "code",
      "source": [
        "from binascii import b2a_uu\n",
        "#Hypothesis Function\n",
        "\n",
        "def hypothesis(predictor,beta):\n",
        "  # h(beta) = beta(0) + beta(1)*X\n",
        "  return beta[0] + beta[1]*predictor\n",
        "\n",
        " #loss function\n",
        "def error(predictor,response,beta):\n",
        "\n",
        " #calculation of J(beta)\n",
        "  m = predictor.shape[0]\n",
        "  e = 0\n",
        "\n",
        "  for i in range(m):\n",
        "    response_i = hypothesis(predictor[i],beta)\n",
        "    e = e + (response[i]-response_i)**2\n",
        "\n",
        "  return e/(2*m)\n",
        "\n",
        "\n",
        "def gradient(predictor,response,beta):\n",
        "\n",
        "  m = predictor.shape[0]\n",
        "\n",
        "  grad = np.zeros((2,))\n",
        "\n",
        "  for i in range(m):\n",
        "    exp = hypothesis(predictor[i],beta)-response[i]\n",
        "\n",
        "    grad[0] = grad[0] + exp\n",
        "\n",
        "    grad[1] = grad[1] + exp*predictor[i]\n",
        "\n",
        "\n",
        "  return grad/m\n",
        "\n",
        "\n",
        "\n",
        "# Training of data\n",
        "def train(predictor,response,learning_rate=0.1,maxItrs=100):\n",
        "\n",
        "  beta = np.zeros((2,))\n",
        "  error_list = []\n",
        "\n",
        "\n",
        "  for i in range(maxItrs):\n",
        "    grad = gradient(predictor,response,beta)\n",
        "    error_list.append(error(predictor,response,beta))\n",
        "\n",
        "    beta[0] = beta[0] - learning_rate*grad[0]\n",
        "    beta[1] = beta[1] - learning_rate*grad[1]\n",
        "\n",
        "  plt.xlabel(\"Number of Iterations\")\n",
        "  plt.ylabel(\"Loss\")\n",
        "  plt.plot(error_list)\n",
        "  return beta\n"
      ],
      "metadata": {
        "id": "qfjKki6FV7Rr"
      },
      "execution_count": 441,
      "outputs": []
    },
    {
      "cell_type": "code",
      "source": [
        "beta = train(predictor,response)"
      ],
      "metadata": {
        "colab": {
          "base_uri": "https://localhost:8080/",
          "height": 449
        },
        "id": "Fi1zSwuZuEPR",
        "outputId": "4c1936c6-4fcd-4ab6-966b-9338e542761e"
      },
      "execution_count": 442,
      "outputs": [
        {
          "output_type": "display_data",
          "data": {
            "text/plain": [
              "<Figure size 640x480 with 1 Axes>"
            ],
            "image/png": "[encoded data removed]"
          },
          "metadata": {}
        }
      ]
    },
    {
      "cell_type": "code",
      "source": [
        "def predict(prediction,beta):\n",
        "  return hypothesis(prediction,beta)"
      ],
      "metadata": {
        "id": "1t2_EGCUtB3O"
      },
      "execution_count": 443,
      "outputs": []
    },
    {
      "cell_type": "code",
      "source": [
        "plt.scatter(predictor_Training,response_Training)\n",
        "plt.scatter(predictor_test,response_test,color=\"orange\")\n",
        "plt.show()"
      ],
      "metadata": {
        "colab": {
          "base_uri": "https://localhost:8080/",
          "height": 430
        },
        "id": "TmqUwoibtICZ",
        "outputId": "df2cb509-748a-4c93-ec17-1d1a007a8427"
      },
      "execution_count": 444,
      "outputs": [
        {
          "output_type": "display_data",
          "data": {
            "text/plain": [
              "<Figure size 640x480 with 1 Axes>"
            ],
            "image/png": "[encoded data removed]"
          },
          "metadata": {}
        }
      ]
    },
    {
      "cell_type": "code",
      "source": [
        "response_result = predict(predictor_test,beta)"
      ],
      "metadata": {
        "id": "QcfFEH-MtxBA"
      },
      "execution_count": 445,
      "outputs": []
    },
    {
      "cell_type": "code",
      "source": [
        "plt.scatter(predictor_Training,response_Training,label=\"Train\")\n",
        "plt.scatter(predictor_test,response_test,color=\"orange\",label=\"Test\")\n",
        "plt.plot(predictor_test,response_result,color=\"green\",label=\"Prediction\")\n",
        "plt.legend()\n",
        "plt.show()"
      ],
      "metadata": {
        "colab": {
          "base_uri": "https://localhost:8080/",
          "height": 430
        },
        "id": "3IlPt1bmvBMz",
        "outputId": "923160a2-6d13-4f3c-ca03-83e4c44f7ffc"
      },
      "execution_count": 446,
      "outputs": [
        {
          "output_type": "display_data",
          "data": {
            "text/plain": [
              "<Figure size 640x480 with 1 Axes>"
            ],
            "image/png": "[encoded data removed]"
          },
          "metadata": {}
        }
      ]
    },
    {
      "cell_type": "code",
      "source": [
        "plt.scatter(x_val,y_val,label=\"Points\")"
      ],
      "metadata": {
        "colab": {
          "base_uri": "https://localhost:8080/",
          "height": 447
        },
        "id": "am3P7OiIRmqp",
        "outputId": "69efd4d6-98fd-4e42-afca-9e60091c54fd"
      },
      "execution_count": 447,
      "outputs": [
        {
          "output_type": "execute_result",
          "data": {
            "text/plain": [
              "<matplotlib.collections.PathCollection at 0x7c80d2bb4f40>"
            ]
          },
          "metadata": {},
          "execution_count": 447
        },
        {
          "output_type": "display_data",
          "data": {
            "text/plain": [
              "<Figure size 640x480 with 1 Axes>"
            ],
            "image/png": "[encoded data removed]"
          },
          "metadata": {}
        }
      ]
    },
    {
      "cell_type": "code",
      "source": [
        "# Model Evaluation\n",
        "def r2Score(response,response_result):\n",
        "  response_mean = response.mean()\n",
        "  num = np.sum((response-response_result)**2)\n",
        "  denom = np.sum((response-response_mean)**2)\n",
        "\n",
        "  return 1- num/denom\n",
        "\n",
        "r2Score(response_test,response_result)\n"
      ],
      "metadata": {
        "colab": {
          "base_uri": "https://localhost:8080/"
        },
        "id": "kkS2hSr9vUtF",
        "outputId": "39942252-aaf8-4f56-89cb-49cb743d1746"
      },
      "execution_count": 448,
      "outputs": [
        {
          "output_type": "execute_result",
          "data": {
            "text/plain": [
              "0.6196263492573506"
            ]
          },
          "metadata": {},
          "execution_count": 448
        }
      ]
    },
    {
      "cell_type": "code",
      "source": [
        "# 2. Fit a polynomial to the curve"
      ],
      "metadata": {
        "id": "0TdmqfAX1AHo"
      },
      "execution_count": 449,
      "outputs": []
    },
    {
      "cell_type": "code",
      "source": [
        "#print(predictor,response)\n",
        "predictor.shape\n",
        "# np.random.shuffle(predictor)\n",
        "\n",
        "predictor = predictor.reshape((200, 1))\n",
        "predictor.shape\n",
        "n_degree = 15"
      ],
      "metadata": {
        "id": "xSI_sv4r1Nd9"
      },
      "execution_count": 450,
      "outputs": []
    },
    {
      "cell_type": "code",
      "source": [
        "def Addition_of_features(n_degree,predictor):\n",
        "\n",
        "  additional_features = np.zeros((200, n_degree-1))\n",
        "  predictor = np.concatenate((predictor, additional_features), axis=1)\n",
        "  for i in range(200):\n",
        "    for j in range(n_degree):\n",
        "\n",
        "      if j==0:\n",
        "        continue\n",
        "\n",
        "      predictor[i][j] = predictor[i][0]**(j+1)\n",
        "\n",
        "  return predictor\n"
      ],
      "metadata": {
        "id": "92iV4_Y_WJgl"
      },
      "execution_count": 451,
      "outputs": []
    },
    {
      "cell_type": "code",
      "source": [
        "def Data_Normalisation_polynomial(predictor):\n",
        "  u = predictor.mean(axis=0)\n",
        "  std = predictor.std(axis=0)\n",
        "\n",
        "  return (predictor-u)/std"
      ],
      "metadata": {
        "id": "REsM3nfmXf2T"
      },
      "execution_count": 452,
      "outputs": []
    },
    {
      "cell_type": "code",
      "source": [
        "def train_test_split_polynomial(predictor,response):\n",
        "  # predictor_Training,predictor_test,response_Training,response_test = trainTestSplit_polynomial(predictor,response)\n",
        "  predictor_Training,predictor_test,response_Training,response_test = train_test_split(predictor,response,test_size=0.3,shuffle=True,random_state=0)\n",
        "  return predictor_Training,predictor_test,response_Training,response_test"
      ],
      "metadata": {
        "id": "DeSzhnQJYpLK"
      },
      "execution_count": 453,
      "outputs": []
    },
    {
      "cell_type": "code",
      "source": [
        "def preprocess(predictor,degree):\n",
        "  # add a column of 1s in X as the 0th column\n",
        "  if predictor.shape[1] == degree:\n",
        "\n",
        "    m = predictor.shape[0]\n",
        "    ones = np.ones((m,1))\n",
        "\n",
        "    # adding 1 as row in X\n",
        "    predictor = np.hstack((ones,predictor))\n",
        "\n",
        "  return predictor"
      ],
      "metadata": {
        "id": "UP8AjpDTeLcP"
      },
      "execution_count": 454,
      "outputs": []
    },
    {
      "cell_type": "code",
      "source": [
        "\n",
        "# Below is vectorized way of multiplication, it is faster than using loops\n",
        "def hypothesis_polynomial(X,theta):\n",
        "  # X - (m,n+1), theta - (n+1,1)\n",
        "  # return dim (m,1)\n",
        "  return np.dot(X,theta)\n",
        "\n",
        "\n",
        "def loss_polynomial(X,y,theta):\n",
        "  yp = hypothesis_polynomial(X,theta)\n",
        "  # yp - (m,1)\n",
        "\n",
        "  m = yp.shape[0]\n",
        "\n",
        "  # print(yp.shape,y.shape)\n",
        "  error = np.sum((y-yp)**2)\n",
        "  error = error/(2*m)\n",
        "\n",
        "  return error\n",
        "\n",
        "def gradient_polynomial(X,y,theta):\n",
        "  yp = hypothesis_polynomial(X,theta)\n",
        "\n",
        "  grad = np.dot(X.T,(yp-y))\n",
        "  m = X.shape[0]\n",
        "\n",
        "  return grad/m\n",
        "\n",
        "def train_polynomial(X,y,learning_rate=0.1,max_iters=200):\n",
        "\n",
        "  n = X.shape[1]\n",
        "\n",
        "  beta = np.random.randn(n)\n",
        "\n",
        "  error_list = []\n",
        "\n",
        "  for i in range(max_iters):\n",
        "\n",
        "    e = loss_polynomial(X,y,beta)\n",
        "\n",
        "    grad = gradient_polynomial(X,y,beta)\n",
        "\n",
        "    # print(grad.shape)\n",
        "    beta = beta - learning_rate*grad\n",
        "\n",
        "    error_list.append(e)\n",
        "\n",
        "  # plt.plot(error_list)\n",
        "  return beta\n"
      ],
      "metadata": {
        "id": "pq1FJsaV3ETJ"
      },
      "execution_count": 455,
      "outputs": []
    },
    {
      "cell_type": "code",
      "source": [
        "def r2Score_polynomial(response,response_p):\n",
        "  response_mean = response.mean()\n",
        "  num = np.sum((response-response_p)**2)\n",
        "  denom = np.sum((response-response_mean)**2)\n",
        "  return 1 - num/denom"
      ],
      "metadata": {
        "id": "2HihH9eK5NTu"
      },
      "execution_count": 456,
      "outputs": []
    },
    {
      "cell_type": "code",
      "source": [
        "r2_score=0\n",
        "res_degree=0\n",
        "\n",
        "result_predictor_test = predict\n",
        "result_response_test = response\n",
        "result_predictor_train = predict\n",
        "result_response_train = response\n",
        "result_response_p = response\n",
        "for i in range(26):\n",
        "  if i==0 or i==1:\n",
        "    continue\n",
        "\n",
        "  res_predictor = predictor\n",
        "  res_response = response\n",
        "  res_predictor = Addition_of_features(i,res_predictor)\n",
        "  res_predictor = Data_Normalisation_polynomial(res_predictor)\n",
        "\n",
        "  res_predictor_train,res_predictor_test,res_response_train,res_response_test = train_test_split_polynomial(res_predictor,res_response)\n",
        "\n",
        "  res_predictor_train = preprocess(res_predictor_train,i)\n",
        "  res_predictor_test = preprocess(res_predictor_test,i)\n",
        "\n",
        "  beta = train_polynomial(res_predictor_train,res_response_train)\n",
        "  # print(beta)\n",
        "\n",
        "  res_response_p = hypothesis_polynomial(res_predictor_test,beta)\n",
        "  r2_val = r2Score_polynomial(res_response_test,res_response_p)\n",
        "  print(r2_val)\n",
        "  if r2_val > r2_score:\n",
        "    r2_score = r2_val\n",
        "    res_degree = i\n",
        "    result_predictor_test = res_predictor_test\n",
        "    result_predictor_train = res_predictor_train\n",
        "    result_response_test = res_response_test\n",
        "    result_response_train = res_response_train\n",
        "    result_response_p = res_response_p\n",
        "\n"
      ],
      "metadata": {
        "colab": {
          "base_uri": "https://localhost:8080/"
        },
        "id": "UmycHCX0APbi",
        "outputId": "84f2bf90-b0ab-4fc2-8cbf-0373e6efce27"
      },
      "execution_count": 457,
      "outputs": [
        {
          "output_type": "stream",
          "name": "stdout",
          "text": [
            "0.5075485874182161\n",
            "0.5862757531303111\n",
            "0.5628483575352223\n",
            "0.5544594303517054\n",
            "0.4991451529904851\n",
            "0.6212285129599239\n",
            "0.6766382926785686\n",
            "0.6937885878219983\n",
            "0.7164495456322825\n",
            "0.6855749318519028\n",
            "0.8037891913301474\n",
            "0.7152281530898306\n",
            "0.8715318180855252\n",
            "0.8205032104698313\n",
            "0.9090718845315042\n",
            "0.8810724964971023\n",
            "0.8036561294976476\n",
            "0.9282453230139238\n",
            "0.9206454057398286\n",
            "0.851113950453086\n",
            "-1693004310061740.8\n",
            "-7.890981645861898e+31\n",
            "-2.7177748250367736e+47\n",
            "-1.8694876985248393e+62\n"
          ]
        }
      ]
    },
    {
      "cell_type": "code",
      "source": [
        "print(r2_score)\n",
        "print(res_degree)"
      ],
      "metadata": {
        "colab": {
          "base_uri": "https://localhost:8080/"
        },
        "id": "aJWgNkNH5v2R",
        "outputId": "6fc9702b-dfd4-4fe4-e4d2-052f5446c6ce"
      },
      "execution_count": 458,
      "outputs": [
        {
          "output_type": "stream",
          "name": "stdout",
          "text": [
            "0.9282453230139238\n",
            "19\n"
          ]
        }
      ]
    },
    {
      "cell_type": "code",
      "source": [
        "# predictor_test = predictor_test.reshape((predictor_test.shape[0],))\n",
        "\n",
        "\n",
        "sorted_indices = result_predictor_test.T[1].argsort()\n",
        "\n",
        "# Sort predictor_test.T[1] and response_test based on the sorted indices\n",
        "sorted_predictor = result_predictor_test.T[1][sorted_indices]\n",
        "sorted_response = result_response_p[sorted_indices]\n",
        "\n",
        "plt.scatter(result_predictor_train.T[1],result_response_train,label=\"Train\")\n",
        "plt.scatter(result_predictor_test.T[1],result_response_test,color=\"orange\",label=\"Test\")\n",
        "plt.plot(sorted_predictor,sorted_response,color=\"green\",label=\"Prediction\")\n",
        "plt.legend()\n",
        "plt.show()"
      ],
      "metadata": {
        "colab": {
          "base_uri": "https://localhost:8080/",
          "height": 430
        },
        "id": "B7n3IY-s6JL7",
        "outputId": "9157bbe3-df1c-45b3-a158-17003d0ef3a6"
      },
      "execution_count": 459,
      "outputs": [
        {
          "output_type": "display_data",
          "data": {
            "text/plain": [
              "<Figure size 640x480 with 1 Axes>"
            ],
            "image/png": "[encoded data removed]"
          },
          "metadata": {}
        }
      ]
    },
    {
      "cell_type": "markdown",
      "metadata": {
        "id": "EgQ-VqQOIX4W"
      },
      "source": [
        "#### Part 1.1 Regularization\n",
        "\n",
        "In this section, you will be required to perform the converse of the previous section. After generating data from a lower degree polynomial, you will try to fit a higher degree polynomial to it. This will result in overfitting. You will then use regularization to reduce the overfitting. Try both L1 and L2 regularization and compare the results."
      ]
    },
    {
      "cell_type": "code",
      "execution_count": 460,
      "metadata": {
        "colab": {
          "base_uri": "https://localhost:8080/",
          "height": 472
        },
        "id": "RITgjquQIX4W",
        "outputId": "d8fa6b40-d4de-4033-b72a-374317dc5b50"
      },
      "outputs": [
        {
          "output_type": "display_data",
          "data": {
            "text/plain": [
              "<Figure size 640x480 with 1 Axes>"
            ],
            "image/png": "[encoded data removed]"
          },
          "metadata": {}
        }
      ],
      "source": [
        "def gen_data_low():\n",
        "    coeff = np.random.rand(np.random.choice([3, 5, 7]))\n",
        "    x = np.linspace(-1.1, 0.9, 100)\n",
        "    y = np.zeros_like(x)\n",
        "    for i, c in enumerate(coeff):\n",
        "        y += c * x**i\n",
        "    y += np.random.randn(100) * 0.1\n",
        "\n",
        "    return x, y\n",
        "\n",
        "predictor_low, response_low = gen_data_low()\n",
        "\n",
        "plt.plot(predictor_low, response_low, 'r+')\n",
        "plt.xlabel('Predictor')\n",
        "plt.ylabel('Response')\n",
        "plt.title('Sampled Data Points')\n",
        "plt.show()"
      ]
    },
    {
      "cell_type": "code",
      "execution_count": 461,
      "metadata": {
        "id": "1nFGRPJ0IX4W"
      },
      "outputs": [],
      "source": [
        "# your code here"
      ]
    },
    {
      "cell_type": "markdown",
      "metadata": {
        "id": "jvlMEbh_b0pN"
      },
      "source": [
        "### Part 2: Credit Data\n",
        "\n",
        "In this part, we work with the credit.csv file that predicts `Balance` after looking at predictors like `Income`, `Age`, `Limit`, etc. Your task is to understand the relationship between the predictors and response using linear regression techniques. Specifically:\n",
        "\n",
        "1. Perform multiple linear regression on the dataset. $(Y=\\sum\\beta_iX_i+\\epsilon)$\n",
        "2. Test whether all the variables are needed to predict `Balance` or if any of them can be discarded.\n",
        "3. Test for [interaction effects](https://en.wikipedia.org/wiki/Interaction_(statistics)#In_regression) between `Rating` and `Age`.\n",
        "\n",
        "As before, perform the above experiments by obtaining and reporting error metrics for all experiments."
      ]
    },
    {
      "cell_type": "code",
      "execution_count": 462,
      "metadata": {
        "colab": {
          "base_uri": "https://localhost:8080/",
          "height": 206
        },
        "id": "14AuOLx02x-U",
        "outputId": "f5b49823-cdd7-4d75-b876-7f37703979bf"
      },
      "outputs": [
        {
          "output_type": "execute_result",
          "data": {
            "text/plain": [
              "    Income  Limit  Rating  Cards  Age  Education  Balance\n",
              "0   14.891   3606     283      2   34         11      333\n",
              "1  106.025   6645     483      3   82         15      903\n",
              "2  104.593   7075     514      4   71         11      580\n",
              "3  148.924   9504     681      3   36         11      964\n",
              "4   55.882   4897     357      2   68         16      331"
            ],
            "text/html": [
              "\n",
              "  <div id=\"df-cff37f30-dc03-4540-aa70-572ea85c4780\" class=\"colab-df-container\">\n",
              "    <div>\n",
              "<style scoped>\n",
              "    .dataframe tbody tr th:only-of-type {\n",
              "        vertical-align: middle;\n",
              "    }\n",
              "\n",
              "    .dataframe tbody tr th {\n",
              "        vertical-align: top;\n",
              "    }\n",
              "\n",
              "    .dataframe thead th {\n",
              "        text-align: right;\n",
              "    }\n",
              "</style>\n",
              "<table border=\"1\" class=\"dataframe\">\n",
              "  <thead>\n",
              "    <tr style=\"text-align: right;\">\n",
              "      <th></th>\n",
              "      <th>Income</th>\n",
              "      <th>Limit</th>\n",
              "      <th>Rating</th>\n",
              "      <th>Cards</th>\n",
              "      <th>Age</th>\n",
              "      <th>Education</th>\n",
              "      <th>Balance</th>\n",
              "    </tr>\n",
              "  </thead>\n",
              "  <tbody>\n",
              "    <tr>\n",
              "      <th>0</th>\n",
              "      <td>14.891</td>\n",
              "      <td>3606</td>\n",
              "      <td>283</td>\n",
              "      <td>2</td>\n",
              "      <td>34</td>\n",
              "      <td>11</td>\n",
              "      <td>333</td>\n",
              "    </tr>\n",
              "    <tr>\n",
              "      <th>1</th>\n",
              "      <td>106.025</td>\n",
              "      <td>6645</td>\n",
              "      <td>483</td>\n",
              "      <td>3</td>\n",
              "      <td>82</td>\n",
              "      <td>15</td>\n",
              "      <td>903</td>\n",
              "    </tr>\n",
              "    <tr>\n",
              "      <th>2</th>\n",
              "      <td>104.593</td>\n",
              "      <td>7075</td>\n",
              "      <td>514</td>\n",
              "      <td>4</td>\n",
              "      <td>71</td>\n",
              "      <td>11</td>\n",
              "      <td>580</td>\n",
              "    </tr>\n",
              "    <tr>\n",
              "      <th>3</th>\n",
              "      <td>148.924</td>\n",
              "      <td>9504</td>\n",
              "      <td>681</td>\n",
              "      <td>3</td>\n",
              "      <td>36</td>\n",
              "      <td>11</td>\n",
              "      <td>964</td>\n",
              "    </tr>\n",
              "    <tr>\n",
              "      <th>4</th>\n",
              "      <td>55.882</td>\n",
              "      <td>4897</td>\n",
              "      <td>357</td>\n",
              "      <td>2</td>\n",
              "      <td>68</td>\n",
              "      <td>16</td>\n",
              "      <td>331</td>\n",
              "    </tr>\n",
              "  </tbody>\n",
              "</table>\n",
              "</div>\n",
              "    <div class=\"colab-df-buttons\">\n",
              "\n",
              "  <div class=\"colab-df-container\">\n",
              "    <button class=\"colab-df-convert\" onclick=\"convertToInteractive('df-cff37f30-dc03-4540-aa70-572ea85c4780')\"\n",
              "            title=\"Convert this dataframe to an interactive table.\"\n",
              "            style=\"display:none;\">\n",
              "\n",
              "  <svg xmlns=\"http://www.w3.org/2000/svg\" height=\"24px\" viewBox=\"0 -960 960 960\">\n",
              "    <path d=\"M120-120v-720h720v720H120Zm60-500h600v-160H180v160Zm220 220h160v-160H400v160Zm0 220h160v-160H400v160ZM180-400h160v-160H180v160Zm440 0h160v-160H620v160ZM180-180h160v-160H180v160Zm440 0h160v-160H620v160Z\"/>\n",
              "  </svg>\n",
              "    </button>\n",
              "\n",
              "  <style>\n",
              "    .colab-df-container {\n",
              "      display:flex;\n",
              "      gap: 12px;\n",
              "    }\n",
              "\n",
              "    .colab-df-convert {\n",
              "      background-color: #E8F0FE;\n",
              "      border: none;\n",
              "      border-radius: 50%;\n",
              "      cursor: pointer;\n",
              "      display: none;\n",
              "      fill: #1967D2;\n",
              "      height: 32px;\n",
              "      padding: 0 0 0 0;\n",
              "      width: 32px;\n",
              "    }\n",
              "\n",
              "    .colab-df-convert:hover {\n",
              "      background-color: #E2EBFA;\n",
              "      box-shadow: 0px 1px 2px rgba(60, 64, 67, 0.3), 0px 1px 3px 1px rgba(60, 64, 67, 0.15);\n",
              "      fill: #174EA6;\n",
              "    }\n",
              "\n",
              "    .colab-df-buttons div {\n",
              "      margin-bottom: 4px;\n",
              "    }\n",
              "\n",
              "    [theme=dark] .colab-df-convert {\n",
              "      background-color: #3B4455;\n",
              "      fill: #D2E3FC;\n",
              "    }\n",
              "\n",
              "    [theme=dark] .colab-df-convert:hover {\n",
              "      background-color: #434B5C;\n",
              "      box-shadow: 0px 1px 3px 1px rgba(0, 0, 0, 0.15);\n",
              "      filter: drop-shadow(0px 1px 2px rgba(0, 0, 0, 0.3));\n",
              "      fill: #FFFFFF;\n",
              "    }\n",
              "  </style>\n",
              "\n",
              "    <script>\n",
              "      const buttonEl =\n",
              "        document.querySelector('#df-cff37f30-dc03-4540-aa70-572ea85c4780 button.colab-df-convert');\n",
              "      buttonEl.style.display =\n",
              "        google.colab.kernel.accessAllowed ? 'block' : 'none';\n",
              "\n",
              "      async function convertToInteractive(key) {\n",
              "        const element = document.querySelector('#df-cff37f30-dc03-4540-aa70-572ea85c4780');\n",
              "        const dataTable =\n",
              "          await google.colab.kernel.invokeFunction('convertToInteractive',\n",
              "                                                    [key], {});\n",
              "        if (!dataTable) return;\n",
              "\n",
              "        const docLinkHtml = 'Like what you see? Visit the ' +\n",
              "          '<a target=\"_blank\" href=https://colab.research.google.com/notebooks/data_table.ipynb>data table notebook</a>'\n",
              "          + ' to learn more about interactive tables.';\n",
              "        element.innerHTML = '';\n",
              "        dataTable['output_type'] = 'display_data';\n",
              "        await google.colab.output.renderOutput(dataTable, element);\n",
              "        const docLink = document.createElement('div');\n",
              "        docLink.innerHTML = docLinkHtml;\n",
              "        element.appendChild(docLink);\n",
              "      }\n",
              "    </script>\n",
              "  </div>\n",
              "\n",
              "\n",
              "<div id=\"df-dfbb1821-ae6d-479a-a697-2ce3ee678146\">\n",
              "  <button class=\"colab-df-quickchart\" onclick=\"quickchart('df-dfbb1821-ae6d-479a-a697-2ce3ee678146')\"\n",
              "            title=\"Suggest charts\"\n",
              "            style=\"display:none;\">\n",
              "\n",
              "<svg xmlns=\"http://www.w3.org/2000/svg\" height=\"24px\"viewBox=\"0 0 24 24\"\n",
              "     width=\"24px\">\n",
              "    <g>\n",
              "        <path d=\"M19 3H5c-1.1 0-2 .9-2 2v14c0 1.1.9 2 2 2h14c1.1 0 2-.9 2-2V5c0-1.1-.9-2-2-2zM9 17H7v-7h2v7zm4 0h-2V7h2v10zm4 0h-2v-4h2v4z\"/>\n",
              "    </g>\n",
              "</svg>\n",
              "  </button>\n",
              "\n",
              "<style>\n",
              "  .colab-df-quickchart {\n",
              "      --bg-color: #E8F0FE;\n",
              "      --fill-color: #1967D2;\n",
              "      --hover-bg-color: #E2EBFA;\n",
              "      --hover-fill-color: #174EA6;\n",
              "      --disabled-fill-color: #AAA;\n",
              "      --disabled-bg-color: #DDD;\n",
              "  }\n",
              "\n",
              "  [theme=dark] .colab-df-quickchart {\n",
              "      --bg-color: #3B4455;\n",
              "      --fill-color: #D2E3FC;\n",
              "      --hover-bg-color: #434B5C;\n",
              "      --hover-fill-color: #FFFFFF;\n",
              "      --disabled-bg-color: #3B4455;\n",
              "      --disabled-fill-color: #666;\n",
              "  }\n",
              "\n",
              "  .colab-df-quickchart {\n",
              "    background-color: var(--bg-color);\n",
              "    border: none;\n",
              "    border-radius: 50%;\n",
              "    cursor: pointer;\n",
              "    display: none;\n",
              "    fill: var(--fill-color);\n",
              "    height: 32px;\n",
              "    padding: 0;\n",
              "    width: 32px;\n",
              "  }\n",
              "\n",
              "  .colab-df-quickchart:hover {\n",
              "    background-color: var(--hover-bg-color);\n",
              "    box-shadow: 0 1px 2px rgba(60, 64, 67, 0.3), 0 1px 3px 1px rgba(60, 64, 67, 0.15);\n",
              "    fill: var(--button-hover-fill-color);\n",
              "  }\n",
              "\n",
              "  .colab-df-quickchart-complete:disabled,\n",
              "  .colab-df-quickchart-complete:disabled:hover {\n",
              "    background-color: var(--disabled-bg-color);\n",
              "    fill: var(--disabled-fill-color);\n",
              "    box-shadow: none;\n",
              "  }\n",
              "\n",
              "  .colab-df-spinner {\n",
              "    border: 2px solid var(--fill-color);\n",
              "    border-color: transparent;\n",
              "    border-bottom-color: var(--fill-color);\n",
              "    animation:\n",
              "      spin 1s steps(1) infinite;\n",
              "  }\n",
              "\n",
              "  @keyframes spin {\n",
              "    0% {\n",
              "      border-color: transparent;\n",
              "      border-bottom-color: var(--fill-color);\n",
              "      border-left-color: var(--fill-color);\n",
              "    }\n",
              "    20% {\n",
              "      border-color: transparent;\n",
              "      border-left-color: var(--fill-color);\n",
              "      border-top-color: var(--fill-color);\n",
              "    }\n",
              "    30% {\n",
              "      border-color: transparent;\n",
              "      border-left-color: var(--fill-color);\n",
              "      border-top-color: var(--fill-color);\n",
              "      border-right-color: var(--fill-color);\n",
              "    }\n",
              "    40% {\n",
              "      border-color: transparent;\n",
              "      border-right-color: var(--fill-color);\n",
              "      border-top-color: var(--fill-color);\n",
              "    }\n",
              "    60% {\n",
              "      border-color: transparent;\n",
              "      border-right-color: var(--fill-color);\n",
              "    }\n",
              "    80% {\n",
              "      border-color: transparent;\n",
              "      border-right-color: var(--fill-color);\n",
              "      border-bottom-color: var(--fill-color);\n",
              "    }\n",
              "    90% {\n",
              "      border-color: transparent;\n",
              "      border-bottom-color: var(--fill-color);\n",
              "    }\n",
              "  }\n",
              "</style>\n",
              "\n",
              "  <script>\n",
              "    async function quickchart(key) {\n",
              "      const quickchartButtonEl =\n",
              "        document.querySelector('#' + key + ' button');\n",
              "      quickchartButtonEl.disabled = true;  // To prevent multiple clicks.\n",
              "      quickchartButtonEl.classList.add('colab-df-spinner');\n",
              "      try {\n",
              "        const charts = await google.colab.kernel.invokeFunction(\n",
              "            'suggestCharts', [key], {});\n",
              "      } catch (error) {\n",
              "        console.error('Error during call to suggestCharts:', error);\n",
              "      }\n",
              "      quickchartButtonEl.classList.remove('colab-df-spinner');\n",
              "      quickchartButtonEl.classList.add('colab-df-quickchart-complete');\n",
              "    }\n",
              "    (() => {\n",
              "      let quickchartButtonEl =\n",
              "        document.querySelector('#df-dfbb1821-ae6d-479a-a697-2ce3ee678146 button');\n",
              "      quickchartButtonEl.style.display =\n",
              "        google.colab.kernel.accessAllowed ? 'block' : 'none';\n",
              "    })();\n",
              "  </script>\n",
              "</div>\n",
              "\n",
              "    </div>\n",
              "  </div>\n"
            ]
          },
          "metadata": {},
          "execution_count": 462
        }
      ],
      "source": [
        "credit = pd.read_csv('credit.csv')\n",
        "credit.head()"
      ]
    },
    {
      "cell_type": "markdown",
      "metadata": {
        "id": "wDFv0bB-0Wfx"
      },
      "source": [
        "### Part 3: Shark Attacks\n",
        "\n",
        "This is a fun dataset that aims to predict the number of shark attacks (`SharkAttacks`) using variables like `Year`, `Month`, `Temperature`, and `IceCreamSales`. This dataset has been used in popular media to show how correlation does not imply causation. Test whether predictions made with ice cream sales data are any better/worse than predictions made by neglecting ice cream sales data.\n",
        "\n",
        "This sort of analysis reminds us that it is important to look at the data before using it for learning representations."
      ]
    },
    {
      "cell_type": "code",
      "execution_count": 463,
      "metadata": {
        "colab": {
          "base_uri": "https://localhost:8080/",
          "height": 206
        },
        "id": "GgftPmoIDChS",
        "outputId": "ebb1d470-3787-4def-8aa4-e639b6b99cb8"
      },
      "outputs": [
        {
          "output_type": "execute_result",
          "data": {
            "text/plain": [
              "   Year  Month  SharkAttacks  Temperature  IceCreamSales\n",
              "0  2008      1            25         11.9             76\n",
              "1  2008      2            28         15.2             79\n",
              "2  2008      3            32         17.2             91\n",
              "3  2008      4            35         18.5             95\n",
              "4  2008      5            38         19.4            103"
            ],
            "text/html": [
              "\n",
              "  <div id=\"df-535ee2dc-9e2b-42e0-9d0a-b4f6232247ab\" class=\"colab-df-container\">\n",
              "    <div>\n",
              "<style scoped>\n",
              "    .dataframe tbody tr th:only-of-type {\n",
              "        vertical-align: middle;\n",
              "    }\n",
              "\n",
              "    .dataframe tbody tr th {\n",
              "        vertical-align: top;\n",
              "    }\n",
              "\n",
              "    .dataframe thead th {\n",
              "        text-align: right;\n",
              "    }\n",
              "</style>\n",
              "<table border=\"1\" class=\"dataframe\">\n",
              "  <thead>\n",
              "    <tr style=\"text-align: right;\">\n",
              "      <th></th>\n",
              "      <th>Year</th>\n",
              "      <th>Month</th>\n",
              "      <th>SharkAttacks</th>\n",
              "      <th>Temperature</th>\n",
              "      <th>IceCreamSales</th>\n",
              "    </tr>\n",
              "  </thead>\n",
              "  <tbody>\n",
              "    <tr>\n",
              "      <th>0</th>\n",
              "      <td>2008</td>\n",
              "      <td>1</td>\n",
              "      <td>25</td>\n",
              "      <td>11.9</td>\n",
              "      <td>76</td>\n",
              "    </tr>\n",
              "    <tr>\n",
              "      <th>1</th>\n",
              "      <td>2008</td>\n",
              "      <td>2</td>\n",
              "      <td>28</td>\n",
              "      <td>15.2</td>\n",
              "      <td>79</td>\n",
              "    </tr>\n",
              "    <tr>\n",
              "      <th>2</th>\n",
              "      <td>2008</td>\n",
              "      <td>3</td>\n",
              "      <td>32</td>\n",
              "      <td>17.2</td>\n",
              "      <td>91</td>\n",
              "    </tr>\n",
              "    <tr>\n",
              "      <th>3</th>\n",
              "      <td>2008</td>\n",
              "      <td>4</td>\n",
              "      <td>35</td>\n",
              "      <td>18.5</td>\n",
              "      <td>95</td>\n",
              "    </tr>\n",
              "    <tr>\n",
              "      <th>4</th>\n",
              "      <td>2008</td>\n",
              "      <td>5</td>\n",
              "      <td>38</td>\n",
              "      <td>19.4</td>\n",
              "      <td>103</td>\n",
              "    </tr>\n",
              "  </tbody>\n",
              "</table>\n",
              "</div>\n",
              "    <div class=\"colab-df-buttons\">\n",
              "\n",
              "  <div class=\"colab-df-container\">\n",
              "    <button class=\"colab-df-convert\" onclick=\"convertToInteractive('df-535ee2dc-9e2b-42e0-9d0a-b4f6232247ab')\"\n",
              "            title=\"Convert this dataframe to an interactive table.\"\n",
              "            style=\"display:none;\">\n",
              "\n",
              "  <svg xmlns=\"http://www.w3.org/2000/svg\" height=\"24px\" viewBox=\"0 -960 960 960\">\n",
              "    <path d=\"M120-120v-720h720v720H120Zm60-500h600v-160H180v160Zm220 220h160v-160H400v160Zm0 220h160v-160H400v160ZM180-400h160v-160H180v160Zm440 0h160v-160H620v160ZM180-180h160v-160H180v160Zm440 0h160v-160H620v160Z\"/>\n",
              "  </svg>\n",
              "    </button>\n",
              "\n",
              "  <style>\n",
              "    .colab-df-container {\n",
              "      display:flex;\n",
              "      gap: 12px;\n",
              "    }\n",
              "\n",
              "    .colab-df-convert {\n",
              "      background-color: #E8F0FE;\n",
              "      border: none;\n",
              "      border-radius: 50%;\n",
              "      cursor: pointer;\n",
              "      display: none;\n",
              "      fill: #1967D2;\n",
              "      height: 32px;\n",
              "      padding: 0 0 0 0;\n",
              "      width: 32px;\n",
              "    }\n",
              "\n",
              "    .colab-df-convert:hover {\n",
              "      background-color: #E2EBFA;\n",
              "      box-shadow: 0px 1px 2px rgba(60, 64, 67, 0.3), 0px 1px 3px 1px rgba(60, 64, 67, 0.15);\n",
              "      fill: #174EA6;\n",
              "    }\n",
              "\n",
              "    .colab-df-buttons div {\n",
              "      margin-bottom: 4px;\n",
              "    }\n",
              "\n",
              "    [theme=dark] .colab-df-convert {\n",
              "      background-color: #3B4455;\n",
              "      fill: #D2E3FC;\n",
              "    }\n",
              "\n",
              "    [theme=dark] .colab-df-convert:hover {\n",
              "      background-color: #434B5C;\n",
              "      box-shadow: 0px 1px 3px 1px rgba(0, 0, 0, 0.15);\n",
              "      filter: drop-shadow(0px 1px 2px rgba(0, 0, 0, 0.3));\n",
              "      fill: #FFFFFF;\n",
              "    }\n",
              "  </style>\n",
              "\n",
              "    <script>\n",
              "      const buttonEl =\n",
              "        document.querySelector('#df-535ee2dc-9e2b-42e0-9d0a-b4f6232247ab button.colab-df-convert');\n",
              "      buttonEl.style.display =\n",
              "        google.colab.kernel.accessAllowed ? 'block' : 'none';\n",
              "\n",
              "      async function convertToInteractive(key) {\n",
              "        const element = document.querySelector('#df-535ee2dc-9e2b-42e0-9d0a-b4f6232247ab');\n",
              "        const dataTable =\n",
              "          await google.colab.kernel.invokeFunction('convertToInteractive',\n",
              "                                                    [key], {});\n",
              "        if (!dataTable) return;\n",
              "\n",
              "        const docLinkHtml = 'Like what you see? Visit the ' +\n",
              "          '<a target=\"_blank\" href=https://colab.research.google.com/notebooks/data_table.ipynb>data table notebook</a>'\n",
              "          + ' to learn more about interactive tables.';\n",
              "        element.innerHTML = '';\n",
              "        dataTable['output_type'] = 'display_data';\n",
              "        await google.colab.output.renderOutput(dataTable, element);\n",
              "        const docLink = document.createElement('div');\n",
              "        docLink.innerHTML = docLinkHtml;\n",
              "        element.appendChild(docLink);\n",
              "      }\n",
              "    </script>\n",
              "  </div>\n",
              "\n",
              "\n",
              "<div id=\"df-1adf9c09-06a3-4790-bfa0-f2d22383612f\">\n",
              "  <button class=\"colab-df-quickchart\" onclick=\"quickchart('df-1adf9c09-06a3-4790-bfa0-f2d22383612f')\"\n",
              "            title=\"Suggest charts\"\n",
              "            style=\"display:none;\">\n",
              "\n",
              "<svg xmlns=\"http://www.w3.org/2000/svg\" height=\"24px\"viewBox=\"0 0 24 24\"\n",
              "     width=\"24px\">\n",
              "    <g>\n",
              "        <path d=\"M19 3H5c-1.1 0-2 .9-2 2v14c0 1.1.9 2 2 2h14c1.1 0 2-.9 2-2V5c0-1.1-.9-2-2-2zM9 17H7v-7h2v7zm4 0h-2V7h2v10zm4 0h-2v-4h2v4z\"/>\n",
              "    </g>\n",
              "</svg>\n",
              "  </button>\n",
              "\n",
              "<style>\n",
              "  .colab-df-quickchart {\n",
              "      --bg-color: #E8F0FE;\n",
              "      --fill-color: #1967D2;\n",
              "      --hover-bg-color: #E2EBFA;\n",
              "      --hover-fill-color: #174EA6;\n",
              "      --disabled-fill-color: #AAA;\n",
              "      --disabled-bg-color: #DDD;\n",
              "  }\n",
              "\n",
              "  [theme=dark] .colab-df-quickchart {\n",
              "      --bg-color: #3B4455;\n",
              "      --fill-color: #D2E3FC;\n",
              "      --hover-bg-color: #434B5C;\n",
              "      --hover-fill-color: #FFFFFF;\n",
              "      --disabled-bg-color: #3B4455;\n",
              "      --disabled-fill-color: #666;\n",
              "  }\n",
              "\n",
              "  .colab-df-quickchart {\n",
              "    background-color: var(--bg-color);\n",
              "    border: none;\n",
              "    border-radius: 50%;\n",
              "    cursor: pointer;\n",
              "    display: none;\n",
              "    fill: var(--fill-color);\n",
              "    height: 32px;\n",
              "    padding: 0;\n",
              "    width: 32px;\n",
              "  }\n",
              "\n",
              "  .colab-df-quickchart:hover {\n",
              "    background-color: var(--hover-bg-color);\n",
              "    box-shadow: 0 1px 2px rgba(60, 64, 67, 0.3), 0 1px 3px 1px rgba(60, 64, 67, 0.15);\n",
              "    fill: var(--button-hover-fill-color);\n",
              "  }\n",
              "\n",
              "  .colab-df-quickchart-complete:disabled,\n",
              "  .colab-df-quickchart-complete:disabled:hover {\n",
              "    background-color: var(--disabled-bg-color);\n",
              "    fill: var(--disabled-fill-color);\n",
              "    box-shadow: none;\n",
              "  }\n",
              "\n",
              "  .colab-df-spinner {\n",
              "    border: 2px solid var(--fill-color);\n",
              "    border-color: transparent;\n",
              "    border-bottom-color: var(--fill-color);\n",
              "    animation:\n",
              "      spin 1s steps(1) infinite;\n",
              "  }\n",
              "\n",
              "  @keyframes spin {\n",
              "    0% {\n",
              "      border-color: transparent;\n",
              "      border-bottom-color: var(--fill-color);\n",
              "      border-left-color: var(--fill-color);\n",
              "    }\n",
              "    20% {\n",
              "      border-color: transparent;\n",
              "      border-left-color: var(--fill-color);\n",
              "      border-top-color: var(--fill-color);\n",
              "    }\n",
              "    30% {\n",
              "      border-color: transparent;\n",
              "      border-left-color: var(--fill-color);\n",
              "      border-top-color: var(--fill-color);\n",
              "      border-right-color: var(--fill-color);\n",
              "    }\n",
              "    40% {\n",
              "      border-color: transparent;\n",
              "      border-right-color: var(--fill-color);\n",
              "      border-top-color: var(--fill-color);\n",
              "    }\n",
              "    60% {\n",
              "      border-color: transparent;\n",
              "      border-right-color: var(--fill-color);\n",
              "    }\n",
              "    80% {\n",
              "      border-color: transparent;\n",
              "      border-right-color: var(--fill-color);\n",
              "      border-bottom-color: var(--fill-color);\n",
              "    }\n",
              "    90% {\n",
              "      border-color: transparent;\n",
              "      border-bottom-color: var(--fill-color);\n",
              "    }\n",
              "  }\n",
              "</style>\n",
              "\n",
              "  <script>\n",
              "    async function quickchart(key) {\n",
              "      const quickchartButtonEl =\n",
              "        document.querySelector('#' + key + ' button');\n",
              "      quickchartButtonEl.disabled = true;  // To prevent multiple clicks.\n",
              "      quickchartButtonEl.classList.add('colab-df-spinner');\n",
              "      try {\n",
              "        const charts = await google.colab.kernel.invokeFunction(\n",
              "            'suggestCharts', [key], {});\n",
              "      } catch (error) {\n",
              "        console.error('Error during call to suggestCharts:', error);\n",
              "      }\n",
              "      quickchartButtonEl.classList.remove('colab-df-spinner');\n",
              "      quickchartButtonEl.classList.add('colab-df-quickchart-complete');\n",
              "    }\n",
              "    (() => {\n",
              "      let quickchartButtonEl =\n",
              "        document.querySelector('#df-1adf9c09-06a3-4790-bfa0-f2d22383612f button');\n",
              "      quickchartButtonEl.style.display =\n",
              "        google.colab.kernel.accessAllowed ? 'block' : 'none';\n",
              "    })();\n",
              "  </script>\n",
              "</div>\n",
              "\n",
              "    </div>\n",
              "  </div>\n"
            ]
          },
          "metadata": {},
          "execution_count": 463
        }
      ],
      "source": [
        "sharks = pd.read_csv('shark_attacks.csv')\n",
        "sharks.head()"
      ]
    },
    {
      "cell_type": "code",
      "execution_count": 464,
      "metadata": {
        "id": "FVLNM47UDWNV"
      },
      "outputs": [],
      "source": [
        "# your code here"
      ]
    }
  ],
  "metadata": {
    "colab": {
      "provenance": [],
      "include_colab_link": true
    },
    "kernelspec": {
      "display_name": "Python 3 (ipykernel)",
      "language": "python",
      "name": "python3"
    },
    "language_info": {
      "codemirror_mode": {
        "name": "ipython",
        "version": 3
      },
      "file_extension": ".py",
      "mimetype": "text/x-python",
      "name": "python",
      "nbconvert_exporter": "python",
      "pygments_lexer": "ipython3",
      "version": "3.7.6"
    }
  },
  "nbformat": 4,
  "nbformat_minor": 0
}