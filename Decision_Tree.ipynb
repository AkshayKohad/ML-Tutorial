{
  "nbformat": 4,
  "nbformat_minor": 0,
  "metadata": {
    "colab": {
      "provenance": [],
      "authorship_tag": "ABX9TyMJiZCm4I9Tv0o1PSqVt0gQ",
      "include_colab_link": true
    },
    "kernelspec": {
      "name": "python3",
      "display_name": "Python 3"
    },
    "language_info": {
      "name": "python"
    }
  },
  "cells": [
    {
      "cell_type": "markdown",
      "metadata": {
        "id": "view-in-github",
        "colab_type": "text"
      },
      "source": [
        "<a href=\"https://colab.research.google.com/github/AkshayKohad/ML-Tutorial/blob/main/Decision_Tree.ipynb\" target=\"_parent\"><img src=\"https://colab.research.google.com/assets/colab-badge.svg\" alt=\"Open In Colab\"/></a>"
      ]
    },
    {
      "cell_type": "code",
      "execution_count": 8,
      "metadata": {
        "id": "49bcnF3q0KuX"
      },
      "outputs": [],
      "source": [
        "import numpy as np"
      ]
    },
    {
      "cell_type": "code",
      "source": [
        "# Calculating entropy\n",
        "def entropy(var):\n",
        "  N = var.shape[0]\n",
        "  values,counts = np.unique(var,return_counts = True)\n",
        "\n",
        "  ent = 0.0\n",
        "\n",
        "  for i in counts:\n",
        "    p = i/N\n",
        "    ent += (p*np.log2(p))\n",
        "\n",
        "  return -ent\n"
      ],
      "metadata": {
        "id": "MypQnz2K0VZK"
      },
      "execution_count": 9,
      "outputs": []
    },
    {
      "cell_type": "code",
      "source": [
        "Y = np.array([1,0,0,1,0,1,0,1])\n",
        "X = np.array([1,1,1,1,1,1,1,1])"
      ],
      "metadata": {
        "id": "irIkHHiY06nC"
      },
      "execution_count": 10,
      "outputs": []
    },
    {
      "cell_type": "code",
      "source": [
        "entropy(Y)"
      ],
      "metadata": {
        "colab": {
          "base_uri": "https://localhost:8080/"
        },
        "id": "eSnUd14C1IXp",
        "outputId": "8008cc9d-ecf1-44c0-f4c4-a12f8a58f054"
      },
      "execution_count": 11,
      "outputs": [
        {
          "output_type": "execute_result",
          "data": {
            "text/plain": [
              "1.0"
            ]
          },
          "metadata": {},
          "execution_count": 11
        }
      ]
    },
    {
      "cell_type": "code",
      "source": [
        "entropy(X)"
      ],
      "metadata": {
        "colab": {
          "base_uri": "https://localhost:8080/"
        },
        "id": "Qgjnw9jR1WGQ",
        "outputId": "5f2d4d83-3209-449d-e9e0-54b0a28881fa"
      },
      "execution_count": 12,
      "outputs": [
        {
          "output_type": "execute_result",
          "data": {
            "text/plain": [
              "-0.0"
            ]
          },
          "metadata": {},
          "execution_count": 12
        }
      ]
    },
    {
      "cell_type": "code",
      "source": [
        "import pandas as pd"
      ],
      "metadata": {
        "id": "kvn8y7ZvC8Oe"
      },
      "execution_count": 13,
      "outputs": []
    },
    {
      "cell_type": "code",
      "source": [
        "df = pd.read_csv('golf-dataset.csv')"
      ],
      "metadata": {
        "id": "_Ui1dXXVC-Qn"
      },
      "execution_count": 14,
      "outputs": []
    },
    {
      "cell_type": "code",
      "source": [
        "def divide_data(data,feature):\n",
        "  DATA = {}\n",
        "\n",
        "  feat_values = list(data[feature].value_counts().index)\n",
        "  occurence = list(data[feature].value_counts())\n",
        "\n",
        "  for val in feat_values:\n",
        "    DATA[val] = {'data': pd.DataFrame([],columns = data.columns),'len':0}\n",
        "\n",
        "  for ix in range(data.shape[0]):\n",
        "    val = data[feature].iloc[ix]\n",
        "\n",
        "    DATA[val]['data'] = DATA[val]['data'].append(data.iloc[ix])\n",
        "\n",
        "    idx = feat_values.index(val)\n",
        "    DATA[val]['len'] = occurence[idx]\n",
        "\n",
        "  return DATA\n"
      ],
      "metadata": {
        "id": "4oFYwEG7DRAq"
      },
      "execution_count": 15,
      "outputs": []
    },
    {
      "cell_type": "code",
      "source": [
        "divide_data(df,'Outlook')"
      ],
      "metadata": {
        "colab": {
          "base_uri": "https://localhost:8080/"
        },
        "id": "w-dpp7a9HATI",
        "outputId": "30af5df1-5d91-491c-87d9-36e27ad4b6d0"
      },
      "execution_count": 16,
      "outputs": [
        {
          "output_type": "stream",
          "name": "stderr",
          "text": [
            "<ipython-input-15-1e2e6e41fa6f>:13: FutureWarning: The frame.append method is deprecated and will be removed from pandas in a future version. Use pandas.concat instead.\n",
            "  DATA[val]['data'] = DATA[val]['data'].append(data.iloc[ix])\n",
            "<ipython-input-15-1e2e6e41fa6f>:13: FutureWarning: The frame.append method is deprecated and will be removed from pandas in a future version. Use pandas.concat instead.\n",
            "  DATA[val]['data'] = DATA[val]['data'].append(data.iloc[ix])\n",
            "<ipython-input-15-1e2e6e41fa6f>:13: FutureWarning: In a future version, object-dtype columns with all-bool values will not be included in reductions with bool_only=True. Explicitly cast to bool dtype instead.\n",
            "  DATA[val]['data'] = DATA[val]['data'].append(data.iloc[ix])\n",
            "<ipython-input-15-1e2e6e41fa6f>:13: FutureWarning: The frame.append method is deprecated and will be removed from pandas in a future version. Use pandas.concat instead.\n",
            "  DATA[val]['data'] = DATA[val]['data'].append(data.iloc[ix])\n",
            "<ipython-input-15-1e2e6e41fa6f>:13: FutureWarning: The frame.append method is deprecated and will be removed from pandas in a future version. Use pandas.concat instead.\n",
            "  DATA[val]['data'] = DATA[val]['data'].append(data.iloc[ix])\n",
            "<ipython-input-15-1e2e6e41fa6f>:13: FutureWarning: The frame.append method is deprecated and will be removed from pandas in a future version. Use pandas.concat instead.\n",
            "  DATA[val]['data'] = DATA[val]['data'].append(data.iloc[ix])\n",
            "<ipython-input-15-1e2e6e41fa6f>:13: FutureWarning: In a future version, object-dtype columns with all-bool values will not be included in reductions with bool_only=True. Explicitly cast to bool dtype instead.\n",
            "  DATA[val]['data'] = DATA[val]['data'].append(data.iloc[ix])\n",
            "<ipython-input-15-1e2e6e41fa6f>:13: FutureWarning: The frame.append method is deprecated and will be removed from pandas in a future version. Use pandas.concat instead.\n",
            "  DATA[val]['data'] = DATA[val]['data'].append(data.iloc[ix])\n",
            "<ipython-input-15-1e2e6e41fa6f>:13: FutureWarning: In a future version, object-dtype columns with all-bool values will not be included in reductions with bool_only=True. Explicitly cast to bool dtype instead.\n",
            "  DATA[val]['data'] = DATA[val]['data'].append(data.iloc[ix])\n",
            "<ipython-input-15-1e2e6e41fa6f>:13: FutureWarning: The frame.append method is deprecated and will be removed from pandas in a future version. Use pandas.concat instead.\n",
            "  DATA[val]['data'] = DATA[val]['data'].append(data.iloc[ix])\n",
            "<ipython-input-15-1e2e6e41fa6f>:13: FutureWarning: In a future version, object-dtype columns with all-bool values will not be included in reductions with bool_only=True. Explicitly cast to bool dtype instead.\n",
            "  DATA[val]['data'] = DATA[val]['data'].append(data.iloc[ix])\n",
            "<ipython-input-15-1e2e6e41fa6f>:13: FutureWarning: The frame.append method is deprecated and will be removed from pandas in a future version. Use pandas.concat instead.\n",
            "  DATA[val]['data'] = DATA[val]['data'].append(data.iloc[ix])\n",
            "<ipython-input-15-1e2e6e41fa6f>:13: FutureWarning: In a future version, object-dtype columns with all-bool values will not be included in reductions with bool_only=True. Explicitly cast to bool dtype instead.\n",
            "  DATA[val]['data'] = DATA[val]['data'].append(data.iloc[ix])\n",
            "<ipython-input-15-1e2e6e41fa6f>:13: FutureWarning: The frame.append method is deprecated and will be removed from pandas in a future version. Use pandas.concat instead.\n",
            "  DATA[val]['data'] = DATA[val]['data'].append(data.iloc[ix])\n",
            "<ipython-input-15-1e2e6e41fa6f>:13: FutureWarning: In a future version, object-dtype columns with all-bool values will not be included in reductions with bool_only=True. Explicitly cast to bool dtype instead.\n",
            "  DATA[val]['data'] = DATA[val]['data'].append(data.iloc[ix])\n",
            "<ipython-input-15-1e2e6e41fa6f>:13: FutureWarning: The frame.append method is deprecated and will be removed from pandas in a future version. Use pandas.concat instead.\n",
            "  DATA[val]['data'] = DATA[val]['data'].append(data.iloc[ix])\n",
            "<ipython-input-15-1e2e6e41fa6f>:13: FutureWarning: In a future version, object-dtype columns with all-bool values will not be included in reductions with bool_only=True. Explicitly cast to bool dtype instead.\n",
            "  DATA[val]['data'] = DATA[val]['data'].append(data.iloc[ix])\n",
            "<ipython-input-15-1e2e6e41fa6f>:13: FutureWarning: The frame.append method is deprecated and will be removed from pandas in a future version. Use pandas.concat instead.\n",
            "  DATA[val]['data'] = DATA[val]['data'].append(data.iloc[ix])\n",
            "<ipython-input-15-1e2e6e41fa6f>:13: FutureWarning: In a future version, object-dtype columns with all-bool values will not be included in reductions with bool_only=True. Explicitly cast to bool dtype instead.\n",
            "  DATA[val]['data'] = DATA[val]['data'].append(data.iloc[ix])\n",
            "<ipython-input-15-1e2e6e41fa6f>:13: FutureWarning: The frame.append method is deprecated and will be removed from pandas in a future version. Use pandas.concat instead.\n",
            "  DATA[val]['data'] = DATA[val]['data'].append(data.iloc[ix])\n",
            "<ipython-input-15-1e2e6e41fa6f>:13: FutureWarning: In a future version, object-dtype columns with all-bool values will not be included in reductions with bool_only=True. Explicitly cast to bool dtype instead.\n",
            "  DATA[val]['data'] = DATA[val]['data'].append(data.iloc[ix])\n",
            "<ipython-input-15-1e2e6e41fa6f>:13: FutureWarning: The frame.append method is deprecated and will be removed from pandas in a future version. Use pandas.concat instead.\n",
            "  DATA[val]['data'] = DATA[val]['data'].append(data.iloc[ix])\n",
            "<ipython-input-15-1e2e6e41fa6f>:13: FutureWarning: In a future version, object-dtype columns with all-bool values will not be included in reductions with bool_only=True. Explicitly cast to bool dtype instead.\n",
            "  DATA[val]['data'] = DATA[val]['data'].append(data.iloc[ix])\n",
            "<ipython-input-15-1e2e6e41fa6f>:13: FutureWarning: The frame.append method is deprecated and will be removed from pandas in a future version. Use pandas.concat instead.\n",
            "  DATA[val]['data'] = DATA[val]['data'].append(data.iloc[ix])\n",
            "<ipython-input-15-1e2e6e41fa6f>:13: FutureWarning: In a future version, object-dtype columns with all-bool values will not be included in reductions with bool_only=True. Explicitly cast to bool dtype instead.\n",
            "  DATA[val]['data'] = DATA[val]['data'].append(data.iloc[ix])\n"
          ]
        },
        {
          "output_type": "execute_result",
          "data": {
            "text/plain": [
              "{'Rainy': {'data':    Outlook  Temp Humidity  Windy Play Golf\n",
              "  0    Rainy   Hot     High  False        No\n",
              "  1    Rainy   Hot     High   True        No\n",
              "  7    Rainy  Mild     High  False        No\n",
              "  8    Rainy  Cool   Normal  False       Yes\n",
              "  10   Rainy  Mild   Normal   True       Yes,\n",
              "  'len': 5},\n",
              " 'Sunny': {'data':    Outlook  Temp Humidity  Windy Play Golf\n",
              "  3    Sunny  Mild     High  False       Yes\n",
              "  4    Sunny  Cool   Normal  False       Yes\n",
              "  5    Sunny  Cool   Normal   True        No\n",
              "  9    Sunny  Mild   Normal  False       Yes\n",
              "  13   Sunny  Mild     High   True        No,\n",
              "  'len': 5},\n",
              " 'Overcast': {'data':      Outlook  Temp Humidity  Windy Play Golf\n",
              "  2   Overcast   Hot     High  False       Yes\n",
              "  6   Overcast  Cool   Normal   True       Yes\n",
              "  11  Overcast  Mild     High   True       Yes\n",
              "  12  Overcast   Hot   Normal  False       Yes,\n",
              "  'len': 4}}"
            ]
          },
          "metadata": {},
          "execution_count": 16
        }
      ]
    },
    {
      "cell_type": "code",
      "source": [
        "# Information Gain\n",
        "\n",
        "def information_gain(data,feature):\n",
        "  examples = data.shape[0]\n",
        "  DATA = divide_data(data,feature)\n",
        "\n",
        "  keys = DATA.keys()\n",
        "\n",
        "  ent_of_children = 0.0\n",
        "\n",
        "  for key in keys:\n",
        "    ent_of_children += ((DATA[key]['len']/examples)*entropy(DATA[key]['data']['Play Golf']))\n",
        "\n",
        "  info_gain = entropy(data['Play Golf']) - ent_of_children\n",
        "  return info_gain"
      ],
      "metadata": {
        "id": "zemI4c6OHh2B"
      },
      "execution_count": 17,
      "outputs": []
    },
    {
      "cell_type": "code",
      "source": [
        "information_gain(df,'Outlook')"
      ],
      "metadata": {
        "colab": {
          "base_uri": "https://localhost:8080/"
        },
        "id": "keqZuTczJ24j",
        "outputId": "be9881b4-2315-4e82-a14a-880336fa9113"
      },
      "execution_count": 18,
      "outputs": [
        {
          "output_type": "stream",
          "name": "stderr",
          "text": [
            "<ipython-input-15-1e2e6e41fa6f>:13: FutureWarning: The frame.append method is deprecated and will be removed from pandas in a future version. Use pandas.concat instead.\n",
            "  DATA[val]['data'] = DATA[val]['data'].append(data.iloc[ix])\n",
            "<ipython-input-15-1e2e6e41fa6f>:13: FutureWarning: The frame.append method is deprecated and will be removed from pandas in a future version. Use pandas.concat instead.\n",
            "  DATA[val]['data'] = DATA[val]['data'].append(data.iloc[ix])\n",
            "<ipython-input-15-1e2e6e41fa6f>:13: FutureWarning: In a future version, object-dtype columns with all-bool values will not be included in reductions with bool_only=True. Explicitly cast to bool dtype instead.\n",
            "  DATA[val]['data'] = DATA[val]['data'].append(data.iloc[ix])\n",
            "<ipython-input-15-1e2e6e41fa6f>:13: FutureWarning: The frame.append method is deprecated and will be removed from pandas in a future version. Use pandas.concat instead.\n",
            "  DATA[val]['data'] = DATA[val]['data'].append(data.iloc[ix])\n",
            "<ipython-input-15-1e2e6e41fa6f>:13: FutureWarning: The frame.append method is deprecated and will be removed from pandas in a future version. Use pandas.concat instead.\n",
            "  DATA[val]['data'] = DATA[val]['data'].append(data.iloc[ix])\n",
            "<ipython-input-15-1e2e6e41fa6f>:13: FutureWarning: The frame.append method is deprecated and will be removed from pandas in a future version. Use pandas.concat instead.\n",
            "  DATA[val]['data'] = DATA[val]['data'].append(data.iloc[ix])\n",
            "<ipython-input-15-1e2e6e41fa6f>:13: FutureWarning: In a future version, object-dtype columns with all-bool values will not be included in reductions with bool_only=True. Explicitly cast to bool dtype instead.\n",
            "  DATA[val]['data'] = DATA[val]['data'].append(data.iloc[ix])\n",
            "<ipython-input-15-1e2e6e41fa6f>:13: FutureWarning: The frame.append method is deprecated and will be removed from pandas in a future version. Use pandas.concat instead.\n",
            "  DATA[val]['data'] = DATA[val]['data'].append(data.iloc[ix])\n",
            "<ipython-input-15-1e2e6e41fa6f>:13: FutureWarning: In a future version, object-dtype columns with all-bool values will not be included in reductions with bool_only=True. Explicitly cast to bool dtype instead.\n",
            "  DATA[val]['data'] = DATA[val]['data'].append(data.iloc[ix])\n",
            "<ipython-input-15-1e2e6e41fa6f>:13: FutureWarning: The frame.append method is deprecated and will be removed from pandas in a future version. Use pandas.concat instead.\n",
            "  DATA[val]['data'] = DATA[val]['data'].append(data.iloc[ix])\n",
            "<ipython-input-15-1e2e6e41fa6f>:13: FutureWarning: In a future version, object-dtype columns with all-bool values will not be included in reductions with bool_only=True. Explicitly cast to bool dtype instead.\n",
            "  DATA[val]['data'] = DATA[val]['data'].append(data.iloc[ix])\n",
            "<ipython-input-15-1e2e6e41fa6f>:13: FutureWarning: The frame.append method is deprecated and will be removed from pandas in a future version. Use pandas.concat instead.\n",
            "  DATA[val]['data'] = DATA[val]['data'].append(data.iloc[ix])\n",
            "<ipython-input-15-1e2e6e41fa6f>:13: FutureWarning: In a future version, object-dtype columns with all-bool values will not be included in reductions with bool_only=True. Explicitly cast to bool dtype instead.\n",
            "  DATA[val]['data'] = DATA[val]['data'].append(data.iloc[ix])\n",
            "<ipython-input-15-1e2e6e41fa6f>:13: FutureWarning: The frame.append method is deprecated and will be removed from pandas in a future version. Use pandas.concat instead.\n",
            "  DATA[val]['data'] = DATA[val]['data'].append(data.iloc[ix])\n",
            "<ipython-input-15-1e2e6e41fa6f>:13: FutureWarning: In a future version, object-dtype columns with all-bool values will not be included in reductions with bool_only=True. Explicitly cast to bool dtype instead.\n",
            "  DATA[val]['data'] = DATA[val]['data'].append(data.iloc[ix])\n",
            "<ipython-input-15-1e2e6e41fa6f>:13: FutureWarning: The frame.append method is deprecated and will be removed from pandas in a future version. Use pandas.concat instead.\n",
            "  DATA[val]['data'] = DATA[val]['data'].append(data.iloc[ix])\n",
            "<ipython-input-15-1e2e6e41fa6f>:13: FutureWarning: In a future version, object-dtype columns with all-bool values will not be included in reductions with bool_only=True. Explicitly cast to bool dtype instead.\n",
            "  DATA[val]['data'] = DATA[val]['data'].append(data.iloc[ix])\n",
            "<ipython-input-15-1e2e6e41fa6f>:13: FutureWarning: The frame.append method is deprecated and will be removed from pandas in a future version. Use pandas.concat instead.\n",
            "  DATA[val]['data'] = DATA[val]['data'].append(data.iloc[ix])\n",
            "<ipython-input-15-1e2e6e41fa6f>:13: FutureWarning: In a future version, object-dtype columns with all-bool values will not be included in reductions with bool_only=True. Explicitly cast to bool dtype instead.\n",
            "  DATA[val]['data'] = DATA[val]['data'].append(data.iloc[ix])\n",
            "<ipython-input-15-1e2e6e41fa6f>:13: FutureWarning: The frame.append method is deprecated and will be removed from pandas in a future version. Use pandas.concat instead.\n",
            "  DATA[val]['data'] = DATA[val]['data'].append(data.iloc[ix])\n",
            "<ipython-input-15-1e2e6e41fa6f>:13: FutureWarning: In a future version, object-dtype columns with all-bool values will not be included in reductions with bool_only=True. Explicitly cast to bool dtype instead.\n",
            "  DATA[val]['data'] = DATA[val]['data'].append(data.iloc[ix])\n",
            "<ipython-input-15-1e2e6e41fa6f>:13: FutureWarning: The frame.append method is deprecated and will be removed from pandas in a future version. Use pandas.concat instead.\n",
            "  DATA[val]['data'] = DATA[val]['data'].append(data.iloc[ix])\n",
            "<ipython-input-15-1e2e6e41fa6f>:13: FutureWarning: In a future version, object-dtype columns with all-bool values will not be included in reductions with bool_only=True. Explicitly cast to bool dtype instead.\n",
            "  DATA[val]['data'] = DATA[val]['data'].append(data.iloc[ix])\n",
            "<ipython-input-15-1e2e6e41fa6f>:13: FutureWarning: The frame.append method is deprecated and will be removed from pandas in a future version. Use pandas.concat instead.\n",
            "  DATA[val]['data'] = DATA[val]['data'].append(data.iloc[ix])\n",
            "<ipython-input-15-1e2e6e41fa6f>:13: FutureWarning: In a future version, object-dtype columns with all-bool values will not be included in reductions with bool_only=True. Explicitly cast to bool dtype instead.\n",
            "  DATA[val]['data'] = DATA[val]['data'].append(data.iloc[ix])\n"
          ]
        },
        {
          "output_type": "execute_result",
          "data": {
            "text/plain": [
              "0.24674981977443933"
            ]
          },
          "metadata": {},
          "execution_count": 18
        }
      ]
    },
    {
      "cell_type": "code",
      "source": [
        "information_gain(df,'Windy')"
      ],
      "metadata": {
        "colab": {
          "base_uri": "https://localhost:8080/"
        },
        "id": "xlTV1Aa5KMNL",
        "outputId": "a0840e79-2358-4fab-8f2c-f8146da4d0f5"
      },
      "execution_count": 19,
      "outputs": [
        {
          "output_type": "stream",
          "name": "stderr",
          "text": [
            "<ipython-input-15-1e2e6e41fa6f>:13: FutureWarning: The frame.append method is deprecated and will be removed from pandas in a future version. Use pandas.concat instead.\n",
            "  DATA[val]['data'] = DATA[val]['data'].append(data.iloc[ix])\n",
            "<ipython-input-15-1e2e6e41fa6f>:13: FutureWarning: The frame.append method is deprecated and will be removed from pandas in a future version. Use pandas.concat instead.\n",
            "  DATA[val]['data'] = DATA[val]['data'].append(data.iloc[ix])\n",
            "<ipython-input-15-1e2e6e41fa6f>:13: FutureWarning: The frame.append method is deprecated and will be removed from pandas in a future version. Use pandas.concat instead.\n",
            "  DATA[val]['data'] = DATA[val]['data'].append(data.iloc[ix])\n",
            "<ipython-input-15-1e2e6e41fa6f>:13: FutureWarning: In a future version, object-dtype columns with all-bool values will not be included in reductions with bool_only=True. Explicitly cast to bool dtype instead.\n",
            "  DATA[val]['data'] = DATA[val]['data'].append(data.iloc[ix])\n",
            "<ipython-input-15-1e2e6e41fa6f>:13: FutureWarning: The frame.append method is deprecated and will be removed from pandas in a future version. Use pandas.concat instead.\n",
            "  DATA[val]['data'] = DATA[val]['data'].append(data.iloc[ix])\n",
            "<ipython-input-15-1e2e6e41fa6f>:13: FutureWarning: In a future version, object-dtype columns with all-bool values will not be included in reductions with bool_only=True. Explicitly cast to bool dtype instead.\n",
            "  DATA[val]['data'] = DATA[val]['data'].append(data.iloc[ix])\n",
            "<ipython-input-15-1e2e6e41fa6f>:13: FutureWarning: The frame.append method is deprecated and will be removed from pandas in a future version. Use pandas.concat instead.\n",
            "  DATA[val]['data'] = DATA[val]['data'].append(data.iloc[ix])\n",
            "<ipython-input-15-1e2e6e41fa6f>:13: FutureWarning: In a future version, object-dtype columns with all-bool values will not be included in reductions with bool_only=True. Explicitly cast to bool dtype instead.\n",
            "  DATA[val]['data'] = DATA[val]['data'].append(data.iloc[ix])\n",
            "<ipython-input-15-1e2e6e41fa6f>:13: FutureWarning: The frame.append method is deprecated and will be removed from pandas in a future version. Use pandas.concat instead.\n",
            "  DATA[val]['data'] = DATA[val]['data'].append(data.iloc[ix])\n",
            "<ipython-input-15-1e2e6e41fa6f>:13: FutureWarning: In a future version, object-dtype columns with all-bool values will not be included in reductions with bool_only=True. Explicitly cast to bool dtype instead.\n",
            "  DATA[val]['data'] = DATA[val]['data'].append(data.iloc[ix])\n",
            "<ipython-input-15-1e2e6e41fa6f>:13: FutureWarning: The frame.append method is deprecated and will be removed from pandas in a future version. Use pandas.concat instead.\n",
            "  DATA[val]['data'] = DATA[val]['data'].append(data.iloc[ix])\n",
            "<ipython-input-15-1e2e6e41fa6f>:13: FutureWarning: In a future version, object-dtype columns with all-bool values will not be included in reductions with bool_only=True. Explicitly cast to bool dtype instead.\n",
            "  DATA[val]['data'] = DATA[val]['data'].append(data.iloc[ix])\n",
            "<ipython-input-15-1e2e6e41fa6f>:13: FutureWarning: The frame.append method is deprecated and will be removed from pandas in a future version. Use pandas.concat instead.\n",
            "  DATA[val]['data'] = DATA[val]['data'].append(data.iloc[ix])\n",
            "<ipython-input-15-1e2e6e41fa6f>:13: FutureWarning: In a future version, object-dtype columns with all-bool values will not be included in reductions with bool_only=True. Explicitly cast to bool dtype instead.\n",
            "  DATA[val]['data'] = DATA[val]['data'].append(data.iloc[ix])\n",
            "<ipython-input-15-1e2e6e41fa6f>:13: FutureWarning: The frame.append method is deprecated and will be removed from pandas in a future version. Use pandas.concat instead.\n",
            "  DATA[val]['data'] = DATA[val]['data'].append(data.iloc[ix])\n",
            "<ipython-input-15-1e2e6e41fa6f>:13: FutureWarning: In a future version, object-dtype columns with all-bool values will not be included in reductions with bool_only=True. Explicitly cast to bool dtype instead.\n",
            "  DATA[val]['data'] = DATA[val]['data'].append(data.iloc[ix])\n",
            "<ipython-input-15-1e2e6e41fa6f>:13: FutureWarning: The frame.append method is deprecated and will be removed from pandas in a future version. Use pandas.concat instead.\n",
            "  DATA[val]['data'] = DATA[val]['data'].append(data.iloc[ix])\n",
            "<ipython-input-15-1e2e6e41fa6f>:13: FutureWarning: In a future version, object-dtype columns with all-bool values will not be included in reductions with bool_only=True. Explicitly cast to bool dtype instead.\n",
            "  DATA[val]['data'] = DATA[val]['data'].append(data.iloc[ix])\n",
            "<ipython-input-15-1e2e6e41fa6f>:13: FutureWarning: The frame.append method is deprecated and will be removed from pandas in a future version. Use pandas.concat instead.\n",
            "  DATA[val]['data'] = DATA[val]['data'].append(data.iloc[ix])\n",
            "<ipython-input-15-1e2e6e41fa6f>:13: FutureWarning: In a future version, object-dtype columns with all-bool values will not be included in reductions with bool_only=True. Explicitly cast to bool dtype instead.\n",
            "  DATA[val]['data'] = DATA[val]['data'].append(data.iloc[ix])\n",
            "<ipython-input-15-1e2e6e41fa6f>:13: FutureWarning: The frame.append method is deprecated and will be removed from pandas in a future version. Use pandas.concat instead.\n",
            "  DATA[val]['data'] = DATA[val]['data'].append(data.iloc[ix])\n",
            "<ipython-input-15-1e2e6e41fa6f>:13: FutureWarning: In a future version, object-dtype columns with all-bool values will not be included in reductions with bool_only=True. Explicitly cast to bool dtype instead.\n",
            "  DATA[val]['data'] = DATA[val]['data'].append(data.iloc[ix])\n",
            "<ipython-input-15-1e2e6e41fa6f>:13: FutureWarning: The frame.append method is deprecated and will be removed from pandas in a future version. Use pandas.concat instead.\n",
            "  DATA[val]['data'] = DATA[val]['data'].append(data.iloc[ix])\n",
            "<ipython-input-15-1e2e6e41fa6f>:13: FutureWarning: In a future version, object-dtype columns with all-bool values will not be included in reductions with bool_only=True. Explicitly cast to bool dtype instead.\n",
            "  DATA[val]['data'] = DATA[val]['data'].append(data.iloc[ix])\n",
            "<ipython-input-15-1e2e6e41fa6f>:13: FutureWarning: The frame.append method is deprecated and will be removed from pandas in a future version. Use pandas.concat instead.\n",
            "  DATA[val]['data'] = DATA[val]['data'].append(data.iloc[ix])\n",
            "<ipython-input-15-1e2e6e41fa6f>:13: FutureWarning: In a future version, object-dtype columns with all-bool values will not be included in reductions with bool_only=True. Explicitly cast to bool dtype instead.\n",
            "  DATA[val]['data'] = DATA[val]['data'].append(data.iloc[ix])\n"
          ]
        },
        {
          "output_type": "execute_result",
          "data": {
            "text/plain": [
              "0.04812703040826949"
            ]
          },
          "metadata": {},
          "execution_count": 19
        }
      ]
    },
    {
      "cell_type": "code",
      "source": [
        "information_gain(df,'Temp')"
      ],
      "metadata": {
        "colab": {
          "base_uri": "https://localhost:8080/"
        },
        "id": "GWWNK6YAKRZ4",
        "outputId": "6d11f5cf-e1f2-4774-d1a4-72c513ae8850"
      },
      "execution_count": 20,
      "outputs": [
        {
          "output_type": "stream",
          "name": "stderr",
          "text": [
            "<ipython-input-15-1e2e6e41fa6f>:13: FutureWarning: The frame.append method is deprecated and will be removed from pandas in a future version. Use pandas.concat instead.\n",
            "  DATA[val]['data'] = DATA[val]['data'].append(data.iloc[ix])\n",
            "<ipython-input-15-1e2e6e41fa6f>:13: FutureWarning: The frame.append method is deprecated and will be removed from pandas in a future version. Use pandas.concat instead.\n",
            "  DATA[val]['data'] = DATA[val]['data'].append(data.iloc[ix])\n",
            "<ipython-input-15-1e2e6e41fa6f>:13: FutureWarning: In a future version, object-dtype columns with all-bool values will not be included in reductions with bool_only=True. Explicitly cast to bool dtype instead.\n",
            "  DATA[val]['data'] = DATA[val]['data'].append(data.iloc[ix])\n",
            "<ipython-input-15-1e2e6e41fa6f>:13: FutureWarning: The frame.append method is deprecated and will be removed from pandas in a future version. Use pandas.concat instead.\n",
            "  DATA[val]['data'] = DATA[val]['data'].append(data.iloc[ix])\n",
            "<ipython-input-15-1e2e6e41fa6f>:13: FutureWarning: In a future version, object-dtype columns with all-bool values will not be included in reductions with bool_only=True. Explicitly cast to bool dtype instead.\n",
            "  DATA[val]['data'] = DATA[val]['data'].append(data.iloc[ix])\n",
            "<ipython-input-15-1e2e6e41fa6f>:13: FutureWarning: The frame.append method is deprecated and will be removed from pandas in a future version. Use pandas.concat instead.\n",
            "  DATA[val]['data'] = DATA[val]['data'].append(data.iloc[ix])\n",
            "<ipython-input-15-1e2e6e41fa6f>:13: FutureWarning: The frame.append method is deprecated and will be removed from pandas in a future version. Use pandas.concat instead.\n",
            "  DATA[val]['data'] = DATA[val]['data'].append(data.iloc[ix])\n",
            "<ipython-input-15-1e2e6e41fa6f>:13: FutureWarning: The frame.append method is deprecated and will be removed from pandas in a future version. Use pandas.concat instead.\n",
            "  DATA[val]['data'] = DATA[val]['data'].append(data.iloc[ix])\n",
            "<ipython-input-15-1e2e6e41fa6f>:13: FutureWarning: In a future version, object-dtype columns with all-bool values will not be included in reductions with bool_only=True. Explicitly cast to bool dtype instead.\n",
            "  DATA[val]['data'] = DATA[val]['data'].append(data.iloc[ix])\n",
            "<ipython-input-15-1e2e6e41fa6f>:13: FutureWarning: The frame.append method is deprecated and will be removed from pandas in a future version. Use pandas.concat instead.\n",
            "  DATA[val]['data'] = DATA[val]['data'].append(data.iloc[ix])\n",
            "<ipython-input-15-1e2e6e41fa6f>:13: FutureWarning: In a future version, object-dtype columns with all-bool values will not be included in reductions with bool_only=True. Explicitly cast to bool dtype instead.\n",
            "  DATA[val]['data'] = DATA[val]['data'].append(data.iloc[ix])\n",
            "<ipython-input-15-1e2e6e41fa6f>:13: FutureWarning: The frame.append method is deprecated and will be removed from pandas in a future version. Use pandas.concat instead.\n",
            "  DATA[val]['data'] = DATA[val]['data'].append(data.iloc[ix])\n",
            "<ipython-input-15-1e2e6e41fa6f>:13: FutureWarning: In a future version, object-dtype columns with all-bool values will not be included in reductions with bool_only=True. Explicitly cast to bool dtype instead.\n",
            "  DATA[val]['data'] = DATA[val]['data'].append(data.iloc[ix])\n",
            "<ipython-input-15-1e2e6e41fa6f>:13: FutureWarning: The frame.append method is deprecated and will be removed from pandas in a future version. Use pandas.concat instead.\n",
            "  DATA[val]['data'] = DATA[val]['data'].append(data.iloc[ix])\n",
            "<ipython-input-15-1e2e6e41fa6f>:13: FutureWarning: In a future version, object-dtype columns with all-bool values will not be included in reductions with bool_only=True. Explicitly cast to bool dtype instead.\n",
            "  DATA[val]['data'] = DATA[val]['data'].append(data.iloc[ix])\n",
            "<ipython-input-15-1e2e6e41fa6f>:13: FutureWarning: The frame.append method is deprecated and will be removed from pandas in a future version. Use pandas.concat instead.\n",
            "  DATA[val]['data'] = DATA[val]['data'].append(data.iloc[ix])\n",
            "<ipython-input-15-1e2e6e41fa6f>:13: FutureWarning: In a future version, object-dtype columns with all-bool values will not be included in reductions with bool_only=True. Explicitly cast to bool dtype instead.\n",
            "  DATA[val]['data'] = DATA[val]['data'].append(data.iloc[ix])\n",
            "<ipython-input-15-1e2e6e41fa6f>:13: FutureWarning: The frame.append method is deprecated and will be removed from pandas in a future version. Use pandas.concat instead.\n",
            "  DATA[val]['data'] = DATA[val]['data'].append(data.iloc[ix])\n",
            "<ipython-input-15-1e2e6e41fa6f>:13: FutureWarning: In a future version, object-dtype columns with all-bool values will not be included in reductions with bool_only=True. Explicitly cast to bool dtype instead.\n",
            "  DATA[val]['data'] = DATA[val]['data'].append(data.iloc[ix])\n",
            "<ipython-input-15-1e2e6e41fa6f>:13: FutureWarning: The frame.append method is deprecated and will be removed from pandas in a future version. Use pandas.concat instead.\n",
            "  DATA[val]['data'] = DATA[val]['data'].append(data.iloc[ix])\n",
            "<ipython-input-15-1e2e6e41fa6f>:13: FutureWarning: In a future version, object-dtype columns with all-bool values will not be included in reductions with bool_only=True. Explicitly cast to bool dtype instead.\n",
            "  DATA[val]['data'] = DATA[val]['data'].append(data.iloc[ix])\n",
            "<ipython-input-15-1e2e6e41fa6f>:13: FutureWarning: The frame.append method is deprecated and will be removed from pandas in a future version. Use pandas.concat instead.\n",
            "  DATA[val]['data'] = DATA[val]['data'].append(data.iloc[ix])\n",
            "<ipython-input-15-1e2e6e41fa6f>:13: FutureWarning: In a future version, object-dtype columns with all-bool values will not be included in reductions with bool_only=True. Explicitly cast to bool dtype instead.\n",
            "  DATA[val]['data'] = DATA[val]['data'].append(data.iloc[ix])\n",
            "<ipython-input-15-1e2e6e41fa6f>:13: FutureWarning: The frame.append method is deprecated and will be removed from pandas in a future version. Use pandas.concat instead.\n",
            "  DATA[val]['data'] = DATA[val]['data'].append(data.iloc[ix])\n",
            "<ipython-input-15-1e2e6e41fa6f>:13: FutureWarning: In a future version, object-dtype columns with all-bool values will not be included in reductions with bool_only=True. Explicitly cast to bool dtype instead.\n",
            "  DATA[val]['data'] = DATA[val]['data'].append(data.iloc[ix])\n"
          ]
        },
        {
          "output_type": "execute_result",
          "data": {
            "text/plain": [
              "0.02922256565895487"
            ]
          },
          "metadata": {},
          "execution_count": 20
        }
      ]
    },
    {
      "cell_type": "code",
      "source": [
        "information_gain(df,'Humidity')"
      ],
      "metadata": {
        "colab": {
          "base_uri": "https://localhost:8080/"
        },
        "id": "HXPU_C1EKpor",
        "outputId": "e8fb28ef-bb6e-48d1-dfd5-d239522db861"
      },
      "execution_count": 21,
      "outputs": [
        {
          "output_type": "stream",
          "name": "stderr",
          "text": [
            "<ipython-input-15-1e2e6e41fa6f>:13: FutureWarning: The frame.append method is deprecated and will be removed from pandas in a future version. Use pandas.concat instead.\n",
            "  DATA[val]['data'] = DATA[val]['data'].append(data.iloc[ix])\n",
            "<ipython-input-15-1e2e6e41fa6f>:13: FutureWarning: The frame.append method is deprecated and will be removed from pandas in a future version. Use pandas.concat instead.\n",
            "  DATA[val]['data'] = DATA[val]['data'].append(data.iloc[ix])\n",
            "<ipython-input-15-1e2e6e41fa6f>:13: FutureWarning: In a future version, object-dtype columns with all-bool values will not be included in reductions with bool_only=True. Explicitly cast to bool dtype instead.\n",
            "  DATA[val]['data'] = DATA[val]['data'].append(data.iloc[ix])\n",
            "<ipython-input-15-1e2e6e41fa6f>:13: FutureWarning: The frame.append method is deprecated and will be removed from pandas in a future version. Use pandas.concat instead.\n",
            "  DATA[val]['data'] = DATA[val]['data'].append(data.iloc[ix])\n",
            "<ipython-input-15-1e2e6e41fa6f>:13: FutureWarning: In a future version, object-dtype columns with all-bool values will not be included in reductions with bool_only=True. Explicitly cast to bool dtype instead.\n",
            "  DATA[val]['data'] = DATA[val]['data'].append(data.iloc[ix])\n",
            "<ipython-input-15-1e2e6e41fa6f>:13: FutureWarning: The frame.append method is deprecated and will be removed from pandas in a future version. Use pandas.concat instead.\n",
            "  DATA[val]['data'] = DATA[val]['data'].append(data.iloc[ix])\n",
            "<ipython-input-15-1e2e6e41fa6f>:13: FutureWarning: In a future version, object-dtype columns with all-bool values will not be included in reductions with bool_only=True. Explicitly cast to bool dtype instead.\n",
            "  DATA[val]['data'] = DATA[val]['data'].append(data.iloc[ix])\n",
            "<ipython-input-15-1e2e6e41fa6f>:13: FutureWarning: The frame.append method is deprecated and will be removed from pandas in a future version. Use pandas.concat instead.\n",
            "  DATA[val]['data'] = DATA[val]['data'].append(data.iloc[ix])\n",
            "<ipython-input-15-1e2e6e41fa6f>:13: FutureWarning: The frame.append method is deprecated and will be removed from pandas in a future version. Use pandas.concat instead.\n",
            "  DATA[val]['data'] = DATA[val]['data'].append(data.iloc[ix])\n",
            "<ipython-input-15-1e2e6e41fa6f>:13: FutureWarning: In a future version, object-dtype columns with all-bool values will not be included in reductions with bool_only=True. Explicitly cast to bool dtype instead.\n",
            "  DATA[val]['data'] = DATA[val]['data'].append(data.iloc[ix])\n",
            "<ipython-input-15-1e2e6e41fa6f>:13: FutureWarning: The frame.append method is deprecated and will be removed from pandas in a future version. Use pandas.concat instead.\n",
            "  DATA[val]['data'] = DATA[val]['data'].append(data.iloc[ix])\n",
            "<ipython-input-15-1e2e6e41fa6f>:13: FutureWarning: In a future version, object-dtype columns with all-bool values will not be included in reductions with bool_only=True. Explicitly cast to bool dtype instead.\n",
            "  DATA[val]['data'] = DATA[val]['data'].append(data.iloc[ix])\n",
            "<ipython-input-15-1e2e6e41fa6f>:13: FutureWarning: The frame.append method is deprecated and will be removed from pandas in a future version. Use pandas.concat instead.\n",
            "  DATA[val]['data'] = DATA[val]['data'].append(data.iloc[ix])\n",
            "<ipython-input-15-1e2e6e41fa6f>:13: FutureWarning: In a future version, object-dtype columns with all-bool values will not be included in reductions with bool_only=True. Explicitly cast to bool dtype instead.\n",
            "  DATA[val]['data'] = DATA[val]['data'].append(data.iloc[ix])\n",
            "<ipython-input-15-1e2e6e41fa6f>:13: FutureWarning: The frame.append method is deprecated and will be removed from pandas in a future version. Use pandas.concat instead.\n",
            "  DATA[val]['data'] = DATA[val]['data'].append(data.iloc[ix])\n",
            "<ipython-input-15-1e2e6e41fa6f>:13: FutureWarning: In a future version, object-dtype columns with all-bool values will not be included in reductions with bool_only=True. Explicitly cast to bool dtype instead.\n",
            "  DATA[val]['data'] = DATA[val]['data'].append(data.iloc[ix])\n",
            "<ipython-input-15-1e2e6e41fa6f>:13: FutureWarning: The frame.append method is deprecated and will be removed from pandas in a future version. Use pandas.concat instead.\n",
            "  DATA[val]['data'] = DATA[val]['data'].append(data.iloc[ix])\n",
            "<ipython-input-15-1e2e6e41fa6f>:13: FutureWarning: In a future version, object-dtype columns with all-bool values will not be included in reductions with bool_only=True. Explicitly cast to bool dtype instead.\n",
            "  DATA[val]['data'] = DATA[val]['data'].append(data.iloc[ix])\n",
            "<ipython-input-15-1e2e6e41fa6f>:13: FutureWarning: The frame.append method is deprecated and will be removed from pandas in a future version. Use pandas.concat instead.\n",
            "  DATA[val]['data'] = DATA[val]['data'].append(data.iloc[ix])\n",
            "<ipython-input-15-1e2e6e41fa6f>:13: FutureWarning: In a future version, object-dtype columns with all-bool values will not be included in reductions with bool_only=True. Explicitly cast to bool dtype instead.\n",
            "  DATA[val]['data'] = DATA[val]['data'].append(data.iloc[ix])\n",
            "<ipython-input-15-1e2e6e41fa6f>:13: FutureWarning: The frame.append method is deprecated and will be removed from pandas in a future version. Use pandas.concat instead.\n",
            "  DATA[val]['data'] = DATA[val]['data'].append(data.iloc[ix])\n",
            "<ipython-input-15-1e2e6e41fa6f>:13: FutureWarning: In a future version, object-dtype columns with all-bool values will not be included in reductions with bool_only=True. Explicitly cast to bool dtype instead.\n",
            "  DATA[val]['data'] = DATA[val]['data'].append(data.iloc[ix])\n",
            "<ipython-input-15-1e2e6e41fa6f>:13: FutureWarning: The frame.append method is deprecated and will be removed from pandas in a future version. Use pandas.concat instead.\n",
            "  DATA[val]['data'] = DATA[val]['data'].append(data.iloc[ix])\n",
            "<ipython-input-15-1e2e6e41fa6f>:13: FutureWarning: In a future version, object-dtype columns with all-bool values will not be included in reductions with bool_only=True. Explicitly cast to bool dtype instead.\n",
            "  DATA[val]['data'] = DATA[val]['data'].append(data.iloc[ix])\n",
            "<ipython-input-15-1e2e6e41fa6f>:13: FutureWarning: The frame.append method is deprecated and will be removed from pandas in a future version. Use pandas.concat instead.\n",
            "  DATA[val]['data'] = DATA[val]['data'].append(data.iloc[ix])\n",
            "<ipython-input-15-1e2e6e41fa6f>:13: FutureWarning: In a future version, object-dtype columns with all-bool values will not be included in reductions with bool_only=True. Explicitly cast to bool dtype instead.\n",
            "  DATA[val]['data'] = DATA[val]['data'].append(data.iloc[ix])\n"
          ]
        },
        {
          "output_type": "execute_result",
          "data": {
            "text/plain": [
              "0.15183550136234159"
            ]
          },
          "metadata": {},
          "execution_count": 21
        }
      ]
    },
    {
      "cell_type": "code",
      "source": [
        "# Build Decision Tree"
      ],
      "metadata": {
        "id": "CVzFlfAQjj3p"
      },
      "execution_count": 22,
      "outputs": []
    },
    {
      "cell_type": "code",
      "source": [
        "class DecisionTree:\n",
        "\n",
        "  #constructor\n",
        "  def __init__(self,depth=0,max_depth=5):\n",
        "    # Creating Node\n",
        "    self.children = {}\n",
        "    self.fkey = None\n",
        "    self.max_depth = max_depth\n",
        "    self.depth = depth\n",
        "    self.target = None\n",
        "\n",
        "  def train(self,data):\n",
        "    features = ['Outlook','Temperature','Humidity','Windy']\n",
        "\n",
        "    info_gains = []\n",
        "\n",
        "    for f in features:\n",
        "      i_gain = information_gain(data,f)\n",
        "      info_gains.append(i_gain)\n",
        "\n",
        "    # finding the best features\n",
        "    self.fkey = features[np.argmax(info_gains)]\n",
        "\n",
        "\n",
        "    # Splitting the data\n",
        "    DATA = divide_data(data,self.fkey)\n",
        "\n",
        "\n",
        "    # Stopping Conditions #\n",
        "\n",
        "    # 1. If it is pure node\n",
        "\n",
        "    # 2. Early stop if you have reached max depth\n"
      ],
      "metadata": {
        "id": "jQyrPPO9jm7v"
      },
      "execution_count": 24,
      "outputs": []
    }
  ]
}