{
  "nbformat": 4,
  "nbformat_minor": 0,
  "metadata": {
    "colab": {
      "provenance": [],
      "authorship_tag": "ABX9TyNbwlh48d5kcnq9qWx72HBc",
      "include_colab_link": true
    },
    "kernelspec": {
      "name": "python3",
      "display_name": "Python 3"
    },
    "language_info": {
      "name": "python"
    }
  },
  "cells": [
    {
      "cell_type": "markdown",
      "metadata": {
        "id": "view-in-github",
        "colab_type": "text"
      },
      "source": [
        "<a href=\"https://colab.research.google.com/github/AkshayKohad/ML-Tutorial/blob/main/Decision_Tree.ipynb\" target=\"_parent\"><img src=\"https://colab.research.google.com/assets/colab-badge.svg\" alt=\"Open In Colab\"/></a>"
      ]
    },
    {
      "cell_type": "code",
      "execution_count": 105,
      "metadata": {
        "id": "49bcnF3q0KuX"
      },
      "outputs": [],
      "source": [
        "import numpy as np"
      ]
    },
    {
      "cell_type": "code",
      "source": [
        "# Calculating entropy\n",
        "def entropy(var):\n",
        "  N = var.shape[0]\n",
        "  values,counts = np.unique(var,return_counts = True)\n",
        "\n",
        "  ent = 0.0\n",
        "\n",
        "  for i in counts:\n",
        "    p = i/N\n",
        "    ent += (p*np.log2(p))\n",
        "\n",
        "  return -ent\n"
      ],
      "metadata": {
        "id": "MypQnz2K0VZK"
      },
      "execution_count": 106,
      "outputs": []
    },
    {
      "cell_type": "code",
      "source": [
        "Y = np.array([1,0,0,1,0,1,0,1])\n",
        "X = np.array([1,1,1,1,1,1,1,1])"
      ],
      "metadata": {
        "id": "irIkHHiY06nC"
      },
      "execution_count": 107,
      "outputs": []
    },
    {
      "cell_type": "code",
      "source": [
        "entropy(Y)"
      ],
      "metadata": {
        "colab": {
          "base_uri": "https://localhost:8080/"
        },
        "id": "eSnUd14C1IXp",
        "outputId": "e0373058-3c77-45fd-877e-bd09c0b294fe"
      },
      "execution_count": 108,
      "outputs": [
        {
          "output_type": "execute_result",
          "data": {
            "text/plain": [
              "1.0"
            ]
          },
          "metadata": {},
          "execution_count": 108
        }
      ]
    },
    {
      "cell_type": "code",
      "source": [
        "entropy(X)"
      ],
      "metadata": {
        "colab": {
          "base_uri": "https://localhost:8080/"
        },
        "id": "Qgjnw9jR1WGQ",
        "outputId": "bdbbde73-c14a-4d69-b927-9c35ed3efb08"
      },
      "execution_count": 109,
      "outputs": [
        {
          "output_type": "execute_result",
          "data": {
            "text/plain": [
              "-0.0"
            ]
          },
          "metadata": {},
          "execution_count": 109
        }
      ]
    },
    {
      "cell_type": "code",
      "source": [
        "import pandas as pd"
      ],
      "metadata": {
        "id": "kvn8y7ZvC8Oe"
      },
      "execution_count": 110,
      "outputs": []
    },
    {
      "cell_type": "code",
      "source": [
        "df = pd.read_csv('golf-dataset.csv')"
      ],
      "metadata": {
        "id": "_Ui1dXXVC-Qn"
      },
      "execution_count": 111,
      "outputs": []
    },
    {
      "cell_type": "code",
      "source": [
        "def divide_data(data,feature):\n",
        "  DATA = {}\n",
        "\n",
        "  feat_values = list(data[feature].value_counts().index)\n",
        "  occurence = list(data[feature].value_counts())\n",
        "\n",
        "  for val in feat_values:\n",
        "    DATA[val] = {'data': pd.DataFrame([],columns = data.columns),'len':0}\n",
        "\n",
        "  for ix in range(data.shape[0]):\n",
        "    val = data[feature].iloc[ix]\n",
        "\n",
        "    DATA[val]['data'] = DATA[val]['data'].append(data.iloc[ix])\n",
        "\n",
        "    idx = feat_values.index(val)\n",
        "    DATA[val]['len'] = occurence[idx]\n",
        "\n",
        "  return DATA\n"
      ],
      "metadata": {
        "id": "4oFYwEG7DRAq"
      },
      "execution_count": 112,
      "outputs": []
    },
    {
      "cell_type": "code",
      "source": [
        "divide_data(df,'Outlook')"
      ],
      "metadata": {
        "colab": {
          "base_uri": "https://localhost:8080/"
        },
        "id": "w-dpp7a9HATI",
        "outputId": "f242e3b5-58c8-4b5d-ce13-f704d7fea984"
      },
      "execution_count": 113,
      "outputs": [
        {
          "output_type": "stream",
          "name": "stderr",
          "text": [
            "<ipython-input-112-61ee78683692>:13: FutureWarning: The frame.append method is deprecated and will be removed from pandas in a future version. Use pandas.concat instead.\n",
            "  DATA[val]['data'] = DATA[val]['data'].append(data.iloc[ix])\n",
            "<ipython-input-112-61ee78683692>:13: FutureWarning: The frame.append method is deprecated and will be removed from pandas in a future version. Use pandas.concat instead.\n",
            "  DATA[val]['data'] = DATA[val]['data'].append(data.iloc[ix])\n",
            "<ipython-input-112-61ee78683692>:13: FutureWarning: In a future version, object-dtype columns with all-bool values will not be included in reductions with bool_only=True. Explicitly cast to bool dtype instead.\n",
            "  DATA[val]['data'] = DATA[val]['data'].append(data.iloc[ix])\n",
            "<ipython-input-112-61ee78683692>:13: FutureWarning: The frame.append method is deprecated and will be removed from pandas in a future version. Use pandas.concat instead.\n",
            "  DATA[val]['data'] = DATA[val]['data'].append(data.iloc[ix])\n",
            "<ipython-input-112-61ee78683692>:13: FutureWarning: The frame.append method is deprecated and will be removed from pandas in a future version. Use pandas.concat instead.\n",
            "  DATA[val]['data'] = DATA[val]['data'].append(data.iloc[ix])\n",
            "<ipython-input-112-61ee78683692>:13: FutureWarning: The frame.append method is deprecated and will be removed from pandas in a future version. Use pandas.concat instead.\n",
            "  DATA[val]['data'] = DATA[val]['data'].append(data.iloc[ix])\n",
            "<ipython-input-112-61ee78683692>:13: FutureWarning: In a future version, object-dtype columns with all-bool values will not be included in reductions with bool_only=True. Explicitly cast to bool dtype instead.\n",
            "  DATA[val]['data'] = DATA[val]['data'].append(data.iloc[ix])\n",
            "<ipython-input-112-61ee78683692>:13: FutureWarning: The frame.append method is deprecated and will be removed from pandas in a future version. Use pandas.concat instead.\n",
            "  DATA[val]['data'] = DATA[val]['data'].append(data.iloc[ix])\n",
            "<ipython-input-112-61ee78683692>:13: FutureWarning: In a future version, object-dtype columns with all-bool values will not be included in reductions with bool_only=True. Explicitly cast to bool dtype instead.\n",
            "  DATA[val]['data'] = DATA[val]['data'].append(data.iloc[ix])\n",
            "<ipython-input-112-61ee78683692>:13: FutureWarning: The frame.append method is deprecated and will be removed from pandas in a future version. Use pandas.concat instead.\n",
            "  DATA[val]['data'] = DATA[val]['data'].append(data.iloc[ix])\n",
            "<ipython-input-112-61ee78683692>:13: FutureWarning: In a future version, object-dtype columns with all-bool values will not be included in reductions with bool_only=True. Explicitly cast to bool dtype instead.\n",
            "  DATA[val]['data'] = DATA[val]['data'].append(data.iloc[ix])\n",
            "<ipython-input-112-61ee78683692>:13: FutureWarning: The frame.append method is deprecated and will be removed from pandas in a future version. Use pandas.concat instead.\n",
            "  DATA[val]['data'] = DATA[val]['data'].append(data.iloc[ix])\n",
            "<ipython-input-112-61ee78683692>:13: FutureWarning: In a future version, object-dtype columns with all-bool values will not be included in reductions with bool_only=True. Explicitly cast to bool dtype instead.\n",
            "  DATA[val]['data'] = DATA[val]['data'].append(data.iloc[ix])\n",
            "<ipython-input-112-61ee78683692>:13: FutureWarning: The frame.append method is deprecated and will be removed from pandas in a future version. Use pandas.concat instead.\n",
            "  DATA[val]['data'] = DATA[val]['data'].append(data.iloc[ix])\n",
            "<ipython-input-112-61ee78683692>:13: FutureWarning: In a future version, object-dtype columns with all-bool values will not be included in reductions with bool_only=True. Explicitly cast to bool dtype instead.\n",
            "  DATA[val]['data'] = DATA[val]['data'].append(data.iloc[ix])\n",
            "<ipython-input-112-61ee78683692>:13: FutureWarning: The frame.append method is deprecated and will be removed from pandas in a future version. Use pandas.concat instead.\n",
            "  DATA[val]['data'] = DATA[val]['data'].append(data.iloc[ix])\n",
            "<ipython-input-112-61ee78683692>:13: FutureWarning: In a future version, object-dtype columns with all-bool values will not be included in reductions with bool_only=True. Explicitly cast to bool dtype instead.\n",
            "  DATA[val]['data'] = DATA[val]['data'].append(data.iloc[ix])\n",
            "<ipython-input-112-61ee78683692>:13: FutureWarning: The frame.append method is deprecated and will be removed from pandas in a future version. Use pandas.concat instead.\n",
            "  DATA[val]['data'] = DATA[val]['data'].append(data.iloc[ix])\n",
            "<ipython-input-112-61ee78683692>:13: FutureWarning: In a future version, object-dtype columns with all-bool values will not be included in reductions with bool_only=True. Explicitly cast to bool dtype instead.\n",
            "  DATA[val]['data'] = DATA[val]['data'].append(data.iloc[ix])\n",
            "<ipython-input-112-61ee78683692>:13: FutureWarning: The frame.append method is deprecated and will be removed from pandas in a future version. Use pandas.concat instead.\n",
            "  DATA[val]['data'] = DATA[val]['data'].append(data.iloc[ix])\n",
            "<ipython-input-112-61ee78683692>:13: FutureWarning: In a future version, object-dtype columns with all-bool values will not be included in reductions with bool_only=True. Explicitly cast to bool dtype instead.\n",
            "  DATA[val]['data'] = DATA[val]['data'].append(data.iloc[ix])\n",
            "<ipython-input-112-61ee78683692>:13: FutureWarning: The frame.append method is deprecated and will be removed from pandas in a future version. Use pandas.concat instead.\n",
            "  DATA[val]['data'] = DATA[val]['data'].append(data.iloc[ix])\n",
            "<ipython-input-112-61ee78683692>:13: FutureWarning: In a future version, object-dtype columns with all-bool values will not be included in reductions with bool_only=True. Explicitly cast to bool dtype instead.\n",
            "  DATA[val]['data'] = DATA[val]['data'].append(data.iloc[ix])\n",
            "<ipython-input-112-61ee78683692>:13: FutureWarning: The frame.append method is deprecated and will be removed from pandas in a future version. Use pandas.concat instead.\n",
            "  DATA[val]['data'] = DATA[val]['data'].append(data.iloc[ix])\n",
            "<ipython-input-112-61ee78683692>:13: FutureWarning: In a future version, object-dtype columns with all-bool values will not be included in reductions with bool_only=True. Explicitly cast to bool dtype instead.\n",
            "  DATA[val]['data'] = DATA[val]['data'].append(data.iloc[ix])\n"
          ]
        },
        {
          "output_type": "execute_result",
          "data": {
            "text/plain": [
              "{'Rainy': {'data':    Outlook  Temp Humidity  Windy Play Golf\n",
              "  0    Rainy   Hot     High  False        No\n",
              "  1    Rainy   Hot     High   True        No\n",
              "  7    Rainy  Mild     High  False        No\n",
              "  8    Rainy  Cool   Normal  False       Yes\n",
              "  10   Rainy  Mild   Normal   True       Yes,\n",
              "  'len': 5},\n",
              " 'Sunny': {'data':    Outlook  Temp Humidity  Windy Play Golf\n",
              "  3    Sunny  Mild     High  False       Yes\n",
              "  4    Sunny  Cool   Normal  False       Yes\n",
              "  5    Sunny  Cool   Normal   True        No\n",
              "  9    Sunny  Mild   Normal  False       Yes\n",
              "  13   Sunny  Mild     High   True        No,\n",
              "  'len': 5},\n",
              " 'Overcast': {'data':      Outlook  Temp Humidity  Windy Play Golf\n",
              "  2   Overcast   Hot     High  False       Yes\n",
              "  6   Overcast  Cool   Normal   True       Yes\n",
              "  11  Overcast  Mild     High   True       Yes\n",
              "  12  Overcast   Hot   Normal  False       Yes,\n",
              "  'len': 4}}"
            ]
          },
          "metadata": {},
          "execution_count": 113
        }
      ]
    },
    {
      "cell_type": "code",
      "source": [
        "# Information Gain\n",
        "\n",
        "def information_gain(data,feature):\n",
        "  examples = data.shape[0]\n",
        "  DATA = divide_data(data,feature)\n",
        "\n",
        "  keys = DATA.keys()\n",
        "\n",
        "  ent_of_children = 0.0\n",
        "\n",
        "  for key in keys:\n",
        "    ent_of_children += ((DATA[key]['len']/examples)*entropy(DATA[key]['data']['Play Golf']))\n",
        "\n",
        "  info_gain = entropy(data['Play Golf']) - ent_of_children\n",
        "  return info_gain"
      ],
      "metadata": {
        "id": "zemI4c6OHh2B"
      },
      "execution_count": 114,
      "outputs": []
    },
    {
      "cell_type": "code",
      "source": [
        "information_gain(df,'Outlook')"
      ],
      "metadata": {
        "colab": {
          "base_uri": "https://localhost:8080/"
        },
        "id": "keqZuTczJ24j",
        "outputId": "89e29b78-fef5-4f88-b4c7-ceb310191515"
      },
      "execution_count": 115,
      "outputs": [
        {
          "output_type": "stream",
          "name": "stderr",
          "text": [
            "<ipython-input-112-61ee78683692>:13: FutureWarning: The frame.append method is deprecated and will be removed from pandas in a future version. Use pandas.concat instead.\n",
            "  DATA[val]['data'] = DATA[val]['data'].append(data.iloc[ix])\n",
            "<ipython-input-112-61ee78683692>:13: FutureWarning: The frame.append method is deprecated and will be removed from pandas in a future version. Use pandas.concat instead.\n",
            "  DATA[val]['data'] = DATA[val]['data'].append(data.iloc[ix])\n",
            "<ipython-input-112-61ee78683692>:13: FutureWarning: In a future version, object-dtype columns with all-bool values will not be included in reductions with bool_only=True. Explicitly cast to bool dtype instead.\n",
            "  DATA[val]['data'] = DATA[val]['data'].append(data.iloc[ix])\n",
            "<ipython-input-112-61ee78683692>:13: FutureWarning: The frame.append method is deprecated and will be removed from pandas in a future version. Use pandas.concat instead.\n",
            "  DATA[val]['data'] = DATA[val]['data'].append(data.iloc[ix])\n",
            "<ipython-input-112-61ee78683692>:13: FutureWarning: The frame.append method is deprecated and will be removed from pandas in a future version. Use pandas.concat instead.\n",
            "  DATA[val]['data'] = DATA[val]['data'].append(data.iloc[ix])\n",
            "<ipython-input-112-61ee78683692>:13: FutureWarning: The frame.append method is deprecated and will be removed from pandas in a future version. Use pandas.concat instead.\n",
            "  DATA[val]['data'] = DATA[val]['data'].append(data.iloc[ix])\n",
            "<ipython-input-112-61ee78683692>:13: FutureWarning: In a future version, object-dtype columns with all-bool values will not be included in reductions with bool_only=True. Explicitly cast to bool dtype instead.\n",
            "  DATA[val]['data'] = DATA[val]['data'].append(data.iloc[ix])\n",
            "<ipython-input-112-61ee78683692>:13: FutureWarning: The frame.append method is deprecated and will be removed from pandas in a future version. Use pandas.concat instead.\n",
            "  DATA[val]['data'] = DATA[val]['data'].append(data.iloc[ix])\n",
            "<ipython-input-112-61ee78683692>:13: FutureWarning: In a future version, object-dtype columns with all-bool values will not be included in reductions with bool_only=True. Explicitly cast to bool dtype instead.\n",
            "  DATA[val]['data'] = DATA[val]['data'].append(data.iloc[ix])\n",
            "<ipython-input-112-61ee78683692>:13: FutureWarning: The frame.append method is deprecated and will be removed from pandas in a future version. Use pandas.concat instead.\n",
            "  DATA[val]['data'] = DATA[val]['data'].append(data.iloc[ix])\n",
            "<ipython-input-112-61ee78683692>:13: FutureWarning: In a future version, object-dtype columns with all-bool values will not be included in reductions with bool_only=True. Explicitly cast to bool dtype instead.\n",
            "  DATA[val]['data'] = DATA[val]['data'].append(data.iloc[ix])\n",
            "<ipython-input-112-61ee78683692>:13: FutureWarning: The frame.append method is deprecated and will be removed from pandas in a future version. Use pandas.concat instead.\n",
            "  DATA[val]['data'] = DATA[val]['data'].append(data.iloc[ix])\n",
            "<ipython-input-112-61ee78683692>:13: FutureWarning: In a future version, object-dtype columns with all-bool values will not be included in reductions with bool_only=True. Explicitly cast to bool dtype instead.\n",
            "  DATA[val]['data'] = DATA[val]['data'].append(data.iloc[ix])\n",
            "<ipython-input-112-61ee78683692>:13: FutureWarning: The frame.append method is deprecated and will be removed from pandas in a future version. Use pandas.concat instead.\n",
            "  DATA[val]['data'] = DATA[val]['data'].append(data.iloc[ix])\n",
            "<ipython-input-112-61ee78683692>:13: FutureWarning: In a future version, object-dtype columns with all-bool values will not be included in reductions with bool_only=True. Explicitly cast to bool dtype instead.\n",
            "  DATA[val]['data'] = DATA[val]['data'].append(data.iloc[ix])\n",
            "<ipython-input-112-61ee78683692>:13: FutureWarning: The frame.append method is deprecated and will be removed from pandas in a future version. Use pandas.concat instead.\n",
            "  DATA[val]['data'] = DATA[val]['data'].append(data.iloc[ix])\n",
            "<ipython-input-112-61ee78683692>:13: FutureWarning: In a future version, object-dtype columns with all-bool values will not be included in reductions with bool_only=True. Explicitly cast to bool dtype instead.\n",
            "  DATA[val]['data'] = DATA[val]['data'].append(data.iloc[ix])\n",
            "<ipython-input-112-61ee78683692>:13: FutureWarning: The frame.append method is deprecated and will be removed from pandas in a future version. Use pandas.concat instead.\n",
            "  DATA[val]['data'] = DATA[val]['data'].append(data.iloc[ix])\n",
            "<ipython-input-112-61ee78683692>:13: FutureWarning: In a future version, object-dtype columns with all-bool values will not be included in reductions with bool_only=True. Explicitly cast to bool dtype instead.\n",
            "  DATA[val]['data'] = DATA[val]['data'].append(data.iloc[ix])\n",
            "<ipython-input-112-61ee78683692>:13: FutureWarning: The frame.append method is deprecated and will be removed from pandas in a future version. Use pandas.concat instead.\n",
            "  DATA[val]['data'] = DATA[val]['data'].append(data.iloc[ix])\n",
            "<ipython-input-112-61ee78683692>:13: FutureWarning: In a future version, object-dtype columns with all-bool values will not be included in reductions with bool_only=True. Explicitly cast to bool dtype instead.\n",
            "  DATA[val]['data'] = DATA[val]['data'].append(data.iloc[ix])\n",
            "<ipython-input-112-61ee78683692>:13: FutureWarning: The frame.append method is deprecated and will be removed from pandas in a future version. Use pandas.concat instead.\n",
            "  DATA[val]['data'] = DATA[val]['data'].append(data.iloc[ix])\n",
            "<ipython-input-112-61ee78683692>:13: FutureWarning: In a future version, object-dtype columns with all-bool values will not be included in reductions with bool_only=True. Explicitly cast to bool dtype instead.\n",
            "  DATA[val]['data'] = DATA[val]['data'].append(data.iloc[ix])\n",
            "<ipython-input-112-61ee78683692>:13: FutureWarning: The frame.append method is deprecated and will be removed from pandas in a future version. Use pandas.concat instead.\n",
            "  DATA[val]['data'] = DATA[val]['data'].append(data.iloc[ix])\n",
            "<ipython-input-112-61ee78683692>:13: FutureWarning: In a future version, object-dtype columns with all-bool values will not be included in reductions with bool_only=True. Explicitly cast to bool dtype instead.\n",
            "  DATA[val]['data'] = DATA[val]['data'].append(data.iloc[ix])\n"
          ]
        },
        {
          "output_type": "execute_result",
          "data": {
            "text/plain": [
              "0.24674981977443933"
            ]
          },
          "metadata": {},
          "execution_count": 115
        }
      ]
    },
    {
      "cell_type": "code",
      "source": [
        "information_gain(df,'Windy')"
      ],
      "metadata": {
        "colab": {
          "base_uri": "https://localhost:8080/"
        },
        "id": "xlTV1Aa5KMNL",
        "outputId": "a33b3125-351e-4fd4-b808-2be912d327fc"
      },
      "execution_count": 116,
      "outputs": [
        {
          "output_type": "stream",
          "name": "stderr",
          "text": [
            "<ipython-input-112-61ee78683692>:13: FutureWarning: The frame.append method is deprecated and will be removed from pandas in a future version. Use pandas.concat instead.\n",
            "  DATA[val]['data'] = DATA[val]['data'].append(data.iloc[ix])\n",
            "<ipython-input-112-61ee78683692>:13: FutureWarning: The frame.append method is deprecated and will be removed from pandas in a future version. Use pandas.concat instead.\n",
            "  DATA[val]['data'] = DATA[val]['data'].append(data.iloc[ix])\n",
            "<ipython-input-112-61ee78683692>:13: FutureWarning: The frame.append method is deprecated and will be removed from pandas in a future version. Use pandas.concat instead.\n",
            "  DATA[val]['data'] = DATA[val]['data'].append(data.iloc[ix])\n",
            "<ipython-input-112-61ee78683692>:13: FutureWarning: In a future version, object-dtype columns with all-bool values will not be included in reductions with bool_only=True. Explicitly cast to bool dtype instead.\n",
            "  DATA[val]['data'] = DATA[val]['data'].append(data.iloc[ix])\n",
            "<ipython-input-112-61ee78683692>:13: FutureWarning: The frame.append method is deprecated and will be removed from pandas in a future version. Use pandas.concat instead.\n",
            "  DATA[val]['data'] = DATA[val]['data'].append(data.iloc[ix])\n",
            "<ipython-input-112-61ee78683692>:13: FutureWarning: In a future version, object-dtype columns with all-bool values will not be included in reductions with bool_only=True. Explicitly cast to bool dtype instead.\n",
            "  DATA[val]['data'] = DATA[val]['data'].append(data.iloc[ix])\n",
            "<ipython-input-112-61ee78683692>:13: FutureWarning: The frame.append method is deprecated and will be removed from pandas in a future version. Use pandas.concat instead.\n",
            "  DATA[val]['data'] = DATA[val]['data'].append(data.iloc[ix])\n",
            "<ipython-input-112-61ee78683692>:13: FutureWarning: In a future version, object-dtype columns with all-bool values will not be included in reductions with bool_only=True. Explicitly cast to bool dtype instead.\n",
            "  DATA[val]['data'] = DATA[val]['data'].append(data.iloc[ix])\n",
            "<ipython-input-112-61ee78683692>:13: FutureWarning: The frame.append method is deprecated and will be removed from pandas in a future version. Use pandas.concat instead.\n",
            "  DATA[val]['data'] = DATA[val]['data'].append(data.iloc[ix])\n",
            "<ipython-input-112-61ee78683692>:13: FutureWarning: In a future version, object-dtype columns with all-bool values will not be included in reductions with bool_only=True. Explicitly cast to bool dtype instead.\n",
            "  DATA[val]['data'] = DATA[val]['data'].append(data.iloc[ix])\n",
            "<ipython-input-112-61ee78683692>:13: FutureWarning: The frame.append method is deprecated and will be removed from pandas in a future version. Use pandas.concat instead.\n",
            "  DATA[val]['data'] = DATA[val]['data'].append(data.iloc[ix])\n",
            "<ipython-input-112-61ee78683692>:13: FutureWarning: In a future version, object-dtype columns with all-bool values will not be included in reductions with bool_only=True. Explicitly cast to bool dtype instead.\n",
            "  DATA[val]['data'] = DATA[val]['data'].append(data.iloc[ix])\n",
            "<ipython-input-112-61ee78683692>:13: FutureWarning: The frame.append method is deprecated and will be removed from pandas in a future version. Use pandas.concat instead.\n",
            "  DATA[val]['data'] = DATA[val]['data'].append(data.iloc[ix])\n",
            "<ipython-input-112-61ee78683692>:13: FutureWarning: In a future version, object-dtype columns with all-bool values will not be included in reductions with bool_only=True. Explicitly cast to bool dtype instead.\n",
            "  DATA[val]['data'] = DATA[val]['data'].append(data.iloc[ix])\n",
            "<ipython-input-112-61ee78683692>:13: FutureWarning: The frame.append method is deprecated and will be removed from pandas in a future version. Use pandas.concat instead.\n",
            "  DATA[val]['data'] = DATA[val]['data'].append(data.iloc[ix])\n",
            "<ipython-input-112-61ee78683692>:13: FutureWarning: In a future version, object-dtype columns with all-bool values will not be included in reductions with bool_only=True. Explicitly cast to bool dtype instead.\n",
            "  DATA[val]['data'] = DATA[val]['data'].append(data.iloc[ix])\n",
            "<ipython-input-112-61ee78683692>:13: FutureWarning: The frame.append method is deprecated and will be removed from pandas in a future version. Use pandas.concat instead.\n",
            "  DATA[val]['data'] = DATA[val]['data'].append(data.iloc[ix])\n",
            "<ipython-input-112-61ee78683692>:13: FutureWarning: In a future version, object-dtype columns with all-bool values will not be included in reductions with bool_only=True. Explicitly cast to bool dtype instead.\n",
            "  DATA[val]['data'] = DATA[val]['data'].append(data.iloc[ix])\n",
            "<ipython-input-112-61ee78683692>:13: FutureWarning: The frame.append method is deprecated and will be removed from pandas in a future version. Use pandas.concat instead.\n",
            "  DATA[val]['data'] = DATA[val]['data'].append(data.iloc[ix])\n",
            "<ipython-input-112-61ee78683692>:13: FutureWarning: In a future version, object-dtype columns with all-bool values will not be included in reductions with bool_only=True. Explicitly cast to bool dtype instead.\n",
            "  DATA[val]['data'] = DATA[val]['data'].append(data.iloc[ix])\n",
            "<ipython-input-112-61ee78683692>:13: FutureWarning: The frame.append method is deprecated and will be removed from pandas in a future version. Use pandas.concat instead.\n",
            "  DATA[val]['data'] = DATA[val]['data'].append(data.iloc[ix])\n",
            "<ipython-input-112-61ee78683692>:13: FutureWarning: In a future version, object-dtype columns with all-bool values will not be included in reductions with bool_only=True. Explicitly cast to bool dtype instead.\n",
            "  DATA[val]['data'] = DATA[val]['data'].append(data.iloc[ix])\n",
            "<ipython-input-112-61ee78683692>:13: FutureWarning: The frame.append method is deprecated and will be removed from pandas in a future version. Use pandas.concat instead.\n",
            "  DATA[val]['data'] = DATA[val]['data'].append(data.iloc[ix])\n",
            "<ipython-input-112-61ee78683692>:13: FutureWarning: In a future version, object-dtype columns with all-bool values will not be included in reductions with bool_only=True. Explicitly cast to bool dtype instead.\n",
            "  DATA[val]['data'] = DATA[val]['data'].append(data.iloc[ix])\n",
            "<ipython-input-112-61ee78683692>:13: FutureWarning: The frame.append method is deprecated and will be removed from pandas in a future version. Use pandas.concat instead.\n",
            "  DATA[val]['data'] = DATA[val]['data'].append(data.iloc[ix])\n",
            "<ipython-input-112-61ee78683692>:13: FutureWarning: In a future version, object-dtype columns with all-bool values will not be included in reductions with bool_only=True. Explicitly cast to bool dtype instead.\n",
            "  DATA[val]['data'] = DATA[val]['data'].append(data.iloc[ix])\n"
          ]
        },
        {
          "output_type": "execute_result",
          "data": {
            "text/plain": [
              "0.04812703040826949"
            ]
          },
          "metadata": {},
          "execution_count": 116
        }
      ]
    },
    {
      "cell_type": "code",
      "source": [
        "information_gain(df,'Temp')"
      ],
      "metadata": {
        "colab": {
          "base_uri": "https://localhost:8080/"
        },
        "id": "GWWNK6YAKRZ4",
        "outputId": "37fcef4a-7834-459d-e199-bd8107a075ea"
      },
      "execution_count": 117,
      "outputs": [
        {
          "output_type": "stream",
          "name": "stderr",
          "text": [
            "<ipython-input-112-61ee78683692>:13: FutureWarning: The frame.append method is deprecated and will be removed from pandas in a future version. Use pandas.concat instead.\n",
            "  DATA[val]['data'] = DATA[val]['data'].append(data.iloc[ix])\n",
            "<ipython-input-112-61ee78683692>:13: FutureWarning: The frame.append method is deprecated and will be removed from pandas in a future version. Use pandas.concat instead.\n",
            "  DATA[val]['data'] = DATA[val]['data'].append(data.iloc[ix])\n",
            "<ipython-input-112-61ee78683692>:13: FutureWarning: In a future version, object-dtype columns with all-bool values will not be included in reductions with bool_only=True. Explicitly cast to bool dtype instead.\n",
            "  DATA[val]['data'] = DATA[val]['data'].append(data.iloc[ix])\n",
            "<ipython-input-112-61ee78683692>:13: FutureWarning: The frame.append method is deprecated and will be removed from pandas in a future version. Use pandas.concat instead.\n",
            "  DATA[val]['data'] = DATA[val]['data'].append(data.iloc[ix])\n",
            "<ipython-input-112-61ee78683692>:13: FutureWarning: In a future version, object-dtype columns with all-bool values will not be included in reductions with bool_only=True. Explicitly cast to bool dtype instead.\n",
            "  DATA[val]['data'] = DATA[val]['data'].append(data.iloc[ix])\n",
            "<ipython-input-112-61ee78683692>:13: FutureWarning: The frame.append method is deprecated and will be removed from pandas in a future version. Use pandas.concat instead.\n",
            "  DATA[val]['data'] = DATA[val]['data'].append(data.iloc[ix])\n",
            "<ipython-input-112-61ee78683692>:13: FutureWarning: The frame.append method is deprecated and will be removed from pandas in a future version. Use pandas.concat instead.\n",
            "  DATA[val]['data'] = DATA[val]['data'].append(data.iloc[ix])\n",
            "<ipython-input-112-61ee78683692>:13: FutureWarning: The frame.append method is deprecated and will be removed from pandas in a future version. Use pandas.concat instead.\n",
            "  DATA[val]['data'] = DATA[val]['data'].append(data.iloc[ix])\n",
            "<ipython-input-112-61ee78683692>:13: FutureWarning: In a future version, object-dtype columns with all-bool values will not be included in reductions with bool_only=True. Explicitly cast to bool dtype instead.\n",
            "  DATA[val]['data'] = DATA[val]['data'].append(data.iloc[ix])\n",
            "<ipython-input-112-61ee78683692>:13: FutureWarning: The frame.append method is deprecated and will be removed from pandas in a future version. Use pandas.concat instead.\n",
            "  DATA[val]['data'] = DATA[val]['data'].append(data.iloc[ix])\n",
            "<ipython-input-112-61ee78683692>:13: FutureWarning: In a future version, object-dtype columns with all-bool values will not be included in reductions with bool_only=True. Explicitly cast to bool dtype instead.\n",
            "  DATA[val]['data'] = DATA[val]['data'].append(data.iloc[ix])\n",
            "<ipython-input-112-61ee78683692>:13: FutureWarning: The frame.append method is deprecated and will be removed from pandas in a future version. Use pandas.concat instead.\n",
            "  DATA[val]['data'] = DATA[val]['data'].append(data.iloc[ix])\n",
            "<ipython-input-112-61ee78683692>:13: FutureWarning: In a future version, object-dtype columns with all-bool values will not be included in reductions with bool_only=True. Explicitly cast to bool dtype instead.\n",
            "  DATA[val]['data'] = DATA[val]['data'].append(data.iloc[ix])\n",
            "<ipython-input-112-61ee78683692>:13: FutureWarning: The frame.append method is deprecated and will be removed from pandas in a future version. Use pandas.concat instead.\n",
            "  DATA[val]['data'] = DATA[val]['data'].append(data.iloc[ix])\n",
            "<ipython-input-112-61ee78683692>:13: FutureWarning: In a future version, object-dtype columns with all-bool values will not be included in reductions with bool_only=True. Explicitly cast to bool dtype instead.\n",
            "  DATA[val]['data'] = DATA[val]['data'].append(data.iloc[ix])\n",
            "<ipython-input-112-61ee78683692>:13: FutureWarning: The frame.append method is deprecated and will be removed from pandas in a future version. Use pandas.concat instead.\n",
            "  DATA[val]['data'] = DATA[val]['data'].append(data.iloc[ix])\n",
            "<ipython-input-112-61ee78683692>:13: FutureWarning: In a future version, object-dtype columns with all-bool values will not be included in reductions with bool_only=True. Explicitly cast to bool dtype instead.\n",
            "  DATA[val]['data'] = DATA[val]['data'].append(data.iloc[ix])\n",
            "<ipython-input-112-61ee78683692>:13: FutureWarning: The frame.append method is deprecated and will be removed from pandas in a future version. Use pandas.concat instead.\n",
            "  DATA[val]['data'] = DATA[val]['data'].append(data.iloc[ix])\n",
            "<ipython-input-112-61ee78683692>:13: FutureWarning: In a future version, object-dtype columns with all-bool values will not be included in reductions with bool_only=True. Explicitly cast to bool dtype instead.\n",
            "  DATA[val]['data'] = DATA[val]['data'].append(data.iloc[ix])\n",
            "<ipython-input-112-61ee78683692>:13: FutureWarning: The frame.append method is deprecated and will be removed from pandas in a future version. Use pandas.concat instead.\n",
            "  DATA[val]['data'] = DATA[val]['data'].append(data.iloc[ix])\n",
            "<ipython-input-112-61ee78683692>:13: FutureWarning: In a future version, object-dtype columns with all-bool values will not be included in reductions with bool_only=True. Explicitly cast to bool dtype instead.\n",
            "  DATA[val]['data'] = DATA[val]['data'].append(data.iloc[ix])\n",
            "<ipython-input-112-61ee78683692>:13: FutureWarning: The frame.append method is deprecated and will be removed from pandas in a future version. Use pandas.concat instead.\n",
            "  DATA[val]['data'] = DATA[val]['data'].append(data.iloc[ix])\n",
            "<ipython-input-112-61ee78683692>:13: FutureWarning: In a future version, object-dtype columns with all-bool values will not be included in reductions with bool_only=True. Explicitly cast to bool dtype instead.\n",
            "  DATA[val]['data'] = DATA[val]['data'].append(data.iloc[ix])\n",
            "<ipython-input-112-61ee78683692>:13: FutureWarning: The frame.append method is deprecated and will be removed from pandas in a future version. Use pandas.concat instead.\n",
            "  DATA[val]['data'] = DATA[val]['data'].append(data.iloc[ix])\n",
            "<ipython-input-112-61ee78683692>:13: FutureWarning: In a future version, object-dtype columns with all-bool values will not be included in reductions with bool_only=True. Explicitly cast to bool dtype instead.\n",
            "  DATA[val]['data'] = DATA[val]['data'].append(data.iloc[ix])\n"
          ]
        },
        {
          "output_type": "execute_result",
          "data": {
            "text/plain": [
              "0.02922256565895487"
            ]
          },
          "metadata": {},
          "execution_count": 117
        }
      ]
    },
    {
      "cell_type": "code",
      "source": [
        "information_gain(df,'Humidity')"
      ],
      "metadata": {
        "colab": {
          "base_uri": "https://localhost:8080/"
        },
        "id": "HXPU_C1EKpor",
        "outputId": "b0777f75-5d04-4941-9df7-b4fa2a22fe17"
      },
      "execution_count": 118,
      "outputs": [
        {
          "output_type": "stream",
          "name": "stderr",
          "text": [
            "<ipython-input-112-61ee78683692>:13: FutureWarning: The frame.append method is deprecated and will be removed from pandas in a future version. Use pandas.concat instead.\n",
            "  DATA[val]['data'] = DATA[val]['data'].append(data.iloc[ix])\n",
            "<ipython-input-112-61ee78683692>:13: FutureWarning: The frame.append method is deprecated and will be removed from pandas in a future version. Use pandas.concat instead.\n",
            "  DATA[val]['data'] = DATA[val]['data'].append(data.iloc[ix])\n",
            "<ipython-input-112-61ee78683692>:13: FutureWarning: In a future version, object-dtype columns with all-bool values will not be included in reductions with bool_only=True. Explicitly cast to bool dtype instead.\n",
            "  DATA[val]['data'] = DATA[val]['data'].append(data.iloc[ix])\n",
            "<ipython-input-112-61ee78683692>:13: FutureWarning: The frame.append method is deprecated and will be removed from pandas in a future version. Use pandas.concat instead.\n",
            "  DATA[val]['data'] = DATA[val]['data'].append(data.iloc[ix])\n",
            "<ipython-input-112-61ee78683692>:13: FutureWarning: In a future version, object-dtype columns with all-bool values will not be included in reductions with bool_only=True. Explicitly cast to bool dtype instead.\n",
            "  DATA[val]['data'] = DATA[val]['data'].append(data.iloc[ix])\n",
            "<ipython-input-112-61ee78683692>:13: FutureWarning: The frame.append method is deprecated and will be removed from pandas in a future version. Use pandas.concat instead.\n",
            "  DATA[val]['data'] = DATA[val]['data'].append(data.iloc[ix])\n",
            "<ipython-input-112-61ee78683692>:13: FutureWarning: In a future version, object-dtype columns with all-bool values will not be included in reductions with bool_only=True. Explicitly cast to bool dtype instead.\n",
            "  DATA[val]['data'] = DATA[val]['data'].append(data.iloc[ix])\n",
            "<ipython-input-112-61ee78683692>:13: FutureWarning: The frame.append method is deprecated and will be removed from pandas in a future version. Use pandas.concat instead.\n",
            "  DATA[val]['data'] = DATA[val]['data'].append(data.iloc[ix])\n",
            "<ipython-input-112-61ee78683692>:13: FutureWarning: The frame.append method is deprecated and will be removed from pandas in a future version. Use pandas.concat instead.\n",
            "  DATA[val]['data'] = DATA[val]['data'].append(data.iloc[ix])\n",
            "<ipython-input-112-61ee78683692>:13: FutureWarning: In a future version, object-dtype columns with all-bool values will not be included in reductions with bool_only=True. Explicitly cast to bool dtype instead.\n",
            "  DATA[val]['data'] = DATA[val]['data'].append(data.iloc[ix])\n",
            "<ipython-input-112-61ee78683692>:13: FutureWarning: The frame.append method is deprecated and will be removed from pandas in a future version. Use pandas.concat instead.\n",
            "  DATA[val]['data'] = DATA[val]['data'].append(data.iloc[ix])\n",
            "<ipython-input-112-61ee78683692>:13: FutureWarning: In a future version, object-dtype columns with all-bool values will not be included in reductions with bool_only=True. Explicitly cast to bool dtype instead.\n",
            "  DATA[val]['data'] = DATA[val]['data'].append(data.iloc[ix])\n",
            "<ipython-input-112-61ee78683692>:13: FutureWarning: The frame.append method is deprecated and will be removed from pandas in a future version. Use pandas.concat instead.\n",
            "  DATA[val]['data'] = DATA[val]['data'].append(data.iloc[ix])\n",
            "<ipython-input-112-61ee78683692>:13: FutureWarning: In a future version, object-dtype columns with all-bool values will not be included in reductions with bool_only=True. Explicitly cast to bool dtype instead.\n",
            "  DATA[val]['data'] = DATA[val]['data'].append(data.iloc[ix])\n",
            "<ipython-input-112-61ee78683692>:13: FutureWarning: The frame.append method is deprecated and will be removed from pandas in a future version. Use pandas.concat instead.\n",
            "  DATA[val]['data'] = DATA[val]['data'].append(data.iloc[ix])\n",
            "<ipython-input-112-61ee78683692>:13: FutureWarning: In a future version, object-dtype columns with all-bool values will not be included in reductions with bool_only=True. Explicitly cast to bool dtype instead.\n",
            "  DATA[val]['data'] = DATA[val]['data'].append(data.iloc[ix])\n",
            "<ipython-input-112-61ee78683692>:13: FutureWarning: The frame.append method is deprecated and will be removed from pandas in a future version. Use pandas.concat instead.\n",
            "  DATA[val]['data'] = DATA[val]['data'].append(data.iloc[ix])\n",
            "<ipython-input-112-61ee78683692>:13: FutureWarning: In a future version, object-dtype columns with all-bool values will not be included in reductions with bool_only=True. Explicitly cast to bool dtype instead.\n",
            "  DATA[val]['data'] = DATA[val]['data'].append(data.iloc[ix])\n",
            "<ipython-input-112-61ee78683692>:13: FutureWarning: The frame.append method is deprecated and will be removed from pandas in a future version. Use pandas.concat instead.\n",
            "  DATA[val]['data'] = DATA[val]['data'].append(data.iloc[ix])\n",
            "<ipython-input-112-61ee78683692>:13: FutureWarning: In a future version, object-dtype columns with all-bool values will not be included in reductions with bool_only=True. Explicitly cast to bool dtype instead.\n",
            "  DATA[val]['data'] = DATA[val]['data'].append(data.iloc[ix])\n",
            "<ipython-input-112-61ee78683692>:13: FutureWarning: The frame.append method is deprecated and will be removed from pandas in a future version. Use pandas.concat instead.\n",
            "  DATA[val]['data'] = DATA[val]['data'].append(data.iloc[ix])\n",
            "<ipython-input-112-61ee78683692>:13: FutureWarning: In a future version, object-dtype columns with all-bool values will not be included in reductions with bool_only=True. Explicitly cast to bool dtype instead.\n",
            "  DATA[val]['data'] = DATA[val]['data'].append(data.iloc[ix])\n",
            "<ipython-input-112-61ee78683692>:13: FutureWarning: The frame.append method is deprecated and will be removed from pandas in a future version. Use pandas.concat instead.\n",
            "  DATA[val]['data'] = DATA[val]['data'].append(data.iloc[ix])\n",
            "<ipython-input-112-61ee78683692>:13: FutureWarning: In a future version, object-dtype columns with all-bool values will not be included in reductions with bool_only=True. Explicitly cast to bool dtype instead.\n",
            "  DATA[val]['data'] = DATA[val]['data'].append(data.iloc[ix])\n",
            "<ipython-input-112-61ee78683692>:13: FutureWarning: The frame.append method is deprecated and will be removed from pandas in a future version. Use pandas.concat instead.\n",
            "  DATA[val]['data'] = DATA[val]['data'].append(data.iloc[ix])\n",
            "<ipython-input-112-61ee78683692>:13: FutureWarning: In a future version, object-dtype columns with all-bool values will not be included in reductions with bool_only=True. Explicitly cast to bool dtype instead.\n",
            "  DATA[val]['data'] = DATA[val]['data'].append(data.iloc[ix])\n"
          ]
        },
        {
          "output_type": "execute_result",
          "data": {
            "text/plain": [
              "0.15183550136234159"
            ]
          },
          "metadata": {},
          "execution_count": 118
        }
      ]
    },
    {
      "cell_type": "code",
      "source": [
        "# Build Decision Tree"
      ],
      "metadata": {
        "id": "CVzFlfAQjj3p"
      },
      "execution_count": 119,
      "outputs": []
    },
    {
      "cell_type": "code",
      "source": [
        "class DecisionTree:\n",
        "\n",
        "  #constructor\n",
        "  def __init__(self,depth=0,max_depth=5):\n",
        "    # Creating Node\n",
        "    self.children = {}\n",
        "    self.fkey = None\n",
        "    self.max_depth = max_depth\n",
        "    self.depth = depth\n",
        "    self.target = None\n",
        "\n",
        "  def train(self,data):\n",
        "    features = ['Outlook','Temp','Humidity','Windy']\n",
        "\n",
        "    info_gains = []\n",
        "\n",
        "    for f in features:\n",
        "      i_gain = information_gain(data,f)\n",
        "      info_gains.append(i_gain)\n",
        "\n",
        "    # finding the best features\n",
        "    self.fkey = features[np.argmax(info_gains)]\n",
        "\n",
        "\n",
        "    # Splitting the data\n",
        "    DATA = divide_data(data,self.fkey)\n",
        "\n",
        "\n",
        "    # Giving a Target Label to Node\n",
        "    labels = list(data['Play Golf'].value_counts().index)\n",
        "    freq = list(data['Play Golf'].value_counts().values)\n",
        "\n",
        "    self.target = labels[np.argmax(freq)]\n",
        "\n",
        "\n",
        "    # Stopping Conditions #\n",
        "\n",
        "    have_data = 0\n",
        "\n",
        "    keys = DATA.keys()\n",
        "\n",
        "    for key in keys:\n",
        "      if DATA[key]['len'] > 0:\n",
        "        have_data += 1\n",
        "\n",
        "\n",
        "    # 1. If it is pure node\n",
        "\n",
        "    if have_data < 2:\n",
        "      return\n",
        "\n",
        "    # 2. Early stop if you have reached max depth\n",
        "\n",
        "    if (self.depth >= self.max_depth):\n",
        "      return\n",
        "\n",
        "\n",
        "    print(\"\\t\"*self.depth + \"Making Tree with - \",self.fkey)\n",
        "\n",
        "    # Recursively train child Node\n",
        "\n",
        "    for key in keys:\n",
        "      new_data = DATA[key]['data']\n",
        "      self.children[key] = DecisionTree(depth = self.depth+1)\n",
        "      self.children[key].train(new_data)\n",
        "\n",
        "    return\n",
        "\n",
        "  def predict(self,test):\n",
        "    if self.children == {}:\n",
        "      return self.target\n",
        "\n",
        "    return self.children[test[self.fkey][0]].predict(test)\n",
        "\n"
      ],
      "metadata": {
        "id": "jQyrPPO9jm7v"
      },
      "execution_count": 120,
      "outputs": []
    },
    {
      "cell_type": "code",
      "source": [
        "model = DecisionTree()\n",
        "model.train(df)"
      ],
      "metadata": {
        "colab": {
          "base_uri": "https://localhost:8080/"
        },
        "id": "H93-DEvm0JRC",
        "outputId": "660d3964-2323-462b-db74-ee35ce8797ef"
      },
      "execution_count": 121,
      "outputs": [
        {
          "output_type": "stream",
          "name": "stderr",
          "text": [
            "<ipython-input-112-61ee78683692>:13: FutureWarning: The frame.append method is deprecated and will be removed from pandas in a future version. Use pandas.concat instead.\n",
            "  DATA[val]['data'] = DATA[val]['data'].append(data.iloc[ix])\n",
            "<ipython-input-112-61ee78683692>:13: FutureWarning: The frame.append method is deprecated and will be removed from pandas in a future version. Use pandas.concat instead.\n",
            "  DATA[val]['data'] = DATA[val]['data'].append(data.iloc[ix])\n",
            "<ipython-input-112-61ee78683692>:13: FutureWarning: In a future version, object-dtype columns with all-bool values will not be included in reductions with bool_only=True. Explicitly cast to bool dtype instead.\n",
            "  DATA[val]['data'] = DATA[val]['data'].append(data.iloc[ix])\n",
            "<ipython-input-112-61ee78683692>:13: FutureWarning: The frame.append method is deprecated and will be removed from pandas in a future version. Use pandas.concat instead.\n",
            "  DATA[val]['data'] = DATA[val]['data'].append(data.iloc[ix])\n",
            "<ipython-input-112-61ee78683692>:13: FutureWarning: The frame.append method is deprecated and will be removed from pandas in a future version. Use pandas.concat instead.\n",
            "  DATA[val]['data'] = DATA[val]['data'].append(data.iloc[ix])\n",
            "<ipython-input-112-61ee78683692>:13: FutureWarning: The frame.append method is deprecated and will be removed from pandas in a future version. Use pandas.concat instead.\n",
            "  DATA[val]['data'] = DATA[val]['data'].append(data.iloc[ix])\n",
            "<ipython-input-112-61ee78683692>:13: FutureWarning: In a future version, object-dtype columns with all-bool values will not be included in reductions with bool_only=True. Explicitly cast to bool dtype instead.\n",
            "  DATA[val]['data'] = DATA[val]['data'].append(data.iloc[ix])\n",
            "<ipython-input-112-61ee78683692>:13: FutureWarning: The frame.append method is deprecated and will be removed from pandas in a future version. Use pandas.concat instead.\n",
            "  DATA[val]['data'] = DATA[val]['data'].append(data.iloc[ix])\n",
            "<ipython-input-112-61ee78683692>:13: FutureWarning: In a future version, object-dtype columns with all-bool values will not be included in reductions with bool_only=True. Explicitly cast to bool dtype instead.\n",
            "  DATA[val]['data'] = DATA[val]['data'].append(data.iloc[ix])\n",
            "<ipython-input-112-61ee78683692>:13: FutureWarning: The frame.append method is deprecated and will be removed from pandas in a future version. Use pandas.concat instead.\n",
            "  DATA[val]['data'] = DATA[val]['data'].append(data.iloc[ix])\n",
            "<ipython-input-112-61ee78683692>:13: FutureWarning: In a future version, object-dtype columns with all-bool values will not be included in reductions with bool_only=True. Explicitly cast to bool dtype instead.\n",
            "  DATA[val]['data'] = DATA[val]['data'].append(data.iloc[ix])\n",
            "<ipython-input-112-61ee78683692>:13: FutureWarning: The frame.append method is deprecated and will be removed from pandas in a future version. Use pandas.concat instead.\n",
            "  DATA[val]['data'] = DATA[val]['data'].append(data.iloc[ix])\n",
            "<ipython-input-112-61ee78683692>:13: FutureWarning: In a future version, object-dtype columns with all-bool values will not be included in reductions with bool_only=True. Explicitly cast to bool dtype instead.\n",
            "  DATA[val]['data'] = DATA[val]['data'].append(data.iloc[ix])\n",
            "<ipython-input-112-61ee78683692>:13: FutureWarning: The frame.append method is deprecated and will be removed from pandas in a future version. Use pandas.concat instead.\n",
            "  DATA[val]['data'] = DATA[val]['data'].append(data.iloc[ix])\n",
            "<ipython-input-112-61ee78683692>:13: FutureWarning: In a future version, object-dtype columns with all-bool values will not be included in reductions with bool_only=True. Explicitly cast to bool dtype instead.\n",
            "  DATA[val]['data'] = DATA[val]['data'].append(data.iloc[ix])\n",
            "<ipython-input-112-61ee78683692>:13: FutureWarning: The frame.append method is deprecated and will be removed from pandas in a future version. Use pandas.concat instead.\n",
            "  DATA[val]['data'] = DATA[val]['data'].append(data.iloc[ix])\n",
            "<ipython-input-112-61ee78683692>:13: FutureWarning: In a future version, object-dtype columns with all-bool values will not be included in reductions with bool_only=True. Explicitly cast to bool dtype instead.\n",
            "  DATA[val]['data'] = DATA[val]['data'].append(data.iloc[ix])\n",
            "<ipython-input-112-61ee78683692>:13: FutureWarning: The frame.append method is deprecated and will be removed from pandas in a future version. Use pandas.concat instead.\n",
            "  DATA[val]['data'] = DATA[val]['data'].append(data.iloc[ix])\n",
            "<ipython-input-112-61ee78683692>:13: FutureWarning: In a future version, object-dtype columns with all-bool values will not be included in reductions with bool_only=True. Explicitly cast to bool dtype instead.\n",
            "  DATA[val]['data'] = DATA[val]['data'].append(data.iloc[ix])\n",
            "<ipython-input-112-61ee78683692>:13: FutureWarning: The frame.append method is deprecated and will be removed from pandas in a future version. Use pandas.concat instead.\n",
            "  DATA[val]['data'] = DATA[val]['data'].append(data.iloc[ix])\n",
            "<ipython-input-112-61ee78683692>:13: FutureWarning: In a future version, object-dtype columns with all-bool values will not be included in reductions with bool_only=True. Explicitly cast to bool dtype instead.\n",
            "  DATA[val]['data'] = DATA[val]['data'].append(data.iloc[ix])\n",
            "<ipython-input-112-61ee78683692>:13: FutureWarning: The frame.append method is deprecated and will be removed from pandas in a future version. Use pandas.concat instead.\n",
            "  DATA[val]['data'] = DATA[val]['data'].append(data.iloc[ix])\n",
            "<ipython-input-112-61ee78683692>:13: FutureWarning: In a future version, object-dtype columns with all-bool values will not be included in reductions with bool_only=True. Explicitly cast to bool dtype instead.\n",
            "  DATA[val]['data'] = DATA[val]['data'].append(data.iloc[ix])\n",
            "<ipython-input-112-61ee78683692>:13: FutureWarning: The frame.append method is deprecated and will be removed from pandas in a future version. Use pandas.concat instead.\n",
            "  DATA[val]['data'] = DATA[val]['data'].append(data.iloc[ix])\n",
            "<ipython-input-112-61ee78683692>:13: FutureWarning: In a future version, object-dtype columns with all-bool values will not be included in reductions with bool_only=True. Explicitly cast to bool dtype instead.\n",
            "  DATA[val]['data'] = DATA[val]['data'].append(data.iloc[ix])\n",
            "<ipython-input-112-61ee78683692>:13: FutureWarning: The frame.append method is deprecated and will be removed from pandas in a future version. Use pandas.concat instead.\n",
            "  DATA[val]['data'] = DATA[val]['data'].append(data.iloc[ix])\n",
            "<ipython-input-112-61ee78683692>:13: FutureWarning: The frame.append method is deprecated and will be removed from pandas in a future version. Use pandas.concat instead.\n",
            "  DATA[val]['data'] = DATA[val]['data'].append(data.iloc[ix])\n",
            "<ipython-input-112-61ee78683692>:13: FutureWarning: In a future version, object-dtype columns with all-bool values will not be included in reductions with bool_only=True. Explicitly cast to bool dtype instead.\n",
            "  DATA[val]['data'] = DATA[val]['data'].append(data.iloc[ix])\n",
            "<ipython-input-112-61ee78683692>:13: FutureWarning: The frame.append method is deprecated and will be removed from pandas in a future version. Use pandas.concat instead.\n",
            "  DATA[val]['data'] = DATA[val]['data'].append(data.iloc[ix])\n",
            "<ipython-input-112-61ee78683692>:13: FutureWarning: In a future version, object-dtype columns with all-bool values will not be included in reductions with bool_only=True. Explicitly cast to bool dtype instead.\n",
            "  DATA[val]['data'] = DATA[val]['data'].append(data.iloc[ix])\n",
            "<ipython-input-112-61ee78683692>:13: FutureWarning: The frame.append method is deprecated and will be removed from pandas in a future version. Use pandas.concat instead.\n",
            "  DATA[val]['data'] = DATA[val]['data'].append(data.iloc[ix])\n",
            "<ipython-input-112-61ee78683692>:13: FutureWarning: The frame.append method is deprecated and will be removed from pandas in a future version. Use pandas.concat instead.\n",
            "  DATA[val]['data'] = DATA[val]['data'].append(data.iloc[ix])\n",
            "<ipython-input-112-61ee78683692>:13: FutureWarning: The frame.append method is deprecated and will be removed from pandas in a future version. Use pandas.concat instead.\n",
            "  DATA[val]['data'] = DATA[val]['data'].append(data.iloc[ix])\n",
            "<ipython-input-112-61ee78683692>:13: FutureWarning: In a future version, object-dtype columns with all-bool values will not be included in reductions with bool_only=True. Explicitly cast to bool dtype instead.\n",
            "  DATA[val]['data'] = DATA[val]['data'].append(data.iloc[ix])\n",
            "<ipython-input-112-61ee78683692>:13: FutureWarning: The frame.append method is deprecated and will be removed from pandas in a future version. Use pandas.concat instead.\n",
            "  DATA[val]['data'] = DATA[val]['data'].append(data.iloc[ix])\n",
            "<ipython-input-112-61ee78683692>:13: FutureWarning: In a future version, object-dtype columns with all-bool values will not be included in reductions with bool_only=True. Explicitly cast to bool dtype instead.\n",
            "  DATA[val]['data'] = DATA[val]['data'].append(data.iloc[ix])\n",
            "<ipython-input-112-61ee78683692>:13: FutureWarning: The frame.append method is deprecated and will be removed from pandas in a future version. Use pandas.concat instead.\n",
            "  DATA[val]['data'] = DATA[val]['data'].append(data.iloc[ix])\n",
            "<ipython-input-112-61ee78683692>:13: FutureWarning: In a future version, object-dtype columns with all-bool values will not be included in reductions with bool_only=True. Explicitly cast to bool dtype instead.\n",
            "  DATA[val]['data'] = DATA[val]['data'].append(data.iloc[ix])\n",
            "<ipython-input-112-61ee78683692>:13: FutureWarning: The frame.append method is deprecated and will be removed from pandas in a future version. Use pandas.concat instead.\n",
            "  DATA[val]['data'] = DATA[val]['data'].append(data.iloc[ix])\n",
            "<ipython-input-112-61ee78683692>:13: FutureWarning: In a future version, object-dtype columns with all-bool values will not be included in reductions with bool_only=True. Explicitly cast to bool dtype instead.\n",
            "  DATA[val]['data'] = DATA[val]['data'].append(data.iloc[ix])\n",
            "<ipython-input-112-61ee78683692>:13: FutureWarning: The frame.append method is deprecated and will be removed from pandas in a future version. Use pandas.concat instead.\n",
            "  DATA[val]['data'] = DATA[val]['data'].append(data.iloc[ix])\n",
            "<ipython-input-112-61ee78683692>:13: FutureWarning: In a future version, object-dtype columns with all-bool values will not be included in reductions with bool_only=True. Explicitly cast to bool dtype instead.\n",
            "  DATA[val]['data'] = DATA[val]['data'].append(data.iloc[ix])\n",
            "<ipython-input-112-61ee78683692>:13: FutureWarning: The frame.append method is deprecated and will be removed from pandas in a future version. Use pandas.concat instead.\n",
            "  DATA[val]['data'] = DATA[val]['data'].append(data.iloc[ix])\n",
            "<ipython-input-112-61ee78683692>:13: FutureWarning: In a future version, object-dtype columns with all-bool values will not be included in reductions with bool_only=True. Explicitly cast to bool dtype instead.\n",
            "  DATA[val]['data'] = DATA[val]['data'].append(data.iloc[ix])\n",
            "<ipython-input-112-61ee78683692>:13: FutureWarning: The frame.append method is deprecated and will be removed from pandas in a future version. Use pandas.concat instead.\n",
            "  DATA[val]['data'] = DATA[val]['data'].append(data.iloc[ix])\n",
            "<ipython-input-112-61ee78683692>:13: FutureWarning: In a future version, object-dtype columns with all-bool values will not be included in reductions with bool_only=True. Explicitly cast to bool dtype instead.\n",
            "  DATA[val]['data'] = DATA[val]['data'].append(data.iloc[ix])\n",
            "<ipython-input-112-61ee78683692>:13: FutureWarning: The frame.append method is deprecated and will be removed from pandas in a future version. Use pandas.concat instead.\n",
            "  DATA[val]['data'] = DATA[val]['data'].append(data.iloc[ix])\n",
            "<ipython-input-112-61ee78683692>:13: FutureWarning: In a future version, object-dtype columns with all-bool values will not be included in reductions with bool_only=True. Explicitly cast to bool dtype instead.\n",
            "  DATA[val]['data'] = DATA[val]['data'].append(data.iloc[ix])\n",
            "<ipython-input-112-61ee78683692>:13: FutureWarning: The frame.append method is deprecated and will be removed from pandas in a future version. Use pandas.concat instead.\n",
            "  DATA[val]['data'] = DATA[val]['data'].append(data.iloc[ix])\n",
            "<ipython-input-112-61ee78683692>:13: FutureWarning: In a future version, object-dtype columns with all-bool values will not be included in reductions with bool_only=True. Explicitly cast to bool dtype instead.\n",
            "  DATA[val]['data'] = DATA[val]['data'].append(data.iloc[ix])\n",
            "<ipython-input-112-61ee78683692>:13: FutureWarning: The frame.append method is deprecated and will be removed from pandas in a future version. Use pandas.concat instead.\n",
            "  DATA[val]['data'] = DATA[val]['data'].append(data.iloc[ix])\n",
            "<ipython-input-112-61ee78683692>:13: FutureWarning: The frame.append method is deprecated and will be removed from pandas in a future version. Use pandas.concat instead.\n",
            "  DATA[val]['data'] = DATA[val]['data'].append(data.iloc[ix])\n",
            "<ipython-input-112-61ee78683692>:13: FutureWarning: In a future version, object-dtype columns with all-bool values will not be included in reductions with bool_only=True. Explicitly cast to bool dtype instead.\n",
            "  DATA[val]['data'] = DATA[val]['data'].append(data.iloc[ix])\n",
            "<ipython-input-112-61ee78683692>:13: FutureWarning: The frame.append method is deprecated and will be removed from pandas in a future version. Use pandas.concat instead.\n",
            "  DATA[val]['data'] = DATA[val]['data'].append(data.iloc[ix])\n",
            "<ipython-input-112-61ee78683692>:13: FutureWarning: In a future version, object-dtype columns with all-bool values will not be included in reductions with bool_only=True. Explicitly cast to bool dtype instead.\n",
            "  DATA[val]['data'] = DATA[val]['data'].append(data.iloc[ix])\n",
            "<ipython-input-112-61ee78683692>:13: FutureWarning: The frame.append method is deprecated and will be removed from pandas in a future version. Use pandas.concat instead.\n",
            "  DATA[val]['data'] = DATA[val]['data'].append(data.iloc[ix])\n",
            "<ipython-input-112-61ee78683692>:13: FutureWarning: In a future version, object-dtype columns with all-bool values will not be included in reductions with bool_only=True. Explicitly cast to bool dtype instead.\n",
            "  DATA[val]['data'] = DATA[val]['data'].append(data.iloc[ix])\n",
            "<ipython-input-112-61ee78683692>:13: FutureWarning: The frame.append method is deprecated and will be removed from pandas in a future version. Use pandas.concat instead.\n",
            "  DATA[val]['data'] = DATA[val]['data'].append(data.iloc[ix])\n",
            "<ipython-input-112-61ee78683692>:13: FutureWarning: The frame.append method is deprecated and will be removed from pandas in a future version. Use pandas.concat instead.\n",
            "  DATA[val]['data'] = DATA[val]['data'].append(data.iloc[ix])\n",
            "<ipython-input-112-61ee78683692>:13: FutureWarning: In a future version, object-dtype columns with all-bool values will not be included in reductions with bool_only=True. Explicitly cast to bool dtype instead.\n",
            "  DATA[val]['data'] = DATA[val]['data'].append(data.iloc[ix])\n",
            "<ipython-input-112-61ee78683692>:13: FutureWarning: The frame.append method is deprecated and will be removed from pandas in a future version. Use pandas.concat instead.\n",
            "  DATA[val]['data'] = DATA[val]['data'].append(data.iloc[ix])\n",
            "<ipython-input-112-61ee78683692>:13: FutureWarning: In a future version, object-dtype columns with all-bool values will not be included in reductions with bool_only=True. Explicitly cast to bool dtype instead.\n",
            "  DATA[val]['data'] = DATA[val]['data'].append(data.iloc[ix])\n",
            "<ipython-input-112-61ee78683692>:13: FutureWarning: The frame.append method is deprecated and will be removed from pandas in a future version. Use pandas.concat instead.\n",
            "  DATA[val]['data'] = DATA[val]['data'].append(data.iloc[ix])\n",
            "<ipython-input-112-61ee78683692>:13: FutureWarning: In a future version, object-dtype columns with all-bool values will not be included in reductions with bool_only=True. Explicitly cast to bool dtype instead.\n",
            "  DATA[val]['data'] = DATA[val]['data'].append(data.iloc[ix])\n",
            "<ipython-input-112-61ee78683692>:13: FutureWarning: The frame.append method is deprecated and will be removed from pandas in a future version. Use pandas.concat instead.\n",
            "  DATA[val]['data'] = DATA[val]['data'].append(data.iloc[ix])\n",
            "<ipython-input-112-61ee78683692>:13: FutureWarning: In a future version, object-dtype columns with all-bool values will not be included in reductions with bool_only=True. Explicitly cast to bool dtype instead.\n",
            "  DATA[val]['data'] = DATA[val]['data'].append(data.iloc[ix])\n",
            "<ipython-input-112-61ee78683692>:13: FutureWarning: The frame.append method is deprecated and will be removed from pandas in a future version. Use pandas.concat instead.\n",
            "  DATA[val]['data'] = DATA[val]['data'].append(data.iloc[ix])\n",
            "<ipython-input-112-61ee78683692>:13: FutureWarning: In a future version, object-dtype columns with all-bool values will not be included in reductions with bool_only=True. Explicitly cast to bool dtype instead.\n",
            "  DATA[val]['data'] = DATA[val]['data'].append(data.iloc[ix])\n",
            "<ipython-input-112-61ee78683692>:13: FutureWarning: The frame.append method is deprecated and will be removed from pandas in a future version. Use pandas.concat instead.\n",
            "  DATA[val]['data'] = DATA[val]['data'].append(data.iloc[ix])\n",
            "<ipython-input-112-61ee78683692>:13: FutureWarning: In a future version, object-dtype columns with all-bool values will not be included in reductions with bool_only=True. Explicitly cast to bool dtype instead.\n",
            "  DATA[val]['data'] = DATA[val]['data'].append(data.iloc[ix])\n",
            "<ipython-input-112-61ee78683692>:13: FutureWarning: The frame.append method is deprecated and will be removed from pandas in a future version. Use pandas.concat instead.\n",
            "  DATA[val]['data'] = DATA[val]['data'].append(data.iloc[ix])\n",
            "<ipython-input-112-61ee78683692>:13: FutureWarning: In a future version, object-dtype columns with all-bool values will not be included in reductions with bool_only=True. Explicitly cast to bool dtype instead.\n",
            "  DATA[val]['data'] = DATA[val]['data'].append(data.iloc[ix])\n",
            "<ipython-input-112-61ee78683692>:13: FutureWarning: The frame.append method is deprecated and will be removed from pandas in a future version. Use pandas.concat instead.\n",
            "  DATA[val]['data'] = DATA[val]['data'].append(data.iloc[ix])\n",
            "<ipython-input-112-61ee78683692>:13: FutureWarning: In a future version, object-dtype columns with all-bool values will not be included in reductions with bool_only=True. Explicitly cast to bool dtype instead.\n",
            "  DATA[val]['data'] = DATA[val]['data'].append(data.iloc[ix])\n",
            "<ipython-input-112-61ee78683692>:13: FutureWarning: The frame.append method is deprecated and will be removed from pandas in a future version. Use pandas.concat instead.\n",
            "  DATA[val]['data'] = DATA[val]['data'].append(data.iloc[ix])\n",
            "<ipython-input-112-61ee78683692>:13: FutureWarning: In a future version, object-dtype columns with all-bool values will not be included in reductions with bool_only=True. Explicitly cast to bool dtype instead.\n",
            "  DATA[val]['data'] = DATA[val]['data'].append(data.iloc[ix])\n",
            "<ipython-input-112-61ee78683692>:13: FutureWarning: The frame.append method is deprecated and will be removed from pandas in a future version. Use pandas.concat instead.\n",
            "  DATA[val]['data'] = DATA[val]['data'].append(data.iloc[ix])\n",
            "<ipython-input-112-61ee78683692>:13: FutureWarning: The frame.append method is deprecated and will be removed from pandas in a future version. Use pandas.concat instead.\n",
            "  DATA[val]['data'] = DATA[val]['data'].append(data.iloc[ix])\n",
            "<ipython-input-112-61ee78683692>:13: FutureWarning: The frame.append method is deprecated and will be removed from pandas in a future version. Use pandas.concat instead.\n",
            "  DATA[val]['data'] = DATA[val]['data'].append(data.iloc[ix])\n",
            "<ipython-input-112-61ee78683692>:13: FutureWarning: In a future version, object-dtype columns with all-bool values will not be included in reductions with bool_only=True. Explicitly cast to bool dtype instead.\n",
            "  DATA[val]['data'] = DATA[val]['data'].append(data.iloc[ix])\n",
            "<ipython-input-112-61ee78683692>:13: FutureWarning: The frame.append method is deprecated and will be removed from pandas in a future version. Use pandas.concat instead.\n",
            "  DATA[val]['data'] = DATA[val]['data'].append(data.iloc[ix])\n",
            "<ipython-input-112-61ee78683692>:13: FutureWarning: In a future version, object-dtype columns with all-bool values will not be included in reductions with bool_only=True. Explicitly cast to bool dtype instead.\n",
            "  DATA[val]['data'] = DATA[val]['data'].append(data.iloc[ix])\n",
            "<ipython-input-112-61ee78683692>:13: FutureWarning: The frame.append method is deprecated and will be removed from pandas in a future version. Use pandas.concat instead.\n",
            "  DATA[val]['data'] = DATA[val]['data'].append(data.iloc[ix])\n",
            "<ipython-input-112-61ee78683692>:13: FutureWarning: In a future version, object-dtype columns with all-bool values will not be included in reductions with bool_only=True. Explicitly cast to bool dtype instead.\n",
            "  DATA[val]['data'] = DATA[val]['data'].append(data.iloc[ix])\n",
            "<ipython-input-112-61ee78683692>:13: FutureWarning: The frame.append method is deprecated and will be removed from pandas in a future version. Use pandas.concat instead.\n",
            "  DATA[val]['data'] = DATA[val]['data'].append(data.iloc[ix])\n",
            "<ipython-input-112-61ee78683692>:13: FutureWarning: In a future version, object-dtype columns with all-bool values will not be included in reductions with bool_only=True. Explicitly cast to bool dtype instead.\n",
            "  DATA[val]['data'] = DATA[val]['data'].append(data.iloc[ix])\n",
            "<ipython-input-112-61ee78683692>:13: FutureWarning: The frame.append method is deprecated and will be removed from pandas in a future version. Use pandas.concat instead.\n",
            "  DATA[val]['data'] = DATA[val]['data'].append(data.iloc[ix])\n",
            "<ipython-input-112-61ee78683692>:13: FutureWarning: In a future version, object-dtype columns with all-bool values will not be included in reductions with bool_only=True. Explicitly cast to bool dtype instead.\n",
            "  DATA[val]['data'] = DATA[val]['data'].append(data.iloc[ix])\n",
            "<ipython-input-112-61ee78683692>:13: FutureWarning: The frame.append method is deprecated and will be removed from pandas in a future version. Use pandas.concat instead.\n",
            "  DATA[val]['data'] = DATA[val]['data'].append(data.iloc[ix])\n",
            "<ipython-input-112-61ee78683692>:13: FutureWarning: In a future version, object-dtype columns with all-bool values will not be included in reductions with bool_only=True. Explicitly cast to bool dtype instead.\n",
            "  DATA[val]['data'] = DATA[val]['data'].append(data.iloc[ix])\n",
            "<ipython-input-112-61ee78683692>:13: FutureWarning: The frame.append method is deprecated and will be removed from pandas in a future version. Use pandas.concat instead.\n",
            "  DATA[val]['data'] = DATA[val]['data'].append(data.iloc[ix])\n",
            "<ipython-input-112-61ee78683692>:13: FutureWarning: In a future version, object-dtype columns with all-bool values will not be included in reductions with bool_only=True. Explicitly cast to bool dtype instead.\n",
            "  DATA[val]['data'] = DATA[val]['data'].append(data.iloc[ix])\n",
            "<ipython-input-112-61ee78683692>:13: FutureWarning: The frame.append method is deprecated and will be removed from pandas in a future version. Use pandas.concat instead.\n",
            "  DATA[val]['data'] = DATA[val]['data'].append(data.iloc[ix])\n",
            "<ipython-input-112-61ee78683692>:13: FutureWarning: In a future version, object-dtype columns with all-bool values will not be included in reductions with bool_only=True. Explicitly cast to bool dtype instead.\n",
            "  DATA[val]['data'] = DATA[val]['data'].append(data.iloc[ix])\n",
            "<ipython-input-112-61ee78683692>:13: FutureWarning: The frame.append method is deprecated and will be removed from pandas in a future version. Use pandas.concat instead.\n",
            "  DATA[val]['data'] = DATA[val]['data'].append(data.iloc[ix])\n",
            "<ipython-input-112-61ee78683692>:13: FutureWarning: In a future version, object-dtype columns with all-bool values will not be included in reductions with bool_only=True. Explicitly cast to bool dtype instead.\n",
            "  DATA[val]['data'] = DATA[val]['data'].append(data.iloc[ix])\n",
            "<ipython-input-112-61ee78683692>:13: FutureWarning: The frame.append method is deprecated and will be removed from pandas in a future version. Use pandas.concat instead.\n",
            "  DATA[val]['data'] = DATA[val]['data'].append(data.iloc[ix])\n",
            "<ipython-input-112-61ee78683692>:13: FutureWarning: In a future version, object-dtype columns with all-bool values will not be included in reductions with bool_only=True. Explicitly cast to bool dtype instead.\n",
            "  DATA[val]['data'] = DATA[val]['data'].append(data.iloc[ix])\n",
            "<ipython-input-112-61ee78683692>:13: FutureWarning: The frame.append method is deprecated and will be removed from pandas in a future version. Use pandas.concat instead.\n",
            "  DATA[val]['data'] = DATA[val]['data'].append(data.iloc[ix])\n",
            "<ipython-input-112-61ee78683692>:13: FutureWarning: In a future version, object-dtype columns with all-bool values will not be included in reductions with bool_only=True. Explicitly cast to bool dtype instead.\n",
            "  DATA[val]['data'] = DATA[val]['data'].append(data.iloc[ix])\n",
            "<ipython-input-112-61ee78683692>:13: FutureWarning: The frame.append method is deprecated and will be removed from pandas in a future version. Use pandas.concat instead.\n",
            "  DATA[val]['data'] = DATA[val]['data'].append(data.iloc[ix])\n",
            "<ipython-input-112-61ee78683692>:13: FutureWarning: In a future version, object-dtype columns with all-bool values will not be included in reductions with bool_only=True. Explicitly cast to bool dtype instead.\n",
            "  DATA[val]['data'] = DATA[val]['data'].append(data.iloc[ix])\n",
            "<ipython-input-112-61ee78683692>:13: FutureWarning: The frame.append method is deprecated and will be removed from pandas in a future version. Use pandas.concat instead.\n",
            "  DATA[val]['data'] = DATA[val]['data'].append(data.iloc[ix])\n",
            "<ipython-input-112-61ee78683692>:13: FutureWarning: The frame.append method is deprecated and will be removed from pandas in a future version. Use pandas.concat instead.\n",
            "  DATA[val]['data'] = DATA[val]['data'].append(data.iloc[ix])\n",
            "<ipython-input-112-61ee78683692>:13: FutureWarning: In a future version, object-dtype columns with all-bool values will not be included in reductions with bool_only=True. Explicitly cast to bool dtype instead.\n",
            "  DATA[val]['data'] = DATA[val]['data'].append(data.iloc[ix])\n",
            "<ipython-input-112-61ee78683692>:13: FutureWarning: The frame.append method is deprecated and will be removed from pandas in a future version. Use pandas.concat instead.\n",
            "  DATA[val]['data'] = DATA[val]['data'].append(data.iloc[ix])\n",
            "<ipython-input-112-61ee78683692>:13: FutureWarning: The frame.append method is deprecated and will be removed from pandas in a future version. Use pandas.concat instead.\n",
            "  DATA[val]['data'] = DATA[val]['data'].append(data.iloc[ix])\n",
            "<ipython-input-112-61ee78683692>:13: FutureWarning: The frame.append method is deprecated and will be removed from pandas in a future version. Use pandas.concat instead.\n",
            "  DATA[val]['data'] = DATA[val]['data'].append(data.iloc[ix])\n",
            "<ipython-input-112-61ee78683692>:13: FutureWarning: In a future version, object-dtype columns with all-bool values will not be included in reductions with bool_only=True. Explicitly cast to bool dtype instead.\n",
            "  DATA[val]['data'] = DATA[val]['data'].append(data.iloc[ix])\n",
            "<ipython-input-112-61ee78683692>:13: FutureWarning: The frame.append method is deprecated and will be removed from pandas in a future version. Use pandas.concat instead.\n",
            "  DATA[val]['data'] = DATA[val]['data'].append(data.iloc[ix])\n",
            "<ipython-input-112-61ee78683692>:13: FutureWarning: In a future version, object-dtype columns with all-bool values will not be included in reductions with bool_only=True. Explicitly cast to bool dtype instead.\n",
            "  DATA[val]['data'] = DATA[val]['data'].append(data.iloc[ix])\n",
            "<ipython-input-112-61ee78683692>:13: FutureWarning: The frame.append method is deprecated and will be removed from pandas in a future version. Use pandas.concat instead.\n",
            "  DATA[val]['data'] = DATA[val]['data'].append(data.iloc[ix])\n",
            "<ipython-input-112-61ee78683692>:13: FutureWarning: In a future version, object-dtype columns with all-bool values will not be included in reductions with bool_only=True. Explicitly cast to bool dtype instead.\n",
            "  DATA[val]['data'] = DATA[val]['data'].append(data.iloc[ix])\n",
            "<ipython-input-112-61ee78683692>:13: FutureWarning: The frame.append method is deprecated and will be removed from pandas in a future version. Use pandas.concat instead.\n",
            "  DATA[val]['data'] = DATA[val]['data'].append(data.iloc[ix])\n",
            "<ipython-input-112-61ee78683692>:13: FutureWarning: In a future version, object-dtype columns with all-bool values will not be included in reductions with bool_only=True. Explicitly cast to bool dtype instead.\n",
            "  DATA[val]['data'] = DATA[val]['data'].append(data.iloc[ix])\n",
            "<ipython-input-112-61ee78683692>:13: FutureWarning: The frame.append method is deprecated and will be removed from pandas in a future version. Use pandas.concat instead.\n",
            "  DATA[val]['data'] = DATA[val]['data'].append(data.iloc[ix])\n",
            "<ipython-input-112-61ee78683692>:13: FutureWarning: In a future version, object-dtype columns with all-bool values will not be included in reductions with bool_only=True. Explicitly cast to bool dtype instead.\n",
            "  DATA[val]['data'] = DATA[val]['data'].append(data.iloc[ix])\n",
            "<ipython-input-112-61ee78683692>:13: FutureWarning: The frame.append method is deprecated and will be removed from pandas in a future version. Use pandas.concat instead.\n",
            "  DATA[val]['data'] = DATA[val]['data'].append(data.iloc[ix])\n",
            "<ipython-input-112-61ee78683692>:13: FutureWarning: In a future version, object-dtype columns with all-bool values will not be included in reductions with bool_only=True. Explicitly cast to bool dtype instead.\n",
            "  DATA[val]['data'] = DATA[val]['data'].append(data.iloc[ix])\n",
            "<ipython-input-112-61ee78683692>:13: FutureWarning: The frame.append method is deprecated and will be removed from pandas in a future version. Use pandas.concat instead.\n",
            "  DATA[val]['data'] = DATA[val]['data'].append(data.iloc[ix])\n",
            "<ipython-input-112-61ee78683692>:13: FutureWarning: In a future version, object-dtype columns with all-bool values will not be included in reductions with bool_only=True. Explicitly cast to bool dtype instead.\n",
            "  DATA[val]['data'] = DATA[val]['data'].append(data.iloc[ix])\n",
            "<ipython-input-112-61ee78683692>:13: FutureWarning: The frame.append method is deprecated and will be removed from pandas in a future version. Use pandas.concat instead.\n",
            "  DATA[val]['data'] = DATA[val]['data'].append(data.iloc[ix])\n",
            "<ipython-input-112-61ee78683692>:13: FutureWarning: In a future version, object-dtype columns with all-bool values will not be included in reductions with bool_only=True. Explicitly cast to bool dtype instead.\n",
            "  DATA[val]['data'] = DATA[val]['data'].append(data.iloc[ix])\n",
            "<ipython-input-112-61ee78683692>:13: FutureWarning: The frame.append method is deprecated and will be removed from pandas in a future version. Use pandas.concat instead.\n",
            "  DATA[val]['data'] = DATA[val]['data'].append(data.iloc[ix])\n",
            "<ipython-input-112-61ee78683692>:13: FutureWarning: In a future version, object-dtype columns with all-bool values will not be included in reductions with bool_only=True. Explicitly cast to bool dtype instead.\n",
            "  DATA[val]['data'] = DATA[val]['data'].append(data.iloc[ix])\n",
            "<ipython-input-112-61ee78683692>:13: FutureWarning: The frame.append method is deprecated and will be removed from pandas in a future version. Use pandas.concat instead.\n",
            "  DATA[val]['data'] = DATA[val]['data'].append(data.iloc[ix])\n",
            "<ipython-input-112-61ee78683692>:13: FutureWarning: In a future version, object-dtype columns with all-bool values will not be included in reductions with bool_only=True. Explicitly cast to bool dtype instead.\n",
            "  DATA[val]['data'] = DATA[val]['data'].append(data.iloc[ix])\n",
            "<ipython-input-112-61ee78683692>:13: FutureWarning: The frame.append method is deprecated and will be removed from pandas in a future version. Use pandas.concat instead.\n",
            "  DATA[val]['data'] = DATA[val]['data'].append(data.iloc[ix])\n",
            "<ipython-input-112-61ee78683692>:13: FutureWarning: The frame.append method is deprecated and will be removed from pandas in a future version. Use pandas.concat instead.\n",
            "  DATA[val]['data'] = DATA[val]['data'].append(data.iloc[ix])\n",
            "<ipython-input-112-61ee78683692>:13: FutureWarning: In a future version, object-dtype columns with all-bool values will not be included in reductions with bool_only=True. Explicitly cast to bool dtype instead.\n",
            "  DATA[val]['data'] = DATA[val]['data'].append(data.iloc[ix])\n",
            "<ipython-input-112-61ee78683692>:13: FutureWarning: The frame.append method is deprecated and will be removed from pandas in a future version. Use pandas.concat instead.\n",
            "  DATA[val]['data'] = DATA[val]['data'].append(data.iloc[ix])\n",
            "<ipython-input-112-61ee78683692>:13: FutureWarning: In a future version, object-dtype columns with all-bool values will not be included in reductions with bool_only=True. Explicitly cast to bool dtype instead.\n",
            "  DATA[val]['data'] = DATA[val]['data'].append(data.iloc[ix])\n",
            "<ipython-input-112-61ee78683692>:13: FutureWarning: The frame.append method is deprecated and will be removed from pandas in a future version. Use pandas.concat instead.\n",
            "  DATA[val]['data'] = DATA[val]['data'].append(data.iloc[ix])\n",
            "<ipython-input-112-61ee78683692>:13: FutureWarning: In a future version, object-dtype columns with all-bool values will not be included in reductions with bool_only=True. Explicitly cast to bool dtype instead.\n",
            "  DATA[val]['data'] = DATA[val]['data'].append(data.iloc[ix])\n",
            "<ipython-input-112-61ee78683692>:13: FutureWarning: The frame.append method is deprecated and will be removed from pandas in a future version. Use pandas.concat instead.\n",
            "  DATA[val]['data'] = DATA[val]['data'].append(data.iloc[ix])\n",
            "<ipython-input-112-61ee78683692>:13: FutureWarning: In a future version, object-dtype columns with all-bool values will not be included in reductions with bool_only=True. Explicitly cast to bool dtype instead.\n",
            "  DATA[val]['data'] = DATA[val]['data'].append(data.iloc[ix])\n",
            "<ipython-input-112-61ee78683692>:13: FutureWarning: The frame.append method is deprecated and will be removed from pandas in a future version. Use pandas.concat instead.\n",
            "  DATA[val]['data'] = DATA[val]['data'].append(data.iloc[ix])\n",
            "<ipython-input-112-61ee78683692>:13: FutureWarning: The frame.append method is deprecated and will be removed from pandas in a future version. Use pandas.concat instead.\n",
            "  DATA[val]['data'] = DATA[val]['data'].append(data.iloc[ix])\n",
            "<ipython-input-112-61ee78683692>:13: FutureWarning: In a future version, object-dtype columns with all-bool values will not be included in reductions with bool_only=True. Explicitly cast to bool dtype instead.\n",
            "  DATA[val]['data'] = DATA[val]['data'].append(data.iloc[ix])\n",
            "<ipython-input-112-61ee78683692>:13: FutureWarning: The frame.append method is deprecated and will be removed from pandas in a future version. Use pandas.concat instead.\n",
            "  DATA[val]['data'] = DATA[val]['data'].append(data.iloc[ix])\n",
            "<ipython-input-112-61ee78683692>:13: FutureWarning: The frame.append method is deprecated and will be removed from pandas in a future version. Use pandas.concat instead.\n",
            "  DATA[val]['data'] = DATA[val]['data'].append(data.iloc[ix])\n",
            "<ipython-input-112-61ee78683692>:13: FutureWarning: The frame.append method is deprecated and will be removed from pandas in a future version. Use pandas.concat instead.\n",
            "  DATA[val]['data'] = DATA[val]['data'].append(data.iloc[ix])\n",
            "<ipython-input-112-61ee78683692>:13: FutureWarning: In a future version, object-dtype columns with all-bool values will not be included in reductions with bool_only=True. Explicitly cast to bool dtype instead.\n",
            "  DATA[val]['data'] = DATA[val]['data'].append(data.iloc[ix])\n",
            "<ipython-input-112-61ee78683692>:13: FutureWarning: The frame.append method is deprecated and will be removed from pandas in a future version. Use pandas.concat instead.\n",
            "  DATA[val]['data'] = DATA[val]['data'].append(data.iloc[ix])\n",
            "<ipython-input-112-61ee78683692>:13: FutureWarning: The frame.append method is deprecated and will be removed from pandas in a future version. Use pandas.concat instead.\n",
            "  DATA[val]['data'] = DATA[val]['data'].append(data.iloc[ix])\n",
            "<ipython-input-112-61ee78683692>:13: FutureWarning: In a future version, object-dtype columns with all-bool values will not be included in reductions with bool_only=True. Explicitly cast to bool dtype instead.\n",
            "  DATA[val]['data'] = DATA[val]['data'].append(data.iloc[ix])\n",
            "<ipython-input-112-61ee78683692>:13: FutureWarning: The frame.append method is deprecated and will be removed from pandas in a future version. Use pandas.concat instead.\n",
            "  DATA[val]['data'] = DATA[val]['data'].append(data.iloc[ix])\n",
            "<ipython-input-112-61ee78683692>:13: FutureWarning: In a future version, object-dtype columns with all-bool values will not be included in reductions with bool_only=True. Explicitly cast to bool dtype instead.\n",
            "  DATA[val]['data'] = DATA[val]['data'].append(data.iloc[ix])\n",
            "<ipython-input-112-61ee78683692>:13: FutureWarning: The frame.append method is deprecated and will be removed from pandas in a future version. Use pandas.concat instead.\n",
            "  DATA[val]['data'] = DATA[val]['data'].append(data.iloc[ix])\n",
            "<ipython-input-112-61ee78683692>:13: FutureWarning: The frame.append method is deprecated and will be removed from pandas in a future version. Use pandas.concat instead.\n",
            "  DATA[val]['data'] = DATA[val]['data'].append(data.iloc[ix])\n",
            "<ipython-input-112-61ee78683692>:13: FutureWarning: In a future version, object-dtype columns with all-bool values will not be included in reductions with bool_only=True. Explicitly cast to bool dtype instead.\n",
            "  DATA[val]['data'] = DATA[val]['data'].append(data.iloc[ix])\n",
            "<ipython-input-112-61ee78683692>:13: FutureWarning: The frame.append method is deprecated and will be removed from pandas in a future version. Use pandas.concat instead.\n",
            "  DATA[val]['data'] = DATA[val]['data'].append(data.iloc[ix])\n",
            "<ipython-input-112-61ee78683692>:13: FutureWarning: The frame.append method is deprecated and will be removed from pandas in a future version. Use pandas.concat instead.\n",
            "  DATA[val]['data'] = DATA[val]['data'].append(data.iloc[ix])\n",
            "<ipython-input-112-61ee78683692>:13: FutureWarning: The frame.append method is deprecated and will be removed from pandas in a future version. Use pandas.concat instead.\n",
            "  DATA[val]['data'] = DATA[val]['data'].append(data.iloc[ix])\n",
            "<ipython-input-112-61ee78683692>:13: FutureWarning: In a future version, object-dtype columns with all-bool values will not be included in reductions with bool_only=True. Explicitly cast to bool dtype instead.\n",
            "  DATA[val]['data'] = DATA[val]['data'].append(data.iloc[ix])\n",
            "<ipython-input-112-61ee78683692>:13: FutureWarning: The frame.append method is deprecated and will be removed from pandas in a future version. Use pandas.concat instead.\n",
            "  DATA[val]['data'] = DATA[val]['data'].append(data.iloc[ix])\n",
            "<ipython-input-112-61ee78683692>:13: FutureWarning: In a future version, object-dtype columns with all-bool values will not be included in reductions with bool_only=True. Explicitly cast to bool dtype instead.\n",
            "  DATA[val]['data'] = DATA[val]['data'].append(data.iloc[ix])\n",
            "<ipython-input-112-61ee78683692>:13: FutureWarning: The frame.append method is deprecated and will be removed from pandas in a future version. Use pandas.concat instead.\n",
            "  DATA[val]['data'] = DATA[val]['data'].append(data.iloc[ix])\n",
            "<ipython-input-112-61ee78683692>:13: FutureWarning: In a future version, object-dtype columns with all-bool values will not be included in reductions with bool_only=True. Explicitly cast to bool dtype instead.\n",
            "  DATA[val]['data'] = DATA[val]['data'].append(data.iloc[ix])\n",
            "<ipython-input-112-61ee78683692>:13: FutureWarning: The frame.append method is deprecated and will be removed from pandas in a future version. Use pandas.concat instead.\n",
            "  DATA[val]['data'] = DATA[val]['data'].append(data.iloc[ix])\n",
            "<ipython-input-112-61ee78683692>:13: FutureWarning: The frame.append method is deprecated and will be removed from pandas in a future version. Use pandas.concat instead.\n",
            "  DATA[val]['data'] = DATA[val]['data'].append(data.iloc[ix])\n",
            "<ipython-input-112-61ee78683692>:13: FutureWarning: In a future version, object-dtype columns with all-bool values will not be included in reductions with bool_only=True. Explicitly cast to bool dtype instead.\n",
            "  DATA[val]['data'] = DATA[val]['data'].append(data.iloc[ix])\n",
            "<ipython-input-112-61ee78683692>:13: FutureWarning: The frame.append method is deprecated and will be removed from pandas in a future version. Use pandas.concat instead.\n",
            "  DATA[val]['data'] = DATA[val]['data'].append(data.iloc[ix])\n",
            "<ipython-input-112-61ee78683692>:13: FutureWarning: In a future version, object-dtype columns with all-bool values will not be included in reductions with bool_only=True. Explicitly cast to bool dtype instead.\n",
            "  DATA[val]['data'] = DATA[val]['data'].append(data.iloc[ix])\n",
            "<ipython-input-112-61ee78683692>:13: FutureWarning: The frame.append method is deprecated and will be removed from pandas in a future version. Use pandas.concat instead.\n",
            "  DATA[val]['data'] = DATA[val]['data'].append(data.iloc[ix])\n",
            "<ipython-input-112-61ee78683692>:13: FutureWarning: The frame.append method is deprecated and will be removed from pandas in a future version. Use pandas.concat instead.\n",
            "  DATA[val]['data'] = DATA[val]['data'].append(data.iloc[ix])\n",
            "<ipython-input-112-61ee78683692>:13: FutureWarning: In a future version, object-dtype columns with all-bool values will not be included in reductions with bool_only=True. Explicitly cast to bool dtype instead.\n",
            "  DATA[val]['data'] = DATA[val]['data'].append(data.iloc[ix])\n",
            "<ipython-input-112-61ee78683692>:13: FutureWarning: The frame.append method is deprecated and will be removed from pandas in a future version. Use pandas.concat instead.\n",
            "  DATA[val]['data'] = DATA[val]['data'].append(data.iloc[ix])\n",
            "<ipython-input-112-61ee78683692>:13: FutureWarning: The frame.append method is deprecated and will be removed from pandas in a future version. Use pandas.concat instead.\n",
            "  DATA[val]['data'] = DATA[val]['data'].append(data.iloc[ix])\n",
            "<ipython-input-112-61ee78683692>:13: FutureWarning: In a future version, object-dtype columns with all-bool values will not be included in reductions with bool_only=True. Explicitly cast to bool dtype instead.\n",
            "  DATA[val]['data'] = DATA[val]['data'].append(data.iloc[ix])\n",
            "<ipython-input-112-61ee78683692>:13: FutureWarning: The frame.append method is deprecated and will be removed from pandas in a future version. Use pandas.concat instead.\n",
            "  DATA[val]['data'] = DATA[val]['data'].append(data.iloc[ix])\n",
            "<ipython-input-112-61ee78683692>:13: FutureWarning: In a future version, object-dtype columns with all-bool values will not be included in reductions with bool_only=True. Explicitly cast to bool dtype instead.\n",
            "  DATA[val]['data'] = DATA[val]['data'].append(data.iloc[ix])\n",
            "<ipython-input-112-61ee78683692>:13: FutureWarning: The frame.append method is deprecated and will be removed from pandas in a future version. Use pandas.concat instead.\n",
            "  DATA[val]['data'] = DATA[val]['data'].append(data.iloc[ix])\n",
            "<ipython-input-112-61ee78683692>:13: FutureWarning: The frame.append method is deprecated and will be removed from pandas in a future version. Use pandas.concat instead.\n",
            "  DATA[val]['data'] = DATA[val]['data'].append(data.iloc[ix])\n",
            "<ipython-input-112-61ee78683692>:13: FutureWarning: In a future version, object-dtype columns with all-bool values will not be included in reductions with bool_only=True. Explicitly cast to bool dtype instead.\n",
            "  DATA[val]['data'] = DATA[val]['data'].append(data.iloc[ix])\n",
            "<ipython-input-112-61ee78683692>:13: FutureWarning: The frame.append method is deprecated and will be removed from pandas in a future version. Use pandas.concat instead.\n",
            "  DATA[val]['data'] = DATA[val]['data'].append(data.iloc[ix])\n",
            "<ipython-input-112-61ee78683692>:13: FutureWarning: The frame.append method is deprecated and will be removed from pandas in a future version. Use pandas.concat instead.\n",
            "  DATA[val]['data'] = DATA[val]['data'].append(data.iloc[ix])\n",
            "<ipython-input-112-61ee78683692>:13: FutureWarning: The frame.append method is deprecated and will be removed from pandas in a future version. Use pandas.concat instead.\n",
            "  DATA[val]['data'] = DATA[val]['data'].append(data.iloc[ix])\n",
            "<ipython-input-112-61ee78683692>:13: FutureWarning: In a future version, object-dtype columns with all-bool values will not be included in reductions with bool_only=True. Explicitly cast to bool dtype instead.\n",
            "  DATA[val]['data'] = DATA[val]['data'].append(data.iloc[ix])\n",
            "<ipython-input-112-61ee78683692>:13: FutureWarning: The frame.append method is deprecated and will be removed from pandas in a future version. Use pandas.concat instead.\n",
            "  DATA[val]['data'] = DATA[val]['data'].append(data.iloc[ix])\n",
            "<ipython-input-112-61ee78683692>:13: FutureWarning: In a future version, object-dtype columns with all-bool values will not be included in reductions with bool_only=True. Explicitly cast to bool dtype instead.\n",
            "  DATA[val]['data'] = DATA[val]['data'].append(data.iloc[ix])\n",
            "<ipython-input-112-61ee78683692>:13: FutureWarning: The frame.append method is deprecated and will be removed from pandas in a future version. Use pandas.concat instead.\n",
            "  DATA[val]['data'] = DATA[val]['data'].append(data.iloc[ix])\n",
            "<ipython-input-112-61ee78683692>:13: FutureWarning: The frame.append method is deprecated and will be removed from pandas in a future version. Use pandas.concat instead.\n",
            "  DATA[val]['data'] = DATA[val]['data'].append(data.iloc[ix])\n",
            "<ipython-input-112-61ee78683692>:13: FutureWarning: The frame.append method is deprecated and will be removed from pandas in a future version. Use pandas.concat instead.\n",
            "  DATA[val]['data'] = DATA[val]['data'].append(data.iloc[ix])\n",
            "<ipython-input-112-61ee78683692>:13: FutureWarning: In a future version, object-dtype columns with all-bool values will not be included in reductions with bool_only=True. Explicitly cast to bool dtype instead.\n",
            "  DATA[val]['data'] = DATA[val]['data'].append(data.iloc[ix])\n",
            "<ipython-input-112-61ee78683692>:13: FutureWarning: The frame.append method is deprecated and will be removed from pandas in a future version. Use pandas.concat instead.\n",
            "  DATA[val]['data'] = DATA[val]['data'].append(data.iloc[ix])\n",
            "<ipython-input-112-61ee78683692>:13: FutureWarning: The frame.append method is deprecated and will be removed from pandas in a future version. Use pandas.concat instead.\n",
            "  DATA[val]['data'] = DATA[val]['data'].append(data.iloc[ix])\n",
            "<ipython-input-112-61ee78683692>:13: FutureWarning: In a future version, object-dtype columns with all-bool values will not be included in reductions with bool_only=True. Explicitly cast to bool dtype instead.\n",
            "  DATA[val]['data'] = DATA[val]['data'].append(data.iloc[ix])\n",
            "<ipython-input-112-61ee78683692>:13: FutureWarning: The frame.append method is deprecated and will be removed from pandas in a future version. Use pandas.concat instead.\n",
            "  DATA[val]['data'] = DATA[val]['data'].append(data.iloc[ix])\n",
            "<ipython-input-112-61ee78683692>:13: FutureWarning: In a future version, object-dtype columns with all-bool values will not be included in reductions with bool_only=True. Explicitly cast to bool dtype instead.\n",
            "  DATA[val]['data'] = DATA[val]['data'].append(data.iloc[ix])\n",
            "<ipython-input-112-61ee78683692>:13: FutureWarning: The frame.append method is deprecated and will be removed from pandas in a future version. Use pandas.concat instead.\n",
            "  DATA[val]['data'] = DATA[val]['data'].append(data.iloc[ix])\n",
            "<ipython-input-112-61ee78683692>:13: FutureWarning: The frame.append method is deprecated and will be removed from pandas in a future version. Use pandas.concat instead.\n",
            "  DATA[val]['data'] = DATA[val]['data'].append(data.iloc[ix])\n",
            "<ipython-input-112-61ee78683692>:13: FutureWarning: In a future version, object-dtype columns with all-bool values will not be included in reductions with bool_only=True. Explicitly cast to bool dtype instead.\n",
            "  DATA[val]['data'] = DATA[val]['data'].append(data.iloc[ix])\n",
            "<ipython-input-112-61ee78683692>:13: FutureWarning: The frame.append method is deprecated and will be removed from pandas in a future version. Use pandas.concat instead.\n",
            "  DATA[val]['data'] = DATA[val]['data'].append(data.iloc[ix])\n",
            "<ipython-input-112-61ee78683692>:13: FutureWarning: The frame.append method is deprecated and will be removed from pandas in a future version. Use pandas.concat instead.\n",
            "  DATA[val]['data'] = DATA[val]['data'].append(data.iloc[ix])\n",
            "<ipython-input-112-61ee78683692>:13: FutureWarning: The frame.append method is deprecated and will be removed from pandas in a future version. Use pandas.concat instead.\n",
            "  DATA[val]['data'] = DATA[val]['data'].append(data.iloc[ix])\n",
            "<ipython-input-112-61ee78683692>:13: FutureWarning: The frame.append method is deprecated and will be removed from pandas in a future version. Use pandas.concat instead.\n",
            "  DATA[val]['data'] = DATA[val]['data'].append(data.iloc[ix])\n",
            "<ipython-input-112-61ee78683692>:13: FutureWarning: In a future version, object-dtype columns with all-bool values will not be included in reductions with bool_only=True. Explicitly cast to bool dtype instead.\n",
            "  DATA[val]['data'] = DATA[val]['data'].append(data.iloc[ix])\n",
            "<ipython-input-112-61ee78683692>:13: FutureWarning: The frame.append method is deprecated and will be removed from pandas in a future version. Use pandas.concat instead.\n",
            "  DATA[val]['data'] = DATA[val]['data'].append(data.iloc[ix])\n",
            "<ipython-input-112-61ee78683692>:13: FutureWarning: The frame.append method is deprecated and will be removed from pandas in a future version. Use pandas.concat instead.\n",
            "  DATA[val]['data'] = DATA[val]['data'].append(data.iloc[ix])\n",
            "<ipython-input-112-61ee78683692>:13: FutureWarning: The frame.append method is deprecated and will be removed from pandas in a future version. Use pandas.concat instead.\n",
            "  DATA[val]['data'] = DATA[val]['data'].append(data.iloc[ix])\n",
            "<ipython-input-112-61ee78683692>:13: FutureWarning: The frame.append method is deprecated and will be removed from pandas in a future version. Use pandas.concat instead.\n",
            "  DATA[val]['data'] = DATA[val]['data'].append(data.iloc[ix])\n",
            "<ipython-input-112-61ee78683692>:13: FutureWarning: In a future version, object-dtype columns with all-bool values will not be included in reductions with bool_only=True. Explicitly cast to bool dtype instead.\n",
            "  DATA[val]['data'] = DATA[val]['data'].append(data.iloc[ix])\n",
            "<ipython-input-112-61ee78683692>:13: FutureWarning: The frame.append method is deprecated and will be removed from pandas in a future version. Use pandas.concat instead.\n",
            "  DATA[val]['data'] = DATA[val]['data'].append(data.iloc[ix])\n",
            "<ipython-input-112-61ee78683692>:13: FutureWarning: The frame.append method is deprecated and will be removed from pandas in a future version. Use pandas.concat instead.\n",
            "  DATA[val]['data'] = DATA[val]['data'].append(data.iloc[ix])\n",
            "<ipython-input-112-61ee78683692>:13: FutureWarning: In a future version, object-dtype columns with all-bool values will not be included in reductions with bool_only=True. Explicitly cast to bool dtype instead.\n",
            "  DATA[val]['data'] = DATA[val]['data'].append(data.iloc[ix])\n",
            "<ipython-input-112-61ee78683692>:13: FutureWarning: The frame.append method is deprecated and will be removed from pandas in a future version. Use pandas.concat instead.\n",
            "  DATA[val]['data'] = DATA[val]['data'].append(data.iloc[ix])\n",
            "<ipython-input-112-61ee78683692>:13: FutureWarning: In a future version, object-dtype columns with all-bool values will not be included in reductions with bool_only=True. Explicitly cast to bool dtype instead.\n",
            "  DATA[val]['data'] = DATA[val]['data'].append(data.iloc[ix])\n",
            "<ipython-input-112-61ee78683692>:13: FutureWarning: The frame.append method is deprecated and will be removed from pandas in a future version. Use pandas.concat instead.\n",
            "  DATA[val]['data'] = DATA[val]['data'].append(data.iloc[ix])\n",
            "<ipython-input-112-61ee78683692>:13: FutureWarning: In a future version, object-dtype columns with all-bool values will not be included in reductions with bool_only=True. Explicitly cast to bool dtype instead.\n",
            "  DATA[val]['data'] = DATA[val]['data'].append(data.iloc[ix])\n",
            "<ipython-input-112-61ee78683692>:13: FutureWarning: The frame.append method is deprecated and will be removed from pandas in a future version. Use pandas.concat instead.\n",
            "  DATA[val]['data'] = DATA[val]['data'].append(data.iloc[ix])\n",
            "<ipython-input-112-61ee78683692>:13: FutureWarning: In a future version, object-dtype columns with all-bool values will not be included in reductions with bool_only=True. Explicitly cast to bool dtype instead.\n",
            "  DATA[val]['data'] = DATA[val]['data'].append(data.iloc[ix])\n",
            "<ipython-input-112-61ee78683692>:13: FutureWarning: The frame.append method is deprecated and will be removed from pandas in a future version. Use pandas.concat instead.\n",
            "  DATA[val]['data'] = DATA[val]['data'].append(data.iloc[ix])\n",
            "<ipython-input-112-61ee78683692>:13: FutureWarning: The frame.append method is deprecated and will be removed from pandas in a future version. Use pandas.concat instead.\n",
            "  DATA[val]['data'] = DATA[val]['data'].append(data.iloc[ix])\n",
            "<ipython-input-112-61ee78683692>:13: FutureWarning: The frame.append method is deprecated and will be removed from pandas in a future version. Use pandas.concat instead.\n",
            "  DATA[val]['data'] = DATA[val]['data'].append(data.iloc[ix])\n",
            "<ipython-input-112-61ee78683692>:13: FutureWarning: In a future version, object-dtype columns with all-bool values will not be included in reductions with bool_only=True. Explicitly cast to bool dtype instead.\n",
            "  DATA[val]['data'] = DATA[val]['data'].append(data.iloc[ix])\n",
            "<ipython-input-112-61ee78683692>:13: FutureWarning: The frame.append method is deprecated and will be removed from pandas in a future version. Use pandas.concat instead.\n",
            "  DATA[val]['data'] = DATA[val]['data'].append(data.iloc[ix])\n",
            "<ipython-input-112-61ee78683692>:13: FutureWarning: In a future version, object-dtype columns with all-bool values will not be included in reductions with bool_only=True. Explicitly cast to bool dtype instead.\n",
            "  DATA[val]['data'] = DATA[val]['data'].append(data.iloc[ix])\n",
            "<ipython-input-112-61ee78683692>:13: FutureWarning: The frame.append method is deprecated and will be removed from pandas in a future version. Use pandas.concat instead.\n",
            "  DATA[val]['data'] = DATA[val]['data'].append(data.iloc[ix])\n",
            "<ipython-input-112-61ee78683692>:13: FutureWarning: In a future version, object-dtype columns with all-bool values will not be included in reductions with bool_only=True. Explicitly cast to bool dtype instead.\n",
            "  DATA[val]['data'] = DATA[val]['data'].append(data.iloc[ix])\n",
            "<ipython-input-112-61ee78683692>:13: FutureWarning: The frame.append method is deprecated and will be removed from pandas in a future version. Use pandas.concat instead.\n",
            "  DATA[val]['data'] = DATA[val]['data'].append(data.iloc[ix])\n",
            "<ipython-input-112-61ee78683692>:13: FutureWarning: The frame.append method is deprecated and will be removed from pandas in a future version. Use pandas.concat instead.\n",
            "  DATA[val]['data'] = DATA[val]['data'].append(data.iloc[ix])\n",
            "<ipython-input-112-61ee78683692>:13: FutureWarning: The frame.append method is deprecated and will be removed from pandas in a future version. Use pandas.concat instead.\n",
            "  DATA[val]['data'] = DATA[val]['data'].append(data.iloc[ix])\n",
            "<ipython-input-112-61ee78683692>:13: FutureWarning: In a future version, object-dtype columns with all-bool values will not be included in reductions with bool_only=True. Explicitly cast to bool dtype instead.\n",
            "  DATA[val]['data'] = DATA[val]['data'].append(data.iloc[ix])\n",
            "<ipython-input-112-61ee78683692>:13: FutureWarning: The frame.append method is deprecated and will be removed from pandas in a future version. Use pandas.concat instead.\n",
            "  DATA[val]['data'] = DATA[val]['data'].append(data.iloc[ix])\n"
          ]
        },
        {
          "output_type": "stream",
          "name": "stdout",
          "text": [
            "Making Tree with -  Outlook\n",
            "\tMaking Tree with -  Humidity\n",
            "\tMaking Tree with -  Windy\n"
          ]
        },
        {
          "output_type": "stream",
          "name": "stderr",
          "text": [
            "<ipython-input-112-61ee78683692>:13: FutureWarning: In a future version, object-dtype columns with all-bool values will not be included in reductions with bool_only=True. Explicitly cast to bool dtype instead.\n",
            "  DATA[val]['data'] = DATA[val]['data'].append(data.iloc[ix])\n",
            "<ipython-input-112-61ee78683692>:13: FutureWarning: The frame.append method is deprecated and will be removed from pandas in a future version. Use pandas.concat instead.\n",
            "  DATA[val]['data'] = DATA[val]['data'].append(data.iloc[ix])\n",
            "<ipython-input-112-61ee78683692>:13: FutureWarning: In a future version, object-dtype columns with all-bool values will not be included in reductions with bool_only=True. Explicitly cast to bool dtype instead.\n",
            "  DATA[val]['data'] = DATA[val]['data'].append(data.iloc[ix])\n",
            "<ipython-input-112-61ee78683692>:13: FutureWarning: The frame.append method is deprecated and will be removed from pandas in a future version. Use pandas.concat instead.\n",
            "  DATA[val]['data'] = DATA[val]['data'].append(data.iloc[ix])\n",
            "<ipython-input-112-61ee78683692>:13: FutureWarning: The frame.append method is deprecated and will be removed from pandas in a future version. Use pandas.concat instead.\n",
            "  DATA[val]['data'] = DATA[val]['data'].append(data.iloc[ix])\n",
            "<ipython-input-112-61ee78683692>:13: FutureWarning: In a future version, object-dtype columns with all-bool values will not be included in reductions with bool_only=True. Explicitly cast to bool dtype instead.\n",
            "  DATA[val]['data'] = DATA[val]['data'].append(data.iloc[ix])\n",
            "<ipython-input-112-61ee78683692>:13: FutureWarning: The frame.append method is deprecated and will be removed from pandas in a future version. Use pandas.concat instead.\n",
            "  DATA[val]['data'] = DATA[val]['data'].append(data.iloc[ix])\n",
            "<ipython-input-112-61ee78683692>:13: FutureWarning: The frame.append method is deprecated and will be removed from pandas in a future version. Use pandas.concat instead.\n",
            "  DATA[val]['data'] = DATA[val]['data'].append(data.iloc[ix])\n",
            "<ipython-input-112-61ee78683692>:13: FutureWarning: In a future version, object-dtype columns with all-bool values will not be included in reductions with bool_only=True. Explicitly cast to bool dtype instead.\n",
            "  DATA[val]['data'] = DATA[val]['data'].append(data.iloc[ix])\n",
            "<ipython-input-112-61ee78683692>:13: FutureWarning: The frame.append method is deprecated and will be removed from pandas in a future version. Use pandas.concat instead.\n",
            "  DATA[val]['data'] = DATA[val]['data'].append(data.iloc[ix])\n",
            "<ipython-input-112-61ee78683692>:13: FutureWarning: In a future version, object-dtype columns with all-bool values will not be included in reductions with bool_only=True. Explicitly cast to bool dtype instead.\n",
            "  DATA[val]['data'] = DATA[val]['data'].append(data.iloc[ix])\n",
            "<ipython-input-112-61ee78683692>:13: FutureWarning: The frame.append method is deprecated and will be removed from pandas in a future version. Use pandas.concat instead.\n",
            "  DATA[val]['data'] = DATA[val]['data'].append(data.iloc[ix])\n",
            "<ipython-input-112-61ee78683692>:13: FutureWarning: The frame.append method is deprecated and will be removed from pandas in a future version. Use pandas.concat instead.\n",
            "  DATA[val]['data'] = DATA[val]['data'].append(data.iloc[ix])\n",
            "<ipython-input-112-61ee78683692>:13: FutureWarning: In a future version, object-dtype columns with all-bool values will not be included in reductions with bool_only=True. Explicitly cast to bool dtype instead.\n",
            "  DATA[val]['data'] = DATA[val]['data'].append(data.iloc[ix])\n",
            "<ipython-input-112-61ee78683692>:13: FutureWarning: The frame.append method is deprecated and will be removed from pandas in a future version. Use pandas.concat instead.\n",
            "  DATA[val]['data'] = DATA[val]['data'].append(data.iloc[ix])\n",
            "<ipython-input-112-61ee78683692>:13: FutureWarning: The frame.append method is deprecated and will be removed from pandas in a future version. Use pandas.concat instead.\n",
            "  DATA[val]['data'] = DATA[val]['data'].append(data.iloc[ix])\n",
            "<ipython-input-112-61ee78683692>:13: FutureWarning: In a future version, object-dtype columns with all-bool values will not be included in reductions with bool_only=True. Explicitly cast to bool dtype instead.\n",
            "  DATA[val]['data'] = DATA[val]['data'].append(data.iloc[ix])\n",
            "<ipython-input-112-61ee78683692>:13: FutureWarning: The frame.append method is deprecated and will be removed from pandas in a future version. Use pandas.concat instead.\n",
            "  DATA[val]['data'] = DATA[val]['data'].append(data.iloc[ix])\n",
            "<ipython-input-112-61ee78683692>:13: FutureWarning: In a future version, object-dtype columns with all-bool values will not be included in reductions with bool_only=True. Explicitly cast to bool dtype instead.\n",
            "  DATA[val]['data'] = DATA[val]['data'].append(data.iloc[ix])\n",
            "<ipython-input-112-61ee78683692>:13: FutureWarning: The frame.append method is deprecated and will be removed from pandas in a future version. Use pandas.concat instead.\n",
            "  DATA[val]['data'] = DATA[val]['data'].append(data.iloc[ix])\n",
            "<ipython-input-112-61ee78683692>:13: FutureWarning: The frame.append method is deprecated and will be removed from pandas in a future version. Use pandas.concat instead.\n",
            "  DATA[val]['data'] = DATA[val]['data'].append(data.iloc[ix])\n",
            "<ipython-input-112-61ee78683692>:13: FutureWarning: In a future version, object-dtype columns with all-bool values will not be included in reductions with bool_only=True. Explicitly cast to bool dtype instead.\n",
            "  DATA[val]['data'] = DATA[val]['data'].append(data.iloc[ix])\n",
            "<ipython-input-112-61ee78683692>:13: FutureWarning: The frame.append method is deprecated and will be removed from pandas in a future version. Use pandas.concat instead.\n",
            "  DATA[val]['data'] = DATA[val]['data'].append(data.iloc[ix])\n",
            "<ipython-input-112-61ee78683692>:13: FutureWarning: In a future version, object-dtype columns with all-bool values will not be included in reductions with bool_only=True. Explicitly cast to bool dtype instead.\n",
            "  DATA[val]['data'] = DATA[val]['data'].append(data.iloc[ix])\n",
            "<ipython-input-112-61ee78683692>:13: FutureWarning: The frame.append method is deprecated and will be removed from pandas in a future version. Use pandas.concat instead.\n",
            "  DATA[val]['data'] = DATA[val]['data'].append(data.iloc[ix])\n",
            "<ipython-input-112-61ee78683692>:13: FutureWarning: The frame.append method is deprecated and will be removed from pandas in a future version. Use pandas.concat instead.\n",
            "  DATA[val]['data'] = DATA[val]['data'].append(data.iloc[ix])\n",
            "<ipython-input-112-61ee78683692>:13: FutureWarning: The frame.append method is deprecated and will be removed from pandas in a future version. Use pandas.concat instead.\n",
            "  DATA[val]['data'] = DATA[val]['data'].append(data.iloc[ix])\n",
            "<ipython-input-112-61ee78683692>:13: FutureWarning: In a future version, object-dtype columns with all-bool values will not be included in reductions with bool_only=True. Explicitly cast to bool dtype instead.\n",
            "  DATA[val]['data'] = DATA[val]['data'].append(data.iloc[ix])\n",
            "<ipython-input-112-61ee78683692>:13: FutureWarning: The frame.append method is deprecated and will be removed from pandas in a future version. Use pandas.concat instead.\n",
            "  DATA[val]['data'] = DATA[val]['data'].append(data.iloc[ix])\n",
            "<ipython-input-112-61ee78683692>:13: FutureWarning: The frame.append method is deprecated and will be removed from pandas in a future version. Use pandas.concat instead.\n",
            "  DATA[val]['data'] = DATA[val]['data'].append(data.iloc[ix])\n",
            "<ipython-input-112-61ee78683692>:13: FutureWarning: The frame.append method is deprecated and will be removed from pandas in a future version. Use pandas.concat instead.\n",
            "  DATA[val]['data'] = DATA[val]['data'].append(data.iloc[ix])\n",
            "<ipython-input-112-61ee78683692>:13: FutureWarning: In a future version, object-dtype columns with all-bool values will not be included in reductions with bool_only=True. Explicitly cast to bool dtype instead.\n",
            "  DATA[val]['data'] = DATA[val]['data'].append(data.iloc[ix])\n",
            "<ipython-input-112-61ee78683692>:13: FutureWarning: The frame.append method is deprecated and will be removed from pandas in a future version. Use pandas.concat instead.\n",
            "  DATA[val]['data'] = DATA[val]['data'].append(data.iloc[ix])\n",
            "<ipython-input-112-61ee78683692>:13: FutureWarning: The frame.append method is deprecated and will be removed from pandas in a future version. Use pandas.concat instead.\n",
            "  DATA[val]['data'] = DATA[val]['data'].append(data.iloc[ix])\n",
            "<ipython-input-112-61ee78683692>:13: FutureWarning: In a future version, object-dtype columns with all-bool values will not be included in reductions with bool_only=True. Explicitly cast to bool dtype instead.\n",
            "  DATA[val]['data'] = DATA[val]['data'].append(data.iloc[ix])\n",
            "<ipython-input-112-61ee78683692>:13: FutureWarning: The frame.append method is deprecated and will be removed from pandas in a future version. Use pandas.concat instead.\n",
            "  DATA[val]['data'] = DATA[val]['data'].append(data.iloc[ix])\n",
            "<ipython-input-112-61ee78683692>:13: FutureWarning: In a future version, object-dtype columns with all-bool values will not be included in reductions with bool_only=True. Explicitly cast to bool dtype instead.\n",
            "  DATA[val]['data'] = DATA[val]['data'].append(data.iloc[ix])\n",
            "<ipython-input-112-61ee78683692>:13: FutureWarning: The frame.append method is deprecated and will be removed from pandas in a future version. Use pandas.concat instead.\n",
            "  DATA[val]['data'] = DATA[val]['data'].append(data.iloc[ix])\n",
            "<ipython-input-112-61ee78683692>:13: FutureWarning: The frame.append method is deprecated and will be removed from pandas in a future version. Use pandas.concat instead.\n",
            "  DATA[val]['data'] = DATA[val]['data'].append(data.iloc[ix])\n",
            "<ipython-input-112-61ee78683692>:13: FutureWarning: In a future version, object-dtype columns with all-bool values will not be included in reductions with bool_only=True. Explicitly cast to bool dtype instead.\n",
            "  DATA[val]['data'] = DATA[val]['data'].append(data.iloc[ix])\n",
            "<ipython-input-112-61ee78683692>:13: FutureWarning: The frame.append method is deprecated and will be removed from pandas in a future version. Use pandas.concat instead.\n",
            "  DATA[val]['data'] = DATA[val]['data'].append(data.iloc[ix])\n",
            "<ipython-input-112-61ee78683692>:13: FutureWarning: In a future version, object-dtype columns with all-bool values will not be included in reductions with bool_only=True. Explicitly cast to bool dtype instead.\n",
            "  DATA[val]['data'] = DATA[val]['data'].append(data.iloc[ix])\n",
            "<ipython-input-112-61ee78683692>:13: FutureWarning: The frame.append method is deprecated and will be removed from pandas in a future version. Use pandas.concat instead.\n",
            "  DATA[val]['data'] = DATA[val]['data'].append(data.iloc[ix])\n",
            "<ipython-input-112-61ee78683692>:13: FutureWarning: The frame.append method is deprecated and will be removed from pandas in a future version. Use pandas.concat instead.\n",
            "  DATA[val]['data'] = DATA[val]['data'].append(data.iloc[ix])\n",
            "<ipython-input-112-61ee78683692>:13: FutureWarning: In a future version, object-dtype columns with all-bool values will not be included in reductions with bool_only=True. Explicitly cast to bool dtype instead.\n",
            "  DATA[val]['data'] = DATA[val]['data'].append(data.iloc[ix])\n",
            "<ipython-input-112-61ee78683692>:13: FutureWarning: The frame.append method is deprecated and will be removed from pandas in a future version. Use pandas.concat instead.\n",
            "  DATA[val]['data'] = DATA[val]['data'].append(data.iloc[ix])\n",
            "<ipython-input-112-61ee78683692>:13: FutureWarning: The frame.append method is deprecated and will be removed from pandas in a future version. Use pandas.concat instead.\n",
            "  DATA[val]['data'] = DATA[val]['data'].append(data.iloc[ix])\n",
            "<ipython-input-112-61ee78683692>:13: FutureWarning: The frame.append method is deprecated and will be removed from pandas in a future version. Use pandas.concat instead.\n",
            "  DATA[val]['data'] = DATA[val]['data'].append(data.iloc[ix])\n",
            "<ipython-input-112-61ee78683692>:13: FutureWarning: The frame.append method is deprecated and will be removed from pandas in a future version. Use pandas.concat instead.\n",
            "  DATA[val]['data'] = DATA[val]['data'].append(data.iloc[ix])\n",
            "<ipython-input-112-61ee78683692>:13: FutureWarning: The frame.append method is deprecated and will be removed from pandas in a future version. Use pandas.concat instead.\n",
            "  DATA[val]['data'] = DATA[val]['data'].append(data.iloc[ix])\n",
            "<ipython-input-112-61ee78683692>:13: FutureWarning: The frame.append method is deprecated and will be removed from pandas in a future version. Use pandas.concat instead.\n",
            "  DATA[val]['data'] = DATA[val]['data'].append(data.iloc[ix])\n",
            "<ipython-input-112-61ee78683692>:13: FutureWarning: In a future version, object-dtype columns with all-bool values will not be included in reductions with bool_only=True. Explicitly cast to bool dtype instead.\n",
            "  DATA[val]['data'] = DATA[val]['data'].append(data.iloc[ix])\n",
            "<ipython-input-112-61ee78683692>:13: FutureWarning: The frame.append method is deprecated and will be removed from pandas in a future version. Use pandas.concat instead.\n",
            "  DATA[val]['data'] = DATA[val]['data'].append(data.iloc[ix])\n",
            "<ipython-input-112-61ee78683692>:13: FutureWarning: The frame.append method is deprecated and will be removed from pandas in a future version. Use pandas.concat instead.\n",
            "  DATA[val]['data'] = DATA[val]['data'].append(data.iloc[ix])\n",
            "<ipython-input-112-61ee78683692>:13: FutureWarning: In a future version, object-dtype columns with all-bool values will not be included in reductions with bool_only=True. Explicitly cast to bool dtype instead.\n",
            "  DATA[val]['data'] = DATA[val]['data'].append(data.iloc[ix])\n",
            "<ipython-input-112-61ee78683692>:13: FutureWarning: The frame.append method is deprecated and will be removed from pandas in a future version. Use pandas.concat instead.\n",
            "  DATA[val]['data'] = DATA[val]['data'].append(data.iloc[ix])\n",
            "<ipython-input-112-61ee78683692>:13: FutureWarning: The frame.append method is deprecated and will be removed from pandas in a future version. Use pandas.concat instead.\n",
            "  DATA[val]['data'] = DATA[val]['data'].append(data.iloc[ix])\n",
            "<ipython-input-112-61ee78683692>:13: FutureWarning: In a future version, object-dtype columns with all-bool values will not be included in reductions with bool_only=True. Explicitly cast to bool dtype instead.\n",
            "  DATA[val]['data'] = DATA[val]['data'].append(data.iloc[ix])\n",
            "<ipython-input-112-61ee78683692>:13: FutureWarning: The frame.append method is deprecated and will be removed from pandas in a future version. Use pandas.concat instead.\n",
            "  DATA[val]['data'] = DATA[val]['data'].append(data.iloc[ix])\n",
            "<ipython-input-112-61ee78683692>:13: FutureWarning: In a future version, object-dtype columns with all-bool values will not be included in reductions with bool_only=True. Explicitly cast to bool dtype instead.\n",
            "  DATA[val]['data'] = DATA[val]['data'].append(data.iloc[ix])\n",
            "<ipython-input-112-61ee78683692>:13: FutureWarning: The frame.append method is deprecated and will be removed from pandas in a future version. Use pandas.concat instead.\n",
            "  DATA[val]['data'] = DATA[val]['data'].append(data.iloc[ix])\n",
            "<ipython-input-112-61ee78683692>:13: FutureWarning: In a future version, object-dtype columns with all-bool values will not be included in reductions with bool_only=True. Explicitly cast to bool dtype instead.\n",
            "  DATA[val]['data'] = DATA[val]['data'].append(data.iloc[ix])\n",
            "<ipython-input-112-61ee78683692>:13: FutureWarning: The frame.append method is deprecated and will be removed from pandas in a future version. Use pandas.concat instead.\n",
            "  DATA[val]['data'] = DATA[val]['data'].append(data.iloc[ix])\n",
            "<ipython-input-112-61ee78683692>:13: FutureWarning: The frame.append method is deprecated and will be removed from pandas in a future version. Use pandas.concat instead.\n",
            "  DATA[val]['data'] = DATA[val]['data'].append(data.iloc[ix])\n",
            "<ipython-input-112-61ee78683692>:13: FutureWarning: The frame.append method is deprecated and will be removed from pandas in a future version. Use pandas.concat instead.\n",
            "  DATA[val]['data'] = DATA[val]['data'].append(data.iloc[ix])\n",
            "<ipython-input-112-61ee78683692>:13: FutureWarning: The frame.append method is deprecated and will be removed from pandas in a future version. Use pandas.concat instead.\n",
            "  DATA[val]['data'] = DATA[val]['data'].append(data.iloc[ix])\n",
            "<ipython-input-112-61ee78683692>:13: FutureWarning: In a future version, object-dtype columns with all-bool values will not be included in reductions with bool_only=True. Explicitly cast to bool dtype instead.\n",
            "  DATA[val]['data'] = DATA[val]['data'].append(data.iloc[ix])\n",
            "<ipython-input-112-61ee78683692>:13: FutureWarning: The frame.append method is deprecated and will be removed from pandas in a future version. Use pandas.concat instead.\n",
            "  DATA[val]['data'] = DATA[val]['data'].append(data.iloc[ix])\n",
            "<ipython-input-112-61ee78683692>:13: FutureWarning: The frame.append method is deprecated and will be removed from pandas in a future version. Use pandas.concat instead.\n",
            "  DATA[val]['data'] = DATA[val]['data'].append(data.iloc[ix])\n",
            "<ipython-input-112-61ee78683692>:13: FutureWarning: The frame.append method is deprecated and will be removed from pandas in a future version. Use pandas.concat instead.\n",
            "  DATA[val]['data'] = DATA[val]['data'].append(data.iloc[ix])\n",
            "<ipython-input-112-61ee78683692>:13: FutureWarning: In a future version, object-dtype columns with all-bool values will not be included in reductions with bool_only=True. Explicitly cast to bool dtype instead.\n",
            "  DATA[val]['data'] = DATA[val]['data'].append(data.iloc[ix])\n",
            "<ipython-input-112-61ee78683692>:13: FutureWarning: The frame.append method is deprecated and will be removed from pandas in a future version. Use pandas.concat instead.\n",
            "  DATA[val]['data'] = DATA[val]['data'].append(data.iloc[ix])\n",
            "<ipython-input-112-61ee78683692>:13: FutureWarning: In a future version, object-dtype columns with all-bool values will not be included in reductions with bool_only=True. Explicitly cast to bool dtype instead.\n",
            "  DATA[val]['data'] = DATA[val]['data'].append(data.iloc[ix])\n",
            "<ipython-input-112-61ee78683692>:13: FutureWarning: The frame.append method is deprecated and will be removed from pandas in a future version. Use pandas.concat instead.\n",
            "  DATA[val]['data'] = DATA[val]['data'].append(data.iloc[ix])\n",
            "<ipython-input-112-61ee78683692>:13: FutureWarning: The frame.append method is deprecated and will be removed from pandas in a future version. Use pandas.concat instead.\n",
            "  DATA[val]['data'] = DATA[val]['data'].append(data.iloc[ix])\n",
            "<ipython-input-112-61ee78683692>:13: FutureWarning: The frame.append method is deprecated and will be removed from pandas in a future version. Use pandas.concat instead.\n",
            "  DATA[val]['data'] = DATA[val]['data'].append(data.iloc[ix])\n",
            "<ipython-input-112-61ee78683692>:13: FutureWarning: In a future version, object-dtype columns with all-bool values will not be included in reductions with bool_only=True. Explicitly cast to bool dtype instead.\n",
            "  DATA[val]['data'] = DATA[val]['data'].append(data.iloc[ix])\n",
            "<ipython-input-112-61ee78683692>:13: FutureWarning: The frame.append method is deprecated and will be removed from pandas in a future version. Use pandas.concat instead.\n",
            "  DATA[val]['data'] = DATA[val]['data'].append(data.iloc[ix])\n",
            "<ipython-input-112-61ee78683692>:13: FutureWarning: In a future version, object-dtype columns with all-bool values will not be included in reductions with bool_only=True. Explicitly cast to bool dtype instead.\n",
            "  DATA[val]['data'] = DATA[val]['data'].append(data.iloc[ix])\n",
            "<ipython-input-112-61ee78683692>:13: FutureWarning: The frame.append method is deprecated and will be removed from pandas in a future version. Use pandas.concat instead.\n",
            "  DATA[val]['data'] = DATA[val]['data'].append(data.iloc[ix])\n",
            "<ipython-input-112-61ee78683692>:13: FutureWarning: The frame.append method is deprecated and will be removed from pandas in a future version. Use pandas.concat instead.\n",
            "  DATA[val]['data'] = DATA[val]['data'].append(data.iloc[ix])\n",
            "<ipython-input-112-61ee78683692>:13: FutureWarning: In a future version, object-dtype columns with all-bool values will not be included in reductions with bool_only=True. Explicitly cast to bool dtype instead.\n",
            "  DATA[val]['data'] = DATA[val]['data'].append(data.iloc[ix])\n",
            "<ipython-input-112-61ee78683692>:13: FutureWarning: The frame.append method is deprecated and will be removed from pandas in a future version. Use pandas.concat instead.\n",
            "  DATA[val]['data'] = DATA[val]['data'].append(data.iloc[ix])\n",
            "<ipython-input-112-61ee78683692>:13: FutureWarning: In a future version, object-dtype columns with all-bool values will not be included in reductions with bool_only=True. Explicitly cast to bool dtype instead.\n",
            "  DATA[val]['data'] = DATA[val]['data'].append(data.iloc[ix])\n",
            "<ipython-input-112-61ee78683692>:13: FutureWarning: The frame.append method is deprecated and will be removed from pandas in a future version. Use pandas.concat instead.\n",
            "  DATA[val]['data'] = DATA[val]['data'].append(data.iloc[ix])\n",
            "<ipython-input-112-61ee78683692>:13: FutureWarning: In a future version, object-dtype columns with all-bool values will not be included in reductions with bool_only=True. Explicitly cast to bool dtype instead.\n",
            "  DATA[val]['data'] = DATA[val]['data'].append(data.iloc[ix])\n"
          ]
        }
      ]
    },
    {
      "cell_type": "code",
      "source": [
        "model"
      ],
      "metadata": {
        "colab": {
          "base_uri": "https://localhost:8080/"
        },
        "id": "sT-IoUtz1OQ_",
        "outputId": "208229a3-fe47-4407-aa32-d54567bc8735"
      },
      "execution_count": 122,
      "outputs": [
        {
          "output_type": "execute_result",
          "data": {
            "text/plain": [
              "<__main__.DecisionTree at 0x7d527bd9a170>"
            ]
          },
          "metadata": {},
          "execution_count": 122
        }
      ]
    },
    {
      "cell_type": "code",
      "source": [
        "model.target"
      ],
      "metadata": {
        "colab": {
          "base_uri": "https://localhost:8080/",
          "height": 35
        },
        "id": "yG33uE6_1QDP",
        "outputId": "27b28cd7-6c76-47ec-8673-12b7c7fe7293"
      },
      "execution_count": 123,
      "outputs": [
        {
          "output_type": "execute_result",
          "data": {
            "text/plain": [
              "'Yes'"
            ],
            "application/vnd.google.colaboratory.intrinsic+json": {
              "type": "string"
            }
          },
          "metadata": {},
          "execution_count": 123
        }
      ]
    },
    {
      "cell_type": "code",
      "source": [
        "model.fkey"
      ],
      "metadata": {
        "colab": {
          "base_uri": "https://localhost:8080/",
          "height": 35
        },
        "id": "D8ofqzsc1UE4",
        "outputId": "2802f58e-9ad2-4c11-f761-6aa83a7c93c6"
      },
      "execution_count": 124,
      "outputs": [
        {
          "output_type": "execute_result",
          "data": {
            "text/plain": [
              "'Outlook'"
            ],
            "application/vnd.google.colaboratory.intrinsic+json": {
              "type": "string"
            }
          },
          "metadata": {},
          "execution_count": 124
        }
      ]
    },
    {
      "cell_type": "code",
      "source": [
        "model.children"
      ],
      "metadata": {
        "colab": {
          "base_uri": "https://localhost:8080/"
        },
        "id": "cwGDDeMT1dEL",
        "outputId": "79562bf6-a279-477b-978d-e606b6b4cae4"
      },
      "execution_count": 125,
      "outputs": [
        {
          "output_type": "execute_result",
          "data": {
            "text/plain": [
              "{'Rainy': <__main__.DecisionTree at 0x7d527bd9b550>,\n",
              " 'Sunny': <__main__.DecisionTree at 0x7d527bd9a380>,\n",
              " 'Overcast': <__main__.DecisionTree at 0x7d527b948100>}"
            ]
          },
          "metadata": {},
          "execution_count": 125
        }
      ]
    },
    {
      "cell_type": "code",
      "source": [
        "model.children['Sunny']"
      ],
      "metadata": {
        "colab": {
          "base_uri": "https://localhost:8080/"
        },
        "id": "9RC1nQgx1jx4",
        "outputId": "be88e6c9-a80b-44c2-bd20-7efa11d1f891"
      },
      "execution_count": 126,
      "outputs": [
        {
          "output_type": "execute_result",
          "data": {
            "text/plain": [
              "<__main__.DecisionTree at 0x7d527bd9a380>"
            ]
          },
          "metadata": {},
          "execution_count": 126
        }
      ]
    },
    {
      "cell_type": "code",
      "source": [
        "model.children['Sunny'].fkey"
      ],
      "metadata": {
        "colab": {
          "base_uri": "https://localhost:8080/",
          "height": 35
        },
        "id": "xxheU-d71nHb",
        "outputId": "e40e49ff-b1cc-42a9-e166-72cf0eb77c89"
      },
      "execution_count": 127,
      "outputs": [
        {
          "output_type": "execute_result",
          "data": {
            "text/plain": [
              "'Windy'"
            ],
            "application/vnd.google.colaboratory.intrinsic+json": {
              "type": "string"
            }
          },
          "metadata": {},
          "execution_count": 127
        }
      ]
    },
    {
      "cell_type": "code",
      "source": [
        "model.children['Sunny'].children"
      ],
      "metadata": {
        "colab": {
          "base_uri": "https://localhost:8080/"
        },
        "id": "6AZFNtqB1vZF",
        "outputId": "da1fe83d-42cb-4835-9a97-14c2821948b5"
      },
      "execution_count": 128,
      "outputs": [
        {
          "output_type": "execute_result",
          "data": {
            "text/plain": [
              "{False: <__main__.DecisionTree at 0x7d527bd9b5e0>,\n",
              " True: <__main__.DecisionTree at 0x7d527b94a950>}"
            ]
          },
          "metadata": {},
          "execution_count": 128
        }
      ]
    },
    {
      "cell_type": "code",
      "source": [
        "x_test = pd.DataFrame([['Overcast','hot','high',False]],columns=list(df.columns.values[:-1]))"
      ],
      "metadata": {
        "id": "yhHou4mI6L6T"
      },
      "execution_count": 132,
      "outputs": []
    },
    {
      "cell_type": "code",
      "source": [
        "x_test"
      ],
      "metadata": {
        "colab": {
          "base_uri": "https://localhost:8080/",
          "height": 89
        },
        "id": "3mrr8QUd6nq1",
        "outputId": "43c60f62-c0e8-4a24-886b-f13c8e439a5e"
      },
      "execution_count": 130,
      "outputs": [
        {
          "output_type": "execute_result",
          "data": {
            "text/plain": [
              "    Outlook Temp Humidity  Windy\n",
              "0  overcast  hot     high  False"
            ],
            "text/html": [
              "\n",
              "  <div id=\"df-dfeadc33-216e-4e3c-8043-68940e4de43a\" class=\"colab-df-container\">\n",
              "    <div>\n",
              "<style scoped>\n",
              "    .dataframe tbody tr th:only-of-type {\n",
              "        vertical-align: middle;\n",
              "    }\n",
              "\n",
              "    .dataframe tbody tr th {\n",
              "        vertical-align: top;\n",
              "    }\n",
              "\n",
              "    .dataframe thead th {\n",
              "        text-align: right;\n",
              "    }\n",
              "</style>\n",
              "<table border=\"1\" class=\"dataframe\">\n",
              "  <thead>\n",
              "    <tr style=\"text-align: right;\">\n",
              "      <th></th>\n",
              "      <th>Outlook</th>\n",
              "      <th>Temp</th>\n",
              "      <th>Humidity</th>\n",
              "      <th>Windy</th>\n",
              "    </tr>\n",
              "  </thead>\n",
              "  <tbody>\n",
              "    <tr>\n",
              "      <th>0</th>\n",
              "      <td>overcast</td>\n",
              "      <td>hot</td>\n",
              "      <td>high</td>\n",
              "      <td>False</td>\n",
              "    </tr>\n",
              "  </tbody>\n",
              "</table>\n",
              "</div>\n",
              "    <div class=\"colab-df-buttons\">\n",
              "\n",
              "  <div class=\"colab-df-container\">\n",
              "    <button class=\"colab-df-convert\" onclick=\"convertToInteractive('df-dfeadc33-216e-4e3c-8043-68940e4de43a')\"\n",
              "            title=\"Convert this dataframe to an interactive table.\"\n",
              "            style=\"display:none;\">\n",
              "\n",
              "  <svg xmlns=\"http://www.w3.org/2000/svg\" height=\"24px\" viewBox=\"0 -960 960 960\">\n",
              "    <path d=\"M120-120v-720h720v720H120Zm60-500h600v-160H180v160Zm220 220h160v-160H400v160Zm0 220h160v-160H400v160ZM180-400h160v-160H180v160Zm440 0h160v-160H620v160ZM180-180h160v-160H180v160Zm440 0h160v-160H620v160Z\"/>\n",
              "  </svg>\n",
              "    </button>\n",
              "\n",
              "  <style>\n",
              "    .colab-df-container {\n",
              "      display:flex;\n",
              "      gap: 12px;\n",
              "    }\n",
              "\n",
              "    .colab-df-convert {\n",
              "      background-color: #E8F0FE;\n",
              "      border: none;\n",
              "      border-radius: 50%;\n",
              "      cursor: pointer;\n",
              "      display: none;\n",
              "      fill: #1967D2;\n",
              "      height: 32px;\n",
              "      padding: 0 0 0 0;\n",
              "      width: 32px;\n",
              "    }\n",
              "\n",
              "    .colab-df-convert:hover {\n",
              "      background-color: #E2EBFA;\n",
              "      box-shadow: 0px 1px 2px rgba(60, 64, 67, 0.3), 0px 1px 3px 1px rgba(60, 64, 67, 0.15);\n",
              "      fill: #174EA6;\n",
              "    }\n",
              "\n",
              "    .colab-df-buttons div {\n",
              "      margin-bottom: 4px;\n",
              "    }\n",
              "\n",
              "    [theme=dark] .colab-df-convert {\n",
              "      background-color: #3B4455;\n",
              "      fill: #D2E3FC;\n",
              "    }\n",
              "\n",
              "    [theme=dark] .colab-df-convert:hover {\n",
              "      background-color: #434B5C;\n",
              "      box-shadow: 0px 1px 3px 1px rgba(0, 0, 0, 0.15);\n",
              "      filter: drop-shadow(0px 1px 2px rgba(0, 0, 0, 0.3));\n",
              "      fill: #FFFFFF;\n",
              "    }\n",
              "  </style>\n",
              "\n",
              "    <script>\n",
              "      const buttonEl =\n",
              "        document.querySelector('#df-dfeadc33-216e-4e3c-8043-68940e4de43a button.colab-df-convert');\n",
              "      buttonEl.style.display =\n",
              "        google.colab.kernel.accessAllowed ? 'block' : 'none';\n",
              "\n",
              "      async function convertToInteractive(key) {\n",
              "        const element = document.querySelector('#df-dfeadc33-216e-4e3c-8043-68940e4de43a');\n",
              "        const dataTable =\n",
              "          await google.colab.kernel.invokeFunction('convertToInteractive',\n",
              "                                                    [key], {});\n",
              "        if (!dataTable) return;\n",
              "\n",
              "        const docLinkHtml = 'Like what you see? Visit the ' +\n",
              "          '<a target=\"_blank\" href=https://colab.research.google.com/notebooks/data_table.ipynb>data table notebook</a>'\n",
              "          + ' to learn more about interactive tables.';\n",
              "        element.innerHTML = '';\n",
              "        dataTable['output_type'] = 'display_data';\n",
              "        await google.colab.output.renderOutput(dataTable, element);\n",
              "        const docLink = document.createElement('div');\n",
              "        docLink.innerHTML = docLinkHtml;\n",
              "        element.appendChild(docLink);\n",
              "      }\n",
              "    </script>\n",
              "  </div>\n",
              "\n",
              "\n",
              "  <div id=\"id_146f3434-9faf-4653-a084-50fa1a2d5273\">\n",
              "    <style>\n",
              "      .colab-df-generate {\n",
              "        background-color: #E8F0FE;\n",
              "        border: none;\n",
              "        border-radius: 50%;\n",
              "        cursor: pointer;\n",
              "        display: none;\n",
              "        fill: #1967D2;\n",
              "        height: 32px;\n",
              "        padding: 0 0 0 0;\n",
              "        width: 32px;\n",
              "      }\n",
              "\n",
              "      .colab-df-generate:hover {\n",
              "        background-color: #E2EBFA;\n",
              "        box-shadow: 0px 1px 2px rgba(60, 64, 67, 0.3), 0px 1px 3px 1px rgba(60, 64, 67, 0.15);\n",
              "        fill: #174EA6;\n",
              "      }\n",
              "\n",
              "      [theme=dark] .colab-df-generate {\n",
              "        background-color: #3B4455;\n",
              "        fill: #D2E3FC;\n",
              "      }\n",
              "\n",
              "      [theme=dark] .colab-df-generate:hover {\n",
              "        background-color: #434B5C;\n",
              "        box-shadow: 0px 1px 3px 1px rgba(0, 0, 0, 0.15);\n",
              "        filter: drop-shadow(0px 1px 2px rgba(0, 0, 0, 0.3));\n",
              "        fill: #FFFFFF;\n",
              "      }\n",
              "    </style>\n",
              "    <button class=\"colab-df-generate\" onclick=\"generateWithVariable('x_test')\"\n",
              "            title=\"Generate code using this dataframe.\"\n",
              "            style=\"display:none;\">\n",
              "\n",
              "  <svg xmlns=\"http://www.w3.org/2000/svg\" height=\"24px\"viewBox=\"0 0 24 24\"\n",
              "       width=\"24px\">\n",
              "    <path d=\"M7,19H8.4L18.45,9,17,7.55,7,17.6ZM5,21V16.75L18.45,3.32a2,2,0,0,1,2.83,0l1.4,1.43a1.91,1.91,0,0,1,.58,1.4,1.91,1.91,0,0,1-.58,1.4L9.25,21ZM18.45,9,17,7.55Zm-12,3A5.31,5.31,0,0,0,4.9,8.1,5.31,5.31,0,0,0,1,6.5,5.31,5.31,0,0,0,4.9,4.9,5.31,5.31,0,0,0,6.5,1,5.31,5.31,0,0,0,8.1,4.9,5.31,5.31,0,0,0,12,6.5,5.46,5.46,0,0,0,6.5,12Z\"/>\n",
              "  </svg>\n",
              "    </button>\n",
              "    <script>\n",
              "      (() => {\n",
              "      const buttonEl =\n",
              "        document.querySelector('#id_146f3434-9faf-4653-a084-50fa1a2d5273 button.colab-df-generate');\n",
              "      buttonEl.style.display =\n",
              "        google.colab.kernel.accessAllowed ? 'block' : 'none';\n",
              "\n",
              "      buttonEl.onclick = () => {\n",
              "        google.colab.notebook.generateWithVariable('x_test');\n",
              "      }\n",
              "      })();\n",
              "    </script>\n",
              "  </div>\n",
              "\n",
              "    </div>\n",
              "  </div>\n"
            ]
          },
          "metadata": {},
          "execution_count": 130
        }
      ]
    },
    {
      "cell_type": "code",
      "source": [
        "model.predict(x_test)"
      ],
      "metadata": {
        "colab": {
          "base_uri": "https://localhost:8080/",
          "height": 35
        },
        "id": "C1H-8g7r7jK0",
        "outputId": "b605521b-6f34-4025-8264-619e965664d4"
      },
      "execution_count": 133,
      "outputs": [
        {
          "output_type": "execute_result",
          "data": {
            "text/plain": [
              "'Yes'"
            ],
            "application/vnd.google.colaboratory.intrinsic+json": {
              "type": "string"
            }
          },
          "metadata": {},
          "execution_count": 133
        }
      ]
    }
  ]
}